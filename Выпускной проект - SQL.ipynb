{
 "cells": [
  {
   "cell_type": "markdown",
   "id": "1b1fb7c2",
   "metadata": {},
   "source": [
    "# Проектная работа\n",
    "# Исследование книжного рынка"
   ]
  },
  {
   "cell_type": "markdown",
   "id": "7cf6c8b0",
   "metadata": {},
   "source": [
    "# Описание исследования\n",
    "Коронавирус застал мир врасплох, изменив привычный порядок вещей. В свободное время жители городов больше не выходят на улицу, не посещают кафе и торговые центры. Зато стало больше времени для книг. Это заметили стартаперы — и бросились создавать приложения для тех, кто любит читать. <br>\n",
    "Ваша компания решила быть на волне и купила крупный сервис для чтения книг по подписке. Ваша первая задача как аналитика — проанализировать базу данных. <br>\n",
    "В ней — информация о книгах, издательствах, авторах, а также пользовательские обзоры книг. Эти данные помогут сформулировать ценностное предложение для нового продукта."
   ]
  },
  {
   "cell_type": "markdown",
   "id": "0555703b",
   "metadata": {},
   "source": [
    "# Цель исследования\n",
    "Проанализировать базу данных для формулирования ценностного предложение для нового продукта."
   ]
  },
  {
   "cell_type": "markdown",
   "id": "e7cec925",
   "metadata": {},
   "source": [
    "# Задания\n",
    "\n",
    "1. Посчитайте, сколько книг вышло после 1 января 2000 года;\n",
    "2. Для каждой книги посчитайте количество обзоров и среднюю оценку;\n",
    "3. Определите издательство, которое выпустило наибольшее число книг толще 50 страниц — так вы исключите из анализа брошюры;\n",
    "4. Определите автора с самой высокой средней оценкой книг — учитывайте только книги с 50 и более оценками;\n",
    "5. Посчитайте среднее количество обзоров от пользователей, которые поставили больше 48 оценок."
   ]
  },
  {
   "cell_type": "markdown",
   "id": "923be7af",
   "metadata": {},
   "source": [
    "# Описание данных\n",
    "**Таблица `books`**\n",
    "\n",
    "Содержит данные о книгах:\n",
    "\n",
    "- `book_id` — идентификатор книги;\n",
    "- `author_id` — идентификатор автора;\n",
    "- `title` — название книги;\n",
    "- `num_pages` — количество страниц;\n",
    "- `publication_date` — дата публикации книги;\n",
    "- `publisher_id` — идентификатор издателя.\n",
    "\n",
    "**Таблица `authors`**\n",
    "\n",
    "Содержит данные об авторах:\n",
    "\n",
    "- `author_id` — идентификатор автора;\n",
    "- `author` — имя автора.\n",
    "\n",
    "**Таблица `publishers`**\n",
    "\n",
    "Содержит данные об издательствах:\n",
    "\n",
    "- `publisher_id` — идентификатор издательства;\n",
    "- `publisher` — название издательства;\n",
    "\n",
    "**Таблица `ratings`**\n",
    "\n",
    "Содержит данные о пользовательских оценках книг:\n",
    "\n",
    "- `rating_id` — идентификатор оценки;\n",
    "- `book_id` — идентификатор книги;\n",
    "- `username` — имя пользователя, оставившего оценку;\n",
    "- `rating` — оценка книги.\n",
    "\n",
    "**Таблица `reviews`**\n",
    "\n",
    "Содержит данные о пользовательских обзорах на книги:\n",
    "\n",
    "- `review_id` — идентификатор обзора;\n",
    "- `book_id` — идентификатор книги;\n",
    "- `username` — имя пользователя, написавшего обзор;\n",
    "- `text` — текст обзора."
   ]
  },
  {
   "cell_type": "markdown",
   "id": "45767fee",
   "metadata": {},
   "source": [
    "# Оглавление\n",
    "\n",
    "1. [Импорт библиотек и установка параметров](#start) <br> <br>\n",
    "2. [Исследование таблиц](#data_analysis)\n",
    "    * [Таблица `books`](#books)\n",
    "    * [Таблица `authors`](#authors)\n",
    "    * [Таблица `publishers`](#publishers)\n",
    "    * [Таблица `ratings`](#ratings)\n",
    "    * [Таблица `reviews`](#reviews) <br> <br>\n",
    "3. [Задания](#tasks)\n",
    "    * [Задание 1](#task1)\n",
    "    * [Задание 2](#task2)\n",
    "    * [Задание 3](#task3)\n",
    "    * [Задание 4](#task4)\n",
    "    * [Задание 5](#task5) <br> <br>\n",
    "4. [Итоговый вывод](#final_conclusion)"
   ]
  },
  {
   "cell_type": "markdown",
   "id": "e8aa23db",
   "metadata": {},
   "source": [
    "<a id=\"start\"></a> \n",
    "## Импорт библиотек и установка параметров"
   ]
  },
  {
   "cell_type": "code",
   "execution_count": 1,
   "id": "8cd79443",
   "metadata": {},
   "outputs": [],
   "source": [
    "# импортируем библиотеки\n",
    "import pandas as pd\n",
    "from sqlalchemy import text, create_engine"
   ]
  },
  {
   "cell_type": "code",
   "execution_count": 2,
   "id": "c3e74405",
   "metadata": {},
   "outputs": [],
   "source": [
    "# устанавливаем параметры\n",
    "db_config = {'user': 'praktikum_student', # имя пользователя\n",
    "'pwd': 'Sdf4$2;d-d30pp', # пароль\n",
    "'host': 'rc1b-wcoijxj3yxfsf3fs.mdb.yandexcloud.net',\n",
    "'port': 6432, # порт подключения\n",
    "'db': 'data-analyst-final-project-db'} # название базы данных\n",
    "connection_string = 'postgresql://{user}:{pwd}@{host}:{port}/{db}'.format(**db_config)\n",
    "\n",
    "# сохраняем коннектор\n",
    "engine = create_engine(connection_string, connect_args={'sslmode':'require'})"
   ]
  },
  {
   "cell_type": "markdown",
   "id": "cc9a4733",
   "metadata": {},
   "source": [
    "<a id=\"data_analysis\"></a> \n",
    "## Исследование таблиц"
   ]
  },
  {
   "cell_type": "markdown",
   "id": "da814241",
   "metadata": {},
   "source": [
    "<a id=\"books\"></a> \n",
    "### Таблица `books`"
   ]
  },
  {
   "cell_type": "code",
   "execution_count": 3,
   "id": "1dc00d2b",
   "metadata": {},
   "outputs": [
    {
     "data": {
      "text/html": [
       "<div>\n",
       "<style scoped>\n",
       "    .dataframe tbody tr th:only-of-type {\n",
       "        vertical-align: middle;\n",
       "    }\n",
       "\n",
       "    .dataframe tbody tr th {\n",
       "        vertical-align: top;\n",
       "    }\n",
       "\n",
       "    .dataframe thead th {\n",
       "        text-align: right;\n",
       "    }\n",
       "</style>\n",
       "<table border=\"1\" class=\"dataframe\">\n",
       "  <thead>\n",
       "    <tr style=\"text-align: right;\">\n",
       "      <th></th>\n",
       "      <th>book_id</th>\n",
       "      <th>author_id</th>\n",
       "      <th>title</th>\n",
       "      <th>num_pages</th>\n",
       "      <th>publication_date</th>\n",
       "      <th>publisher_id</th>\n",
       "    </tr>\n",
       "  </thead>\n",
       "  <tbody>\n",
       "    <tr>\n",
       "      <th>0</th>\n",
       "      <td>1</td>\n",
       "      <td>546</td>\n",
       "      <td>'Salem's Lot</td>\n",
       "      <td>594</td>\n",
       "      <td>2005-11-01</td>\n",
       "      <td>93</td>\n",
       "    </tr>\n",
       "    <tr>\n",
       "      <th>1</th>\n",
       "      <td>2</td>\n",
       "      <td>465</td>\n",
       "      <td>1 000 Places to See Before You Die</td>\n",
       "      <td>992</td>\n",
       "      <td>2003-05-22</td>\n",
       "      <td>336</td>\n",
       "    </tr>\n",
       "    <tr>\n",
       "      <th>2</th>\n",
       "      <td>3</td>\n",
       "      <td>407</td>\n",
       "      <td>13 Little Blue Envelopes (Little Blue Envelope...</td>\n",
       "      <td>322</td>\n",
       "      <td>2010-12-21</td>\n",
       "      <td>135</td>\n",
       "    </tr>\n",
       "    <tr>\n",
       "      <th>3</th>\n",
       "      <td>4</td>\n",
       "      <td>82</td>\n",
       "      <td>1491: New Revelations of the Americas Before C...</td>\n",
       "      <td>541</td>\n",
       "      <td>2006-10-10</td>\n",
       "      <td>309</td>\n",
       "    </tr>\n",
       "    <tr>\n",
       "      <th>4</th>\n",
       "      <td>5</td>\n",
       "      <td>125</td>\n",
       "      <td>1776</td>\n",
       "      <td>386</td>\n",
       "      <td>2006-07-04</td>\n",
       "      <td>268</td>\n",
       "    </tr>\n",
       "  </tbody>\n",
       "</table>\n",
       "</div>"
      ],
      "text/plain": [
       "   book_id  author_id                                              title  \\\n",
       "0        1        546                                       'Salem's Lot   \n",
       "1        2        465                 1 000 Places to See Before You Die   \n",
       "2        3        407  13 Little Blue Envelopes (Little Blue Envelope...   \n",
       "3        4         82  1491: New Revelations of the Americas Before C...   \n",
       "4        5        125                                               1776   \n",
       "\n",
       "   num_pages publication_date  publisher_id  \n",
       "0        594       2005-11-01            93  \n",
       "1        992       2003-05-22           336  \n",
       "2        322       2010-12-21           135  \n",
       "3        541       2006-10-10           309  \n",
       "4        386       2006-07-04           268  "
      ]
     },
     "execution_count": 3,
     "metadata": {},
     "output_type": "execute_result"
    }
   ],
   "source": [
    "query = '''SELECT * FROM books LIMIT 5'''\n",
    "\n",
    "pd.io.sql.read_sql(sql=text(query), con=engine.connect())"
   ]
  },
  {
   "cell_type": "code",
   "execution_count": 4,
   "id": "0a5edef3",
   "metadata": {},
   "outputs": [
    {
     "data": {
      "text/html": [
       "<div>\n",
       "<style scoped>\n",
       "    .dataframe tbody tr th:only-of-type {\n",
       "        vertical-align: middle;\n",
       "    }\n",
       "\n",
       "    .dataframe tbody tr th {\n",
       "        vertical-align: top;\n",
       "    }\n",
       "\n",
       "    .dataframe thead th {\n",
       "        text-align: right;\n",
       "    }\n",
       "</style>\n",
       "<table border=\"1\" class=\"dataframe\">\n",
       "  <thead>\n",
       "    <tr style=\"text-align: right;\">\n",
       "      <th></th>\n",
       "      <th>book_id</th>\n",
       "      <th>author_id</th>\n",
       "      <th>title</th>\n",
       "      <th>num_pages</th>\n",
       "      <th>publication_date</th>\n",
       "      <th>publisher_id</th>\n",
       "    </tr>\n",
       "  </thead>\n",
       "  <tbody>\n",
       "  </tbody>\n",
       "</table>\n",
       "</div>"
      ],
      "text/plain": [
       "Empty DataFrame\n",
       "Columns: [book_id, author_id, title, num_pages, publication_date, publisher_id]\n",
       "Index: []"
      ]
     },
     "execution_count": 4,
     "metadata": {},
     "output_type": "execute_result"
    }
   ],
   "source": [
    "query = '''\n",
    "           SELECT *\n",
    "           FROM books\n",
    "           WHERE \n",
    "                 book_id IS NULL OR\n",
    "                 author_id IS NULL OR\n",
    "                 title IS NULL OR\n",
    "                 num_pages IS NULL OR\n",
    "                 num_pages = 0 OR\n",
    "                 publication_date IS NULL OR\n",
    "                 publisher_id IS NULL\n",
    "        '''\n",
    "\n",
    "pd.io.sql.read_sql(sql=text(query), con=engine.connect())"
   ]
  },
  {
   "cell_type": "markdown",
   "id": "9664f8e6",
   "metadata": {},
   "source": [
    "Пропуски в данных отсутствуют."
   ]
  },
  {
   "cell_type": "code",
   "execution_count": 5,
   "id": "acfb67d3",
   "metadata": {},
   "outputs": [
    {
     "data": {
      "text/html": [
       "<div>\n",
       "<style scoped>\n",
       "    .dataframe tbody tr th:only-of-type {\n",
       "        vertical-align: middle;\n",
       "    }\n",
       "\n",
       "    .dataframe tbody tr th {\n",
       "        vertical-align: top;\n",
       "    }\n",
       "\n",
       "    .dataframe thead th {\n",
       "        text-align: right;\n",
       "    }\n",
       "</style>\n",
       "<table border=\"1\" class=\"dataframe\">\n",
       "  <thead>\n",
       "    <tr style=\"text-align: right;\">\n",
       "      <th></th>\n",
       "      <th>count</th>\n",
       "      <th>count</th>\n",
       "    </tr>\n",
       "  </thead>\n",
       "  <tbody>\n",
       "    <tr>\n",
       "      <th>0</th>\n",
       "      <td>1000</td>\n",
       "      <td>1000</td>\n",
       "    </tr>\n",
       "  </tbody>\n",
       "</table>\n",
       "</div>"
      ],
      "text/plain": [
       "   count  count\n",
       "0   1000   1000"
      ]
     },
     "execution_count": 5,
     "metadata": {},
     "output_type": "execute_result"
    }
   ],
   "source": [
    "query = '''\n",
    "           SELECT count(book_id),\n",
    "                  count(DISTINCT book_id) \n",
    "           FROM books\n",
    "        '''\n",
    "\n",
    "pd.io.sql.read_sql(sql=text(query), con=engine.connect())"
   ]
  },
  {
   "cell_type": "markdown",
   "id": "7d331306",
   "metadata": {},
   "source": [
    "В таблице `books` хранится информация о 1000 книг."
   ]
  },
  {
   "cell_type": "code",
   "execution_count": 6,
   "id": "939e3f1f",
   "metadata": {},
   "outputs": [
    {
     "data": {
      "text/html": [
       "<div>\n",
       "<style scoped>\n",
       "    .dataframe tbody tr th:only-of-type {\n",
       "        vertical-align: middle;\n",
       "    }\n",
       "\n",
       "    .dataframe tbody tr th {\n",
       "        vertical-align: top;\n",
       "    }\n",
       "\n",
       "    .dataframe thead th {\n",
       "        text-align: right;\n",
       "    }\n",
       "</style>\n",
       "<table border=\"1\" class=\"dataframe\">\n",
       "  <thead>\n",
       "    <tr style=\"text-align: right;\">\n",
       "      <th></th>\n",
       "      <th>min</th>\n",
       "      <th>max</th>\n",
       "    </tr>\n",
       "  </thead>\n",
       "  <tbody>\n",
       "    <tr>\n",
       "      <th>0</th>\n",
       "      <td>1952-12-01</td>\n",
       "      <td>2020-03-31</td>\n",
       "    </tr>\n",
       "  </tbody>\n",
       "</table>\n",
       "</div>"
      ],
      "text/plain": [
       "          min         max\n",
       "0  1952-12-01  2020-03-31"
      ]
     },
     "execution_count": 6,
     "metadata": {},
     "output_type": "execute_result"
    }
   ],
   "source": [
    "query = '''\n",
    "           SELECT MIN(publication_date),\n",
    "                  MAX(publication_date) \n",
    "           FROM books\n",
    "        '''\n",
    "\n",
    "pd.io.sql.read_sql(sql=text(query), con=engine.connect())"
   ]
  },
  {
   "cell_type": "markdown",
   "id": "87453a9a",
   "metadata": {},
   "source": [
    "Минимальная дата публикации книги: 1 января 1952. <br>\n",
    "Максимальная дата публикации книги: 31 марта 2020."
   ]
  },
  {
   "cell_type": "markdown",
   "id": "9e89de44",
   "metadata": {},
   "source": [
    "<a id=\"authors\"></a> \n",
    "### Таблица `authors`"
   ]
  },
  {
   "cell_type": "code",
   "execution_count": 7,
   "id": "f7441671",
   "metadata": {},
   "outputs": [
    {
     "data": {
      "text/html": [
       "<div>\n",
       "<style scoped>\n",
       "    .dataframe tbody tr th:only-of-type {\n",
       "        vertical-align: middle;\n",
       "    }\n",
       "\n",
       "    .dataframe tbody tr th {\n",
       "        vertical-align: top;\n",
       "    }\n",
       "\n",
       "    .dataframe thead th {\n",
       "        text-align: right;\n",
       "    }\n",
       "</style>\n",
       "<table border=\"1\" class=\"dataframe\">\n",
       "  <thead>\n",
       "    <tr style=\"text-align: right;\">\n",
       "      <th></th>\n",
       "      <th>author_id</th>\n",
       "      <th>author</th>\n",
       "    </tr>\n",
       "  </thead>\n",
       "  <tbody>\n",
       "    <tr>\n",
       "      <th>0</th>\n",
       "      <td>1</td>\n",
       "      <td>A.S. Byatt</td>\n",
       "    </tr>\n",
       "    <tr>\n",
       "      <th>1</th>\n",
       "      <td>2</td>\n",
       "      <td>Aesop/Laura Harris/Laura Gibbs</td>\n",
       "    </tr>\n",
       "    <tr>\n",
       "      <th>2</th>\n",
       "      <td>3</td>\n",
       "      <td>Agatha Christie</td>\n",
       "    </tr>\n",
       "    <tr>\n",
       "      <th>3</th>\n",
       "      <td>4</td>\n",
       "      <td>Alan Brennert</td>\n",
       "    </tr>\n",
       "    <tr>\n",
       "      <th>4</th>\n",
       "      <td>5</td>\n",
       "      <td>Alan Moore/David   Lloyd</td>\n",
       "    </tr>\n",
       "  </tbody>\n",
       "</table>\n",
       "</div>"
      ],
      "text/plain": [
       "   author_id                          author\n",
       "0          1                      A.S. Byatt\n",
       "1          2  Aesop/Laura Harris/Laura Gibbs\n",
       "2          3                 Agatha Christie\n",
       "3          4                   Alan Brennert\n",
       "4          5        Alan Moore/David   Lloyd"
      ]
     },
     "execution_count": 7,
     "metadata": {},
     "output_type": "execute_result"
    }
   ],
   "source": [
    "query = '''SELECT * FROM authors LIMIT 5'''\n",
    "\n",
    "pd.io.sql.read_sql(sql=text(query), con=engine.connect())"
   ]
  },
  {
   "cell_type": "code",
   "execution_count": 8,
   "id": "c018c039",
   "metadata": {},
   "outputs": [
    {
     "data": {
      "text/html": [
       "<div>\n",
       "<style scoped>\n",
       "    .dataframe tbody tr th:only-of-type {\n",
       "        vertical-align: middle;\n",
       "    }\n",
       "\n",
       "    .dataframe tbody tr th {\n",
       "        vertical-align: top;\n",
       "    }\n",
       "\n",
       "    .dataframe thead th {\n",
       "        text-align: right;\n",
       "    }\n",
       "</style>\n",
       "<table border=\"1\" class=\"dataframe\">\n",
       "  <thead>\n",
       "    <tr style=\"text-align: right;\">\n",
       "      <th></th>\n",
       "      <th>author_id</th>\n",
       "      <th>author</th>\n",
       "    </tr>\n",
       "  </thead>\n",
       "  <tbody>\n",
       "  </tbody>\n",
       "</table>\n",
       "</div>"
      ],
      "text/plain": [
       "Empty DataFrame\n",
       "Columns: [author_id, author]\n",
       "Index: []"
      ]
     },
     "execution_count": 8,
     "metadata": {},
     "output_type": "execute_result"
    }
   ],
   "source": [
    "query = '''\n",
    "           SELECT *\n",
    "           FROM authors\n",
    "           WHERE \n",
    "                 author_id IS NULL OR\n",
    "                 author IS NULL\n",
    "        '''\n",
    "\n",
    "pd.io.sql.read_sql(sql=text(query), con=engine.connect())"
   ]
  },
  {
   "cell_type": "markdown",
   "id": "5add715e",
   "metadata": {},
   "source": [
    "Пропуски в данных отсутствуют."
   ]
  },
  {
   "cell_type": "code",
   "execution_count": 9,
   "id": "24b721e9",
   "metadata": {},
   "outputs": [
    {
     "data": {
      "text/html": [
       "<div>\n",
       "<style scoped>\n",
       "    .dataframe tbody tr th:only-of-type {\n",
       "        vertical-align: middle;\n",
       "    }\n",
       "\n",
       "    .dataframe tbody tr th {\n",
       "        vertical-align: top;\n",
       "    }\n",
       "\n",
       "    .dataframe thead th {\n",
       "        text-align: right;\n",
       "    }\n",
       "</style>\n",
       "<table border=\"1\" class=\"dataframe\">\n",
       "  <thead>\n",
       "    <tr style=\"text-align: right;\">\n",
       "      <th></th>\n",
       "      <th>count</th>\n",
       "      <th>count</th>\n",
       "    </tr>\n",
       "  </thead>\n",
       "  <tbody>\n",
       "    <tr>\n",
       "      <th>0</th>\n",
       "      <td>636</td>\n",
       "      <td>636</td>\n",
       "    </tr>\n",
       "  </tbody>\n",
       "</table>\n",
       "</div>"
      ],
      "text/plain": [
       "   count  count\n",
       "0    636    636"
      ]
     },
     "execution_count": 9,
     "metadata": {},
     "output_type": "execute_result"
    }
   ],
   "source": [
    "query = '''\n",
    "           SELECT count(author_id),\n",
    "                  count(DISTINCT author_id) \n",
    "           FROM authors\n",
    "        '''\n",
    "\n",
    "pd.io.sql.read_sql(sql=text(query), con=engine.connect())"
   ]
  },
  {
   "cell_type": "markdown",
   "id": "212e5224",
   "metadata": {},
   "source": [
    "В таблице `authors` хранится информация о 636 авторах."
   ]
  },
  {
   "cell_type": "markdown",
   "id": "af083ef4",
   "metadata": {},
   "source": [
    "<a id=\"publishers\"></a> \n",
    "### Таблица `publishers`"
   ]
  },
  {
   "cell_type": "code",
   "execution_count": 10,
   "id": "33a09f94",
   "metadata": {},
   "outputs": [
    {
     "data": {
      "text/html": [
       "<div>\n",
       "<style scoped>\n",
       "    .dataframe tbody tr th:only-of-type {\n",
       "        vertical-align: middle;\n",
       "    }\n",
       "\n",
       "    .dataframe tbody tr th {\n",
       "        vertical-align: top;\n",
       "    }\n",
       "\n",
       "    .dataframe thead th {\n",
       "        text-align: right;\n",
       "    }\n",
       "</style>\n",
       "<table border=\"1\" class=\"dataframe\">\n",
       "  <thead>\n",
       "    <tr style=\"text-align: right;\">\n",
       "      <th></th>\n",
       "      <th>publisher_id</th>\n",
       "      <th>publisher</th>\n",
       "    </tr>\n",
       "  </thead>\n",
       "  <tbody>\n",
       "    <tr>\n",
       "      <th>0</th>\n",
       "      <td>1</td>\n",
       "      <td>Ace</td>\n",
       "    </tr>\n",
       "    <tr>\n",
       "      <th>1</th>\n",
       "      <td>2</td>\n",
       "      <td>Ace Book</td>\n",
       "    </tr>\n",
       "    <tr>\n",
       "      <th>2</th>\n",
       "      <td>3</td>\n",
       "      <td>Ace Books</td>\n",
       "    </tr>\n",
       "    <tr>\n",
       "      <th>3</th>\n",
       "      <td>4</td>\n",
       "      <td>Ace Hardcover</td>\n",
       "    </tr>\n",
       "    <tr>\n",
       "      <th>4</th>\n",
       "      <td>5</td>\n",
       "      <td>Addison Wesley Publishing Company</td>\n",
       "    </tr>\n",
       "  </tbody>\n",
       "</table>\n",
       "</div>"
      ],
      "text/plain": [
       "   publisher_id                          publisher\n",
       "0             1                                Ace\n",
       "1             2                           Ace Book\n",
       "2             3                          Ace Books\n",
       "3             4                      Ace Hardcover\n",
       "4             5  Addison Wesley Publishing Company"
      ]
     },
     "execution_count": 10,
     "metadata": {},
     "output_type": "execute_result"
    }
   ],
   "source": [
    "query = '''SELECT * FROM publishers LIMIT 5'''\n",
    "\n",
    "pd.io.sql.read_sql(sql=text(query), con=engine.connect())"
   ]
  },
  {
   "cell_type": "code",
   "execution_count": 11,
   "id": "a3440c52",
   "metadata": {},
   "outputs": [
    {
     "data": {
      "text/html": [
       "<div>\n",
       "<style scoped>\n",
       "    .dataframe tbody tr th:only-of-type {\n",
       "        vertical-align: middle;\n",
       "    }\n",
       "\n",
       "    .dataframe tbody tr th {\n",
       "        vertical-align: top;\n",
       "    }\n",
       "\n",
       "    .dataframe thead th {\n",
       "        text-align: right;\n",
       "    }\n",
       "</style>\n",
       "<table border=\"1\" class=\"dataframe\">\n",
       "  <thead>\n",
       "    <tr style=\"text-align: right;\">\n",
       "      <th></th>\n",
       "      <th>publisher_id</th>\n",
       "      <th>publisher</th>\n",
       "    </tr>\n",
       "  </thead>\n",
       "  <tbody>\n",
       "  </tbody>\n",
       "</table>\n",
       "</div>"
      ],
      "text/plain": [
       "Empty DataFrame\n",
       "Columns: [publisher_id, publisher]\n",
       "Index: []"
      ]
     },
     "execution_count": 11,
     "metadata": {},
     "output_type": "execute_result"
    }
   ],
   "source": [
    "query = '''\n",
    "           SELECT *\n",
    "           FROM publishers\n",
    "           WHERE \n",
    "                 publisher_id IS NULL OR\n",
    "                 publisher IS NULL\n",
    "        '''\n",
    "\n",
    "pd.io.sql.read_sql(sql=text(query), con=engine.connect())"
   ]
  },
  {
   "cell_type": "markdown",
   "id": "0c442c85",
   "metadata": {},
   "source": [
    "Пропуски в данных отсутствуют."
   ]
  },
  {
   "cell_type": "code",
   "execution_count": 12,
   "id": "a7b2f1fd",
   "metadata": {},
   "outputs": [
    {
     "data": {
      "text/html": [
       "<div>\n",
       "<style scoped>\n",
       "    .dataframe tbody tr th:only-of-type {\n",
       "        vertical-align: middle;\n",
       "    }\n",
       "\n",
       "    .dataframe tbody tr th {\n",
       "        vertical-align: top;\n",
       "    }\n",
       "\n",
       "    .dataframe thead th {\n",
       "        text-align: right;\n",
       "    }\n",
       "</style>\n",
       "<table border=\"1\" class=\"dataframe\">\n",
       "  <thead>\n",
       "    <tr style=\"text-align: right;\">\n",
       "      <th></th>\n",
       "      <th>count</th>\n",
       "      <th>count</th>\n",
       "    </tr>\n",
       "  </thead>\n",
       "  <tbody>\n",
       "    <tr>\n",
       "      <th>0</th>\n",
       "      <td>340</td>\n",
       "      <td>340</td>\n",
       "    </tr>\n",
       "  </tbody>\n",
       "</table>\n",
       "</div>"
      ],
      "text/plain": [
       "   count  count\n",
       "0    340    340"
      ]
     },
     "execution_count": 12,
     "metadata": {},
     "output_type": "execute_result"
    }
   ],
   "source": [
    "query = '''\n",
    "           SELECT count(publisher_id),\n",
    "                  count(DISTINCT publisher_id) \n",
    "           FROM publishers\n",
    "        '''\n",
    "\n",
    "pd.io.sql.read_sql(sql=text(query), con=engine.connect())"
   ]
  },
  {
   "cell_type": "markdown",
   "id": "8aec6bd8",
   "metadata": {},
   "source": [
    "В таблице `publishers` хранится информация о 340 издательствах."
   ]
  },
  {
   "cell_type": "markdown",
   "id": "0e6e9d93",
   "metadata": {},
   "source": [
    "<a id=\"ratings\"></a> \n",
    "### Таблица `ratings`"
   ]
  },
  {
   "cell_type": "code",
   "execution_count": 13,
   "id": "58e95333",
   "metadata": {},
   "outputs": [
    {
     "data": {
      "text/html": [
       "<div>\n",
       "<style scoped>\n",
       "    .dataframe tbody tr th:only-of-type {\n",
       "        vertical-align: middle;\n",
       "    }\n",
       "\n",
       "    .dataframe tbody tr th {\n",
       "        vertical-align: top;\n",
       "    }\n",
       "\n",
       "    .dataframe thead th {\n",
       "        text-align: right;\n",
       "    }\n",
       "</style>\n",
       "<table border=\"1\" class=\"dataframe\">\n",
       "  <thead>\n",
       "    <tr style=\"text-align: right;\">\n",
       "      <th></th>\n",
       "      <th>rating_id</th>\n",
       "      <th>book_id</th>\n",
       "      <th>username</th>\n",
       "      <th>rating</th>\n",
       "    </tr>\n",
       "  </thead>\n",
       "  <tbody>\n",
       "    <tr>\n",
       "      <th>0</th>\n",
       "      <td>1</td>\n",
       "      <td>1</td>\n",
       "      <td>ryanfranco</td>\n",
       "      <td>4</td>\n",
       "    </tr>\n",
       "    <tr>\n",
       "      <th>1</th>\n",
       "      <td>2</td>\n",
       "      <td>1</td>\n",
       "      <td>grantpatricia</td>\n",
       "      <td>2</td>\n",
       "    </tr>\n",
       "    <tr>\n",
       "      <th>2</th>\n",
       "      <td>3</td>\n",
       "      <td>1</td>\n",
       "      <td>brandtandrea</td>\n",
       "      <td>5</td>\n",
       "    </tr>\n",
       "    <tr>\n",
       "      <th>3</th>\n",
       "      <td>4</td>\n",
       "      <td>2</td>\n",
       "      <td>lorichen</td>\n",
       "      <td>3</td>\n",
       "    </tr>\n",
       "    <tr>\n",
       "      <th>4</th>\n",
       "      <td>5</td>\n",
       "      <td>2</td>\n",
       "      <td>mariokeller</td>\n",
       "      <td>2</td>\n",
       "    </tr>\n",
       "  </tbody>\n",
       "</table>\n",
       "</div>"
      ],
      "text/plain": [
       "   rating_id  book_id       username  rating\n",
       "0          1        1     ryanfranco       4\n",
       "1          2        1  grantpatricia       2\n",
       "2          3        1   brandtandrea       5\n",
       "3          4        2       lorichen       3\n",
       "4          5        2    mariokeller       2"
      ]
     },
     "execution_count": 13,
     "metadata": {},
     "output_type": "execute_result"
    }
   ],
   "source": [
    "query = '''SELECT * FROM ratings LIMIT 5'''\n",
    "\n",
    "pd.io.sql.read_sql(sql=text(query), con=engine.connect())"
   ]
  },
  {
   "cell_type": "code",
   "execution_count": 14,
   "id": "3cc0f22d",
   "metadata": {},
   "outputs": [
    {
     "data": {
      "text/html": [
       "<div>\n",
       "<style scoped>\n",
       "    .dataframe tbody tr th:only-of-type {\n",
       "        vertical-align: middle;\n",
       "    }\n",
       "\n",
       "    .dataframe tbody tr th {\n",
       "        vertical-align: top;\n",
       "    }\n",
       "\n",
       "    .dataframe thead th {\n",
       "        text-align: right;\n",
       "    }\n",
       "</style>\n",
       "<table border=\"1\" class=\"dataframe\">\n",
       "  <thead>\n",
       "    <tr style=\"text-align: right;\">\n",
       "      <th></th>\n",
       "      <th>rating_id</th>\n",
       "      <th>book_id</th>\n",
       "      <th>username</th>\n",
       "      <th>rating</th>\n",
       "    </tr>\n",
       "  </thead>\n",
       "  <tbody>\n",
       "  </tbody>\n",
       "</table>\n",
       "</div>"
      ],
      "text/plain": [
       "Empty DataFrame\n",
       "Columns: [rating_id, book_id, username, rating]\n",
       "Index: []"
      ]
     },
     "execution_count": 14,
     "metadata": {},
     "output_type": "execute_result"
    }
   ],
   "source": [
    "query = '''\n",
    "           SELECT *\n",
    "           FROM ratings\n",
    "           WHERE \n",
    "                 rating_id IS NULL OR\n",
    "                 book_id IS NULL OR\n",
    "                 username IS NULL OR\n",
    "                 rating IS NULL\n",
    "        '''\n",
    "\n",
    "pd.io.sql.read_sql(sql=text(query), con=engine.connect())"
   ]
  },
  {
   "cell_type": "markdown",
   "id": "268b820d",
   "metadata": {},
   "source": [
    "Пропуски в данных отсутствуют."
   ]
  },
  {
   "cell_type": "code",
   "execution_count": 15,
   "id": "3a5b668f",
   "metadata": {},
   "outputs": [
    {
     "data": {
      "text/html": [
       "<div>\n",
       "<style scoped>\n",
       "    .dataframe tbody tr th:only-of-type {\n",
       "        vertical-align: middle;\n",
       "    }\n",
       "\n",
       "    .dataframe tbody tr th {\n",
       "        vertical-align: top;\n",
       "    }\n",
       "\n",
       "    .dataframe thead th {\n",
       "        text-align: right;\n",
       "    }\n",
       "</style>\n",
       "<table border=\"1\" class=\"dataframe\">\n",
       "  <thead>\n",
       "    <tr style=\"text-align: right;\">\n",
       "      <th></th>\n",
       "      <th>rating_id</th>\n",
       "      <th>book_id</th>\n",
       "      <th>username</th>\n",
       "      <th>rating</th>\n",
       "    </tr>\n",
       "  </thead>\n",
       "  <tbody>\n",
       "  </tbody>\n",
       "</table>\n",
       "</div>"
      ],
      "text/plain": [
       "Empty DataFrame\n",
       "Columns: [rating_id, book_id, username, rating]\n",
       "Index: []"
      ]
     },
     "execution_count": 15,
     "metadata": {},
     "output_type": "execute_result"
    }
   ],
   "source": [
    "query = '''\n",
    "           SELECT *\n",
    "           FROM ratings\n",
    "           WHERE \n",
    "                 rating < 1 OR\n",
    "                 rating > 5\n",
    "        '''\n",
    "\n",
    "pd.io.sql.read_sql(sql=text(query), con=engine.connect())"
   ]
  },
  {
   "cell_type": "markdown",
   "id": "f8e7ba22",
   "metadata": {},
   "source": [
    "В данных по рейтингу аномалии не обнаружено."
   ]
  },
  {
   "cell_type": "code",
   "execution_count": 16,
   "id": "a6ad7dd8",
   "metadata": {},
   "outputs": [
    {
     "data": {
      "text/html": [
       "<div>\n",
       "<style scoped>\n",
       "    .dataframe tbody tr th:only-of-type {\n",
       "        vertical-align: middle;\n",
       "    }\n",
       "\n",
       "    .dataframe tbody tr th {\n",
       "        vertical-align: top;\n",
       "    }\n",
       "\n",
       "    .dataframe thead th {\n",
       "        text-align: right;\n",
       "    }\n",
       "</style>\n",
       "<table border=\"1\" class=\"dataframe\">\n",
       "  <thead>\n",
       "    <tr style=\"text-align: right;\">\n",
       "      <th></th>\n",
       "      <th>count</th>\n",
       "    </tr>\n",
       "  </thead>\n",
       "  <tbody>\n",
       "    <tr>\n",
       "      <th>0</th>\n",
       "      <td>6456</td>\n",
       "    </tr>\n",
       "  </tbody>\n",
       "</table>\n",
       "</div>"
      ],
      "text/plain": [
       "   count\n",
       "0   6456"
      ]
     },
     "execution_count": 16,
     "metadata": {},
     "output_type": "execute_result"
    }
   ],
   "source": [
    "query = '''\n",
    "           SELECT count(*)\n",
    "           FROM ratings\n",
    "        '''\n",
    "\n",
    "pd.io.sql.read_sql(sql=text(query), con=engine.connect())"
   ]
  },
  {
   "cell_type": "markdown",
   "id": "6798419f",
   "metadata": {},
   "source": [
    "В таблице `ratings` хранится информация о 6456 оценках пользователей."
   ]
  },
  {
   "cell_type": "markdown",
   "id": "21d8eb95",
   "metadata": {},
   "source": [
    "<a id=\"reviews\"></a> \n",
    "### Таблица `reviews`"
   ]
  },
  {
   "cell_type": "code",
   "execution_count": 17,
   "id": "f4fabb3a",
   "metadata": {},
   "outputs": [
    {
     "data": {
      "text/html": [
       "<div>\n",
       "<style scoped>\n",
       "    .dataframe tbody tr th:only-of-type {\n",
       "        vertical-align: middle;\n",
       "    }\n",
       "\n",
       "    .dataframe tbody tr th {\n",
       "        vertical-align: top;\n",
       "    }\n",
       "\n",
       "    .dataframe thead th {\n",
       "        text-align: right;\n",
       "    }\n",
       "</style>\n",
       "<table border=\"1\" class=\"dataframe\">\n",
       "  <thead>\n",
       "    <tr style=\"text-align: right;\">\n",
       "      <th></th>\n",
       "      <th>review_id</th>\n",
       "      <th>book_id</th>\n",
       "      <th>username</th>\n",
       "      <th>text</th>\n",
       "    </tr>\n",
       "  </thead>\n",
       "  <tbody>\n",
       "    <tr>\n",
       "      <th>0</th>\n",
       "      <td>1</td>\n",
       "      <td>1</td>\n",
       "      <td>brandtandrea</td>\n",
       "      <td>Mention society tell send professor analysis. ...</td>\n",
       "    </tr>\n",
       "    <tr>\n",
       "      <th>1</th>\n",
       "      <td>2</td>\n",
       "      <td>1</td>\n",
       "      <td>ryanfranco</td>\n",
       "      <td>Foot glass pretty audience hit themselves. Amo...</td>\n",
       "    </tr>\n",
       "    <tr>\n",
       "      <th>2</th>\n",
       "      <td>3</td>\n",
       "      <td>2</td>\n",
       "      <td>lorichen</td>\n",
       "      <td>Listen treat keep worry. Miss husband tax but ...</td>\n",
       "    </tr>\n",
       "    <tr>\n",
       "      <th>3</th>\n",
       "      <td>4</td>\n",
       "      <td>3</td>\n",
       "      <td>johnsonamanda</td>\n",
       "      <td>Finally month interesting blue could nature cu...</td>\n",
       "    </tr>\n",
       "    <tr>\n",
       "      <th>4</th>\n",
       "      <td>5</td>\n",
       "      <td>3</td>\n",
       "      <td>scotttamara</td>\n",
       "      <td>Nation purpose heavy give wait song will. List...</td>\n",
       "    </tr>\n",
       "  </tbody>\n",
       "</table>\n",
       "</div>"
      ],
      "text/plain": [
       "   review_id  book_id       username  \\\n",
       "0          1        1   brandtandrea   \n",
       "1          2        1     ryanfranco   \n",
       "2          3        2       lorichen   \n",
       "3          4        3  johnsonamanda   \n",
       "4          5        3    scotttamara   \n",
       "\n",
       "                                                text  \n",
       "0  Mention society tell send professor analysis. ...  \n",
       "1  Foot glass pretty audience hit themselves. Amo...  \n",
       "2  Listen treat keep worry. Miss husband tax but ...  \n",
       "3  Finally month interesting blue could nature cu...  \n",
       "4  Nation purpose heavy give wait song will. List...  "
      ]
     },
     "execution_count": 17,
     "metadata": {},
     "output_type": "execute_result"
    }
   ],
   "source": [
    "query = '''SELECT * FROM reviews LIMIT 5'''\n",
    "\n",
    "pd.io.sql.read_sql(sql=text(query), con=engine.connect())"
   ]
  },
  {
   "cell_type": "code",
   "execution_count": 18,
   "id": "861efed7",
   "metadata": {},
   "outputs": [
    {
     "data": {
      "text/html": [
       "<div>\n",
       "<style scoped>\n",
       "    .dataframe tbody tr th:only-of-type {\n",
       "        vertical-align: middle;\n",
       "    }\n",
       "\n",
       "    .dataframe tbody tr th {\n",
       "        vertical-align: top;\n",
       "    }\n",
       "\n",
       "    .dataframe thead th {\n",
       "        text-align: right;\n",
       "    }\n",
       "</style>\n",
       "<table border=\"1\" class=\"dataframe\">\n",
       "  <thead>\n",
       "    <tr style=\"text-align: right;\">\n",
       "      <th></th>\n",
       "      <th>review_id</th>\n",
       "      <th>book_id</th>\n",
       "      <th>username</th>\n",
       "      <th>text</th>\n",
       "    </tr>\n",
       "  </thead>\n",
       "  <tbody>\n",
       "  </tbody>\n",
       "</table>\n",
       "</div>"
      ],
      "text/plain": [
       "Empty DataFrame\n",
       "Columns: [review_id, book_id, username, text]\n",
       "Index: []"
      ]
     },
     "execution_count": 18,
     "metadata": {},
     "output_type": "execute_result"
    }
   ],
   "source": [
    "query = '''\n",
    "           SELECT *\n",
    "           FROM reviews\n",
    "           WHERE \n",
    "                 review_id IS NULL OR\n",
    "                 book_id IS NULL OR\n",
    "                 username IS NULL OR\n",
    "                 text IS NULL\n",
    "        '''\n",
    "\n",
    "pd.io.sql.read_sql(sql=text(query), con=engine.connect())"
   ]
  },
  {
   "cell_type": "markdown",
   "id": "0274a512",
   "metadata": {},
   "source": [
    "Пропуски в данных отсутствуют."
   ]
  },
  {
   "cell_type": "code",
   "execution_count": 19,
   "id": "cf9a4b59",
   "metadata": {},
   "outputs": [
    {
     "data": {
      "text/html": [
       "<div>\n",
       "<style scoped>\n",
       "    .dataframe tbody tr th:only-of-type {\n",
       "        vertical-align: middle;\n",
       "    }\n",
       "\n",
       "    .dataframe tbody tr th {\n",
       "        vertical-align: top;\n",
       "    }\n",
       "\n",
       "    .dataframe thead th {\n",
       "        text-align: right;\n",
       "    }\n",
       "</style>\n",
       "<table border=\"1\" class=\"dataframe\">\n",
       "  <thead>\n",
       "    <tr style=\"text-align: right;\">\n",
       "      <th></th>\n",
       "      <th>count</th>\n",
       "    </tr>\n",
       "  </thead>\n",
       "  <tbody>\n",
       "    <tr>\n",
       "      <th>0</th>\n",
       "      <td>2793</td>\n",
       "    </tr>\n",
       "  </tbody>\n",
       "</table>\n",
       "</div>"
      ],
      "text/plain": [
       "   count\n",
       "0   2793"
      ]
     },
     "execution_count": 19,
     "metadata": {},
     "output_type": "execute_result"
    }
   ],
   "source": [
    "query = '''\n",
    "           SELECT count(*)\n",
    "           FROM reviews\n",
    "        '''\n",
    "\n",
    "pd.io.sql.read_sql(sql=text(query), con=engine.connect())"
   ]
  },
  {
   "cell_type": "markdown",
   "id": "a8dd4997",
   "metadata": {},
   "source": [
    "В таблице `reviews` хранится информация о 2793 обзорах пользователей."
   ]
  },
  {
   "cell_type": "markdown",
   "id": "06419570",
   "metadata": {},
   "source": [
    "<a id=\"tasks\"></a> \n",
    "## Задания\n",
    "1. Посчитайте, сколько книг вышло после 1 января 2000 года;\n",
    "2. Для каждой книги посчитайте количество обзоров и среднюю оценку;\n",
    "3. Определите издательство, которое выпустило наибольшее число книг толще 50 страниц — так вы исключите из анализа брошюры;\n",
    "4. Определите автора с самой высокой средней оценкой книг — учитывайте только книги с 50 и более оценками;\n",
    "5. Посчитайте среднее количество обзоров от пользователей, которые поставили больше 48 оценок."
   ]
  },
  {
   "cell_type": "markdown",
   "id": "4ef1f57a",
   "metadata": {},
   "source": [
    "Сделайте по одному SQL-запросу для решения каждого задания..."
   ]
  },
  {
   "cell_type": "markdown",
   "id": "be032097",
   "metadata": {},
   "source": [
    "<a id=\"task1\"></a> \n",
    "### Задание 1\n",
    "**Посчитайте, сколько книг вышло после 1 января 2000 года.**"
   ]
  },
  {
   "cell_type": "code",
   "execution_count": 20,
   "id": "3dee1c4d",
   "metadata": {},
   "outputs": [
    {
     "data": {
      "text/html": [
       "<div>\n",
       "<style scoped>\n",
       "    .dataframe tbody tr th:only-of-type {\n",
       "        vertical-align: middle;\n",
       "    }\n",
       "\n",
       "    .dataframe tbody tr th {\n",
       "        vertical-align: top;\n",
       "    }\n",
       "\n",
       "    .dataframe thead th {\n",
       "        text-align: right;\n",
       "    }\n",
       "</style>\n",
       "<table border=\"1\" class=\"dataframe\">\n",
       "  <thead>\n",
       "    <tr style=\"text-align: right;\">\n",
       "      <th></th>\n",
       "      <th>count</th>\n",
       "    </tr>\n",
       "  </thead>\n",
       "  <tbody>\n",
       "    <tr>\n",
       "      <th>0</th>\n",
       "      <td>819</td>\n",
       "    </tr>\n",
       "  </tbody>\n",
       "</table>\n",
       "</div>"
      ],
      "text/plain": [
       "   count\n",
       "0    819"
      ]
     },
     "execution_count": 20,
     "metadata": {},
     "output_type": "execute_result"
    }
   ],
   "source": [
    "query = '''\n",
    "           SELECT COUNT(*)\n",
    "           FROM books\n",
    "           WHERE publication_date :: date > '2000-01-01'\n",
    "        '''\n",
    "\n",
    "pd.io.sql.read_sql(sql=text(query), con=engine.connect())"
   ]
  },
  {
   "cell_type": "markdown",
   "id": "3a40c77d",
   "metadata": {},
   "source": [
    "**Вывод** <br>\n",
    "После ***1 января 2000 года*** вышло ***819*** книг. <br>\n",
    "Всего в таблице `books` содержится ***1000*** книг."
   ]
  },
  {
   "cell_type": "markdown",
   "id": "add057d4",
   "metadata": {},
   "source": [
    "<a id=\"task2\"></a> \n",
    "### Задание 2\n",
    "**Для каждой книги посчитайте количество обзоров и среднюю оценку.**"
   ]
  },
  {
   "cell_type": "code",
   "execution_count": 21,
   "id": "095f1092",
   "metadata": {},
   "outputs": [
    {
     "data": {
      "text/html": [
       "<div>\n",
       "<style scoped>\n",
       "    .dataframe tbody tr th:only-of-type {\n",
       "        vertical-align: middle;\n",
       "    }\n",
       "\n",
       "    .dataframe tbody tr th {\n",
       "        vertical-align: top;\n",
       "    }\n",
       "\n",
       "    .dataframe thead th {\n",
       "        text-align: right;\n",
       "    }\n",
       "</style>\n",
       "<table border=\"1\" class=\"dataframe\">\n",
       "  <thead>\n",
       "    <tr style=\"text-align: right;\">\n",
       "      <th></th>\n",
       "      <th>book_id</th>\n",
       "      <th>title</th>\n",
       "      <th>author</th>\n",
       "      <th>count_reviews</th>\n",
       "      <th>avg_rating</th>\n",
       "    </tr>\n",
       "  </thead>\n",
       "  <tbody>\n",
       "    <tr>\n",
       "      <th>0</th>\n",
       "      <td>948</td>\n",
       "      <td>Twilight (Twilight  #1)</td>\n",
       "      <td>Stephenie Meyer</td>\n",
       "      <td>7</td>\n",
       "      <td>3.66</td>\n",
       "    </tr>\n",
       "    <tr>\n",
       "      <th>1</th>\n",
       "      <td>302</td>\n",
       "      <td>Harry Potter and the Prisoner of Azkaban (Harr...</td>\n",
       "      <td>J.K. Rowling/Mary GrandPré</td>\n",
       "      <td>6</td>\n",
       "      <td>4.41</td>\n",
       "    </tr>\n",
       "    <tr>\n",
       "      <th>2</th>\n",
       "      <td>299</td>\n",
       "      <td>Harry Potter and the Chamber of Secrets (Harry...</td>\n",
       "      <td>J.K. Rowling/Mary GrandPré</td>\n",
       "      <td>6</td>\n",
       "      <td>4.29</td>\n",
       "    </tr>\n",
       "    <tr>\n",
       "      <th>3</th>\n",
       "      <td>656</td>\n",
       "      <td>The Book Thief</td>\n",
       "      <td>Markus Zusak/Cao Xuân Việt Khương</td>\n",
       "      <td>6</td>\n",
       "      <td>4.26</td>\n",
       "    </tr>\n",
       "    <tr>\n",
       "      <th>4</th>\n",
       "      <td>734</td>\n",
       "      <td>The Glass Castle</td>\n",
       "      <td>Jeannette Walls</td>\n",
       "      <td>6</td>\n",
       "      <td>4.21</td>\n",
       "    </tr>\n",
       "    <tr>\n",
       "      <th>5</th>\n",
       "      <td>497</td>\n",
       "      <td>Outlander (Outlander  #1)</td>\n",
       "      <td>Diana Gabaldon</td>\n",
       "      <td>6</td>\n",
       "      <td>4.13</td>\n",
       "    </tr>\n",
       "    <tr>\n",
       "      <th>6</th>\n",
       "      <td>750</td>\n",
       "      <td>The Hobbit  or There and Back Again</td>\n",
       "      <td>J.R.R. Tolkien</td>\n",
       "      <td>6</td>\n",
       "      <td>4.13</td>\n",
       "    </tr>\n",
       "    <tr>\n",
       "      <th>7</th>\n",
       "      <td>695</td>\n",
       "      <td>The Curious Incident of the Dog in the Night-Time</td>\n",
       "      <td>Mark Haddon</td>\n",
       "      <td>6</td>\n",
       "      <td>4.08</td>\n",
       "    </tr>\n",
       "    <tr>\n",
       "      <th>8</th>\n",
       "      <td>779</td>\n",
       "      <td>The Lightning Thief (Percy Jackson and the Oly...</td>\n",
       "      <td>Rick Riordan</td>\n",
       "      <td>6</td>\n",
       "      <td>4.08</td>\n",
       "    </tr>\n",
       "    <tr>\n",
       "      <th>9</th>\n",
       "      <td>963</td>\n",
       "      <td>Water for Elephants</td>\n",
       "      <td>Sara Gruen</td>\n",
       "      <td>6</td>\n",
       "      <td>3.98</td>\n",
       "    </tr>\n",
       "    <tr>\n",
       "      <th>10</th>\n",
       "      <td>696</td>\n",
       "      <td>The Da Vinci Code (Robert Langdon  #2)</td>\n",
       "      <td>Dan Brown</td>\n",
       "      <td>6</td>\n",
       "      <td>3.83</td>\n",
       "    </tr>\n",
       "    <tr>\n",
       "      <th>11</th>\n",
       "      <td>673</td>\n",
       "      <td>The Catcher in the Rye</td>\n",
       "      <td>J.D. Salinger</td>\n",
       "      <td>6</td>\n",
       "      <td>3.83</td>\n",
       "    </tr>\n",
       "    <tr>\n",
       "      <th>12</th>\n",
       "      <td>627</td>\n",
       "      <td>The Alchemist</td>\n",
       "      <td>Paulo Coelho/Alan R. Clarke/Özdemir İnce</td>\n",
       "      <td>6</td>\n",
       "      <td>3.79</td>\n",
       "    </tr>\n",
       "    <tr>\n",
       "      <th>13</th>\n",
       "      <td>854</td>\n",
       "      <td>The Road</td>\n",
       "      <td>Cormac McCarthy</td>\n",
       "      <td>6</td>\n",
       "      <td>3.77</td>\n",
       "    </tr>\n",
       "    <tr>\n",
       "      <th>14</th>\n",
       "      <td>733</td>\n",
       "      <td>The Giver (The Giver  #1)</td>\n",
       "      <td>Lois Lowry</td>\n",
       "      <td>6</td>\n",
       "      <td>3.75</td>\n",
       "    </tr>\n",
       "    <tr>\n",
       "      <th>15</th>\n",
       "      <td>207</td>\n",
       "      <td>Eat  Pray  Love</td>\n",
       "      <td>Elizabeth Gilbert</td>\n",
       "      <td>6</td>\n",
       "      <td>3.40</td>\n",
       "    </tr>\n",
       "    <tr>\n",
       "      <th>16</th>\n",
       "      <td>581</td>\n",
       "      <td>Snow Flower and the Secret Fan</td>\n",
       "      <td>Lisa See</td>\n",
       "      <td>5</td>\n",
       "      <td>4.64</td>\n",
       "    </tr>\n",
       "    <tr>\n",
       "      <th>17</th>\n",
       "      <td>74</td>\n",
       "      <td>And Then There Were None</td>\n",
       "      <td>Agatha Christie</td>\n",
       "      <td>5</td>\n",
       "      <td>4.45</td>\n",
       "    </tr>\n",
       "    <tr>\n",
       "      <th>18</th>\n",
       "      <td>884</td>\n",
       "      <td>The Thirteenth Tale</td>\n",
       "      <td>Diane Setterfield</td>\n",
       "      <td>5</td>\n",
       "      <td>4.44</td>\n",
       "    </tr>\n",
       "    <tr>\n",
       "      <th>19</th>\n",
       "      <td>284</td>\n",
       "      <td>Gone with the Wind</td>\n",
       "      <td>Margaret Mitchell</td>\n",
       "      <td>5</td>\n",
       "      <td>4.43</td>\n",
       "    </tr>\n",
       "  </tbody>\n",
       "</table>\n",
       "</div>"
      ],
      "text/plain": [
       "    book_id                                              title  \\\n",
       "0       948                            Twilight (Twilight  #1)   \n",
       "1       302  Harry Potter and the Prisoner of Azkaban (Harr...   \n",
       "2       299  Harry Potter and the Chamber of Secrets (Harry...   \n",
       "3       656                                     The Book Thief   \n",
       "4       734                                   The Glass Castle   \n",
       "5       497                          Outlander (Outlander  #1)   \n",
       "6       750                The Hobbit  or There and Back Again   \n",
       "7       695  The Curious Incident of the Dog in the Night-Time   \n",
       "8       779  The Lightning Thief (Percy Jackson and the Oly...   \n",
       "9       963                                Water for Elephants   \n",
       "10      696             The Da Vinci Code (Robert Langdon  #2)   \n",
       "11      673                             The Catcher in the Rye   \n",
       "12      627                                      The Alchemist   \n",
       "13      854                                           The Road   \n",
       "14      733                          The Giver (The Giver  #1)   \n",
       "15      207                                    Eat  Pray  Love   \n",
       "16      581                     Snow Flower and the Secret Fan   \n",
       "17       74                           And Then There Were None   \n",
       "18      884                                The Thirteenth Tale   \n",
       "19      284                                 Gone with the Wind   \n",
       "\n",
       "                                      author  count_reviews  avg_rating  \n",
       "0                            Stephenie Meyer              7        3.66  \n",
       "1                 J.K. Rowling/Mary GrandPré              6        4.41  \n",
       "2                 J.K. Rowling/Mary GrandPré              6        4.29  \n",
       "3          Markus Zusak/Cao Xuân Việt Khương              6        4.26  \n",
       "4                            Jeannette Walls              6        4.21  \n",
       "5                             Diana Gabaldon              6        4.13  \n",
       "6                             J.R.R. Tolkien              6        4.13  \n",
       "7                                Mark Haddon              6        4.08  \n",
       "8                               Rick Riordan              6        4.08  \n",
       "9                                 Sara Gruen              6        3.98  \n",
       "10                                 Dan Brown              6        3.83  \n",
       "11                             J.D. Salinger              6        3.83  \n",
       "12  Paulo Coelho/Alan R. Clarke/Özdemir İnce              6        3.79  \n",
       "13                           Cormac McCarthy              6        3.77  \n",
       "14                                Lois Lowry              6        3.75  \n",
       "15                         Elizabeth Gilbert              6        3.40  \n",
       "16                                  Lisa See              5        4.64  \n",
       "17                           Agatha Christie              5        4.45  \n",
       "18                         Diane Setterfield              5        4.44  \n",
       "19                         Margaret Mitchell              5        4.43  "
      ]
     },
     "execution_count": 21,
     "metadata": {},
     "output_type": "execute_result"
    }
   ],
   "source": [
    "query = '''\n",
    "           WITH t_rev AS(\n",
    "           SELECT b.book_id,\n",
    "                  b.title AS title,\n",
    "                  a.author,\n",
    "                  COUNT (b.book_id) AS count_reviews\n",
    "           FROM books AS b\n",
    "           LEFT JOIN reviews AS r\n",
    "           ON b.book_id = r.book_id\n",
    "           JOIN authors AS a\n",
    "           ON b.author_id = a.author_id\n",
    "           GROUP BY b.book_id, a.author\n",
    "           ORDER BY count_reviews DESC),\n",
    "           \n",
    "           t_rat AS(\n",
    "           SELECT DISTINCT book_id,\n",
    "                  ROUND(AVG(rating) OVER (PARTITION BY book_id), 2) AS avg_rating\n",
    "           FROM ratings)\n",
    "           \n",
    "           SELECT t_rev.book_id,\n",
    "                  t_rev.title,\n",
    "                  t_rev.author,\n",
    "                  t_rev.count_reviews,\n",
    "                  t_rat.avg_rating\n",
    "           FROM t_rev\n",
    "           JOIN t_rat\n",
    "           ON t_rev.book_id = t_rat.book_id\n",
    "           ORDER BY t_rev.count_reviews DESC,\n",
    "                    t_rat.avg_rating DESC\n",
    "           LIMIT 20\n",
    "        '''\n",
    "\n",
    "pd.io.sql.read_sql(sql=text(query), con=engine.connect())"
   ]
  },
  {
   "cell_type": "markdown",
   "id": "c6778f65",
   "metadata": {},
   "source": [
    "**Вывод**\n",
    "\n",
    "* Больше всего обзоров (***7***) на книгу ***Stephenie Meyer \"Twilight (Twilight #1)\"***. Средний рейтинг книги - ***3.66***. <br>\n",
    "* Среди книг с ***6-ю*** обзорами самый высокий рейтинг (***4.41***) у книги ***J.K. Rowling \"Harry Potter and the Prisoner of Azkaban\"***. <br>\n",
    "На втором месте среди книг с 6 обзорами с рейтингом ***4.29*** ещё одна книга ***J.K. Rowling \"Harry Potter and the Chamber of Secrets\"***. <br>\n",
    "Замыкает тройку книга ***Markus Zusak \"The Book Thief\"*** с рейтингом ***4.26***.\n",
    "* Из книг с ***5-ю*** обзорами лучший рейтинг у книги ***Lisa See \"Snow Flower and the Secret Fan\"*** и составляет ***4.64***."
   ]
  },
  {
   "cell_type": "markdown",
   "id": "5f64bc92",
   "metadata": {},
   "source": [
    "<a id=\"task3\"></a> \n",
    "### Задание 3\n",
    "**Определите издательство, которое выпустило наибольшее число книг толще 50 страниц — так вы исключите из анализа брошюры.**"
   ]
  },
  {
   "cell_type": "code",
   "execution_count": 22,
   "id": "1f90f861",
   "metadata": {},
   "outputs": [
    {
     "data": {
      "text/html": [
       "<div>\n",
       "<style scoped>\n",
       "    .dataframe tbody tr th:only-of-type {\n",
       "        vertical-align: middle;\n",
       "    }\n",
       "\n",
       "    .dataframe tbody tr th {\n",
       "        vertical-align: top;\n",
       "    }\n",
       "\n",
       "    .dataframe thead th {\n",
       "        text-align: right;\n",
       "    }\n",
       "</style>\n",
       "<table border=\"1\" class=\"dataframe\">\n",
       "  <thead>\n",
       "    <tr style=\"text-align: right;\">\n",
       "      <th></th>\n",
       "      <th>id</th>\n",
       "      <th>publisher</th>\n",
       "      <th>count_books</th>\n",
       "    </tr>\n",
       "  </thead>\n",
       "  <tbody>\n",
       "    <tr>\n",
       "      <th>0</th>\n",
       "      <td>212</td>\n",
       "      <td>Penguin Books</td>\n",
       "      <td>42</td>\n",
       "    </tr>\n",
       "    <tr>\n",
       "      <th>1</th>\n",
       "      <td>309</td>\n",
       "      <td>Vintage</td>\n",
       "      <td>31</td>\n",
       "    </tr>\n",
       "    <tr>\n",
       "      <th>2</th>\n",
       "      <td>116</td>\n",
       "      <td>Grand Central Publishing</td>\n",
       "      <td>25</td>\n",
       "    </tr>\n",
       "    <tr>\n",
       "      <th>3</th>\n",
       "      <td>217</td>\n",
       "      <td>Penguin Classics</td>\n",
       "      <td>24</td>\n",
       "    </tr>\n",
       "    <tr>\n",
       "      <th>4</th>\n",
       "      <td>35</td>\n",
       "      <td>Bantam</td>\n",
       "      <td>19</td>\n",
       "    </tr>\n",
       "  </tbody>\n",
       "</table>\n",
       "</div>"
      ],
      "text/plain": [
       "    id                 publisher  count_books\n",
       "0  212             Penguin Books           42\n",
       "1  309                   Vintage           31\n",
       "2  116  Grand Central Publishing           25\n",
       "3  217          Penguin Classics           24\n",
       "4   35                    Bantam           19"
      ]
     },
     "execution_count": 22,
     "metadata": {},
     "output_type": "execute_result"
    }
   ],
   "source": [
    "query = '''      \n",
    "           SELECT p.publisher_id AS id,\n",
    "                  p.publisher,\n",
    "                  COUNT(p.publisher_id) AS count_books\n",
    "           FROM publishers AS p\n",
    "           JOIN books AS b\n",
    "           ON b.publisher_id = p.publisher_id\n",
    "           WHERE num_pages > 50\n",
    "           GROUP BY p.publisher_id\n",
    "           ORDER BY count_books DESC\n",
    "           LIMIT 1\n",
    "        '''\n",
    "\n",
    "pd.io.sql.read_sql(sql=text(query), con=engine.connect())"
   ]
  },
  {
   "cell_type": "markdown",
   "id": "d768cfd1",
   "metadata": {},
   "source": [
    "**Вывод**\n",
    "\n",
    "Издательство ***Penguin Books*** выпустило ***42*** книги толще 50 страниц и это наибольший показатель."
   ]
  },
  {
   "cell_type": "markdown",
   "id": "dc616f47",
   "metadata": {},
   "source": [
    "<a id=\"task4\"></a> \n",
    "### Задание 4\n",
    "**Определите автора с самой высокой средней оценкой книг — учитывайте только книги с 50 и более оценками.**"
   ]
  },
  {
   "cell_type": "code",
   "execution_count": 23,
   "id": "b9b56582",
   "metadata": {},
   "outputs": [
    {
     "data": {
      "text/html": [
       "<div>\n",
       "<style scoped>\n",
       "    .dataframe tbody tr th:only-of-type {\n",
       "        vertical-align: middle;\n",
       "    }\n",
       "\n",
       "    .dataframe tbody tr th {\n",
       "        vertical-align: top;\n",
       "    }\n",
       "\n",
       "    .dataframe thead th {\n",
       "        text-align: right;\n",
       "    }\n",
       "</style>\n",
       "<table border=\"1\" class=\"dataframe\">\n",
       "  <thead>\n",
       "    <tr style=\"text-align: right;\">\n",
       "      <th></th>\n",
       "      <th>author_id</th>\n",
       "      <th>author</th>\n",
       "      <th>count_books</th>\n",
       "      <th>avg_rating</th>\n",
       "    </tr>\n",
       "  </thead>\n",
       "  <tbody>\n",
       "    <tr>\n",
       "      <th>0</th>\n",
       "      <td>236</td>\n",
       "      <td>J.K. Rowling/Mary GrandPré</td>\n",
       "      <td>4</td>\n",
       "      <td>4.284</td>\n",
       "    </tr>\n",
       "    <tr>\n",
       "      <th>1</th>\n",
       "      <td>402</td>\n",
       "      <td>Markus Zusak/Cao Xuân Việt Khương</td>\n",
       "      <td>1</td>\n",
       "      <td>4.264</td>\n",
       "    </tr>\n",
       "    <tr>\n",
       "      <th>2</th>\n",
       "      <td>240</td>\n",
       "      <td>J.R.R. Tolkien</td>\n",
       "      <td>2</td>\n",
       "      <td>4.258</td>\n",
       "    </tr>\n",
       "    <tr>\n",
       "      <th>3</th>\n",
       "      <td>376</td>\n",
       "      <td>Louisa May Alcott</td>\n",
       "      <td>1</td>\n",
       "      <td>4.192</td>\n",
       "    </tr>\n",
       "    <tr>\n",
       "      <th>4</th>\n",
       "      <td>498</td>\n",
       "      <td>Rick Riordan</td>\n",
       "      <td>1</td>\n",
       "      <td>4.081</td>\n",
       "    </tr>\n",
       "    <tr>\n",
       "      <th>5</th>\n",
       "      <td>621</td>\n",
       "      <td>William Golding</td>\n",
       "      <td>1</td>\n",
       "      <td>3.901</td>\n",
       "    </tr>\n",
       "    <tr>\n",
       "      <th>6</th>\n",
       "      <td>235</td>\n",
       "      <td>J.D. Salinger</td>\n",
       "      <td>1</td>\n",
       "      <td>3.826</td>\n",
       "    </tr>\n",
       "    <tr>\n",
       "      <th>7</th>\n",
       "      <td>469</td>\n",
       "      <td>Paulo Coelho/Alan R. Clarke/Özdemir İnce</td>\n",
       "      <td>1</td>\n",
       "      <td>3.789</td>\n",
       "    </tr>\n",
       "    <tr>\n",
       "      <th>8</th>\n",
       "      <td>630</td>\n",
       "      <td>William Shakespeare/Paul Werstine/Barbara A. M...</td>\n",
       "      <td>1</td>\n",
       "      <td>3.788</td>\n",
       "    </tr>\n",
       "    <tr>\n",
       "      <th>9</th>\n",
       "      <td>106</td>\n",
       "      <td>Dan Brown</td>\n",
       "      <td>2</td>\n",
       "      <td>3.755</td>\n",
       "    </tr>\n",
       "    <tr>\n",
       "      <th>10</th>\n",
       "      <td>372</td>\n",
       "      <td>Lois Lowry</td>\n",
       "      <td>1</td>\n",
       "      <td>3.750</td>\n",
       "    </tr>\n",
       "    <tr>\n",
       "      <th>11</th>\n",
       "      <td>195</td>\n",
       "      <td>George Orwell/Boris Grabnar/Peter Škerl</td>\n",
       "      <td>1</td>\n",
       "      <td>3.730</td>\n",
       "    </tr>\n",
       "    <tr>\n",
       "      <th>12</th>\n",
       "      <td>554</td>\n",
       "      <td>Stephenie Meyer</td>\n",
       "      <td>1</td>\n",
       "      <td>3.663</td>\n",
       "    </tr>\n",
       "    <tr>\n",
       "      <th>13</th>\n",
       "      <td>311</td>\n",
       "      <td>John Steinbeck</td>\n",
       "      <td>1</td>\n",
       "      <td>3.623</td>\n",
       "    </tr>\n",
       "  </tbody>\n",
       "</table>\n",
       "</div>"
      ],
      "text/plain": [
       "    author_id                                             author  count_books  \\\n",
       "0         236                         J.K. Rowling/Mary GrandPré            4   \n",
       "1         402                  Markus Zusak/Cao Xuân Việt Khương            1   \n",
       "2         240                                     J.R.R. Tolkien            2   \n",
       "3         376                                  Louisa May Alcott            1   \n",
       "4         498                                       Rick Riordan            1   \n",
       "5         621                                    William Golding            1   \n",
       "6         235                                      J.D. Salinger            1   \n",
       "7         469           Paulo Coelho/Alan R. Clarke/Özdemir İnce            1   \n",
       "8         630  William Shakespeare/Paul Werstine/Barbara A. M...            1   \n",
       "9         106                                          Dan Brown            2   \n",
       "10        372                                         Lois Lowry            1   \n",
       "11        195            George Orwell/Boris Grabnar/Peter Škerl            1   \n",
       "12        554                                    Stephenie Meyer            1   \n",
       "13        311                                     John Steinbeck            1   \n",
       "\n",
       "    avg_rating  \n",
       "0        4.284  \n",
       "1        4.264  \n",
       "2        4.258  \n",
       "3        4.192  \n",
       "4        4.081  \n",
       "5        3.901  \n",
       "6        3.826  \n",
       "7        3.789  \n",
       "8        3.788  \n",
       "9        3.755  \n",
       "10       3.750  \n",
       "11       3.730  \n",
       "12       3.663  \n",
       "13       3.623  "
      ]
     },
     "execution_count": 23,
     "metadata": {},
     "output_type": "execute_result"
    }
   ],
   "source": [
    "query = '''\n",
    "           WITH t1 AS (\n",
    "           SELECT DISTINCT book_id,\n",
    "                  COUNT(rating) OVER (PARTITION BY book_id) AS count_ratings,\n",
    "                  AVG(rating) OVER (PARTITION BY book_id) AS avg_ratings\n",
    "           FROM ratings\n",
    "           ORDER BY count_ratings DESC),\n",
    "           \n",
    "           t2 AS (\n",
    "           SELECT t1.book_id,\n",
    "                  t1.avg_ratings,\n",
    "                  a.author_id,\n",
    "                  a.author\n",
    "           FROM t1\n",
    "           JOIN books AS b\n",
    "           ON t1.book_id = b.book_id\n",
    "           JOIN authors AS a\n",
    "           ON b.author_id = a.author_id\n",
    "           WHERE t1.count_ratings >= 50)\n",
    "           \n",
    "           SELECT DISTINCT author_id,\n",
    "                  author,\n",
    "                  COUNT(author_id) OVER (PARTITION BY author_id) AS count_books,\n",
    "                  ROUND(AVG(avg_ratings) OVER (PARTITION BY author_id), 3) AS avg_rating\n",
    "           FROM t2\n",
    "           ORDER BY avg_rating DESC\n",
    "        '''\n",
    "\n",
    "pd.io.sql.read_sql(sql=text(query), con=engine.connect())"
   ]
  },
  {
   "cell_type": "markdown",
   "id": "7fa9ca13",
   "metadata": {},
   "source": [
    "**Вывод**\n",
    "\n",
    "Автором с самой высокой средней оценкой книг, учитывая только книги с 50 и более оценками, является ***J.K. Rowling***. Учтено ***4*** книги. Средний рейтинг - ***4.284***. <br>\n",
    "На 2ом месте ***Markus Zusak*** с ***1*** книгой и рейтингом ***4.264***. <br>\n",
    "Замыкает тройку лидеров ***J.R.R. Tolkien*** с ***2*** книгами и рейтингом ***4.258***. <br>\n",
    "Всего 14 подходит под условия задачи."
   ]
  },
  {
   "cell_type": "markdown",
   "id": "a30dbcc9",
   "metadata": {},
   "source": [
    "<a id=\"task5\"></a> \n",
    "### Задание 5\n",
    "**Посчитайте среднее количество обзоров от пользователей, которые поставили больше 48 оценок.**"
   ]
  },
  {
   "cell_type": "code",
   "execution_count": 24,
   "id": "7f074e5c",
   "metadata": {},
   "outputs": [
    {
     "data": {
      "text/html": [
       "<div>\n",
       "<style scoped>\n",
       "    .dataframe tbody tr th:only-of-type {\n",
       "        vertical-align: middle;\n",
       "    }\n",
       "\n",
       "    .dataframe tbody tr th {\n",
       "        vertical-align: top;\n",
       "    }\n",
       "\n",
       "    .dataframe thead th {\n",
       "        text-align: right;\n",
       "    }\n",
       "</style>\n",
       "<table border=\"1\" class=\"dataframe\">\n",
       "  <thead>\n",
       "    <tr style=\"text-align: right;\">\n",
       "      <th></th>\n",
       "      <th>avg</th>\n",
       "    </tr>\n",
       "  </thead>\n",
       "  <tbody>\n",
       "    <tr>\n",
       "      <th>0</th>\n",
       "      <td>24.0</td>\n",
       "    </tr>\n",
       "  </tbody>\n",
       "</table>\n",
       "</div>"
      ],
      "text/plain": [
       "    avg\n",
       "0  24.0"
      ]
     },
     "execution_count": 24,
     "metadata": {},
     "output_type": "execute_result"
    }
   ],
   "source": [
    "query = '''\n",
    "           WITH t_all_users AS (\n",
    "           SELECT DISTINCT username,\n",
    "                  COUNT(rating) OVER (PARTITION BY username) AS count_ratings\n",
    "           FROM ratings),\n",
    "    \n",
    "           t_good_users AS (\n",
    "           SELECT DISTINCT username,\n",
    "                  COUNT(review_id) OVER (PARTITION BY username) AS count_reviews\n",
    "           FROM reviews\n",
    "           WHERE username IN (SELECT username\n",
    "                              FROM t_all_users\n",
    "                              WHERE count_ratings > 48)\n",
    "           ORDER BY count_reviews DESC)\n",
    "                              \n",
    "           SELECT AVG(count_reviews)\n",
    "           FROM t_good_users\n",
    "        '''\n",
    "\n",
    "pd.io.sql.read_sql(sql=text(query), con=engine.connect())"
   ]
  },
  {
   "cell_type": "markdown",
   "id": "af910a9f",
   "metadata": {},
   "source": [
    "**Вывод**\n",
    "\n",
    "Среднее количество обзоров от пользователей, которые поставили больше 48 оценок, составляет ***24***."
   ]
  },
  {
   "cell_type": "markdown",
   "id": "18a96b4a",
   "metadata": {},
   "source": [
    "<a id=\"final_conclusion\"></a> \n",
    "## Итоговый вывод\n",
    "\n"
   ]
  },
  {
   "cell_type": "markdown",
   "id": "a7b7b961",
   "metadata": {},
   "source": [
    "* В таблице books хранится информация о 1000 книг.\n",
    "* После 1 января 2000 года вышло 819 книг.\n",
    "* Минимальная дата публикации книги: 1 января 1952.\n",
    "* Максимальная дата публикации книги: 31 марта 2020.\n",
    "\n",
    "\n",
    "* В таблице authors хранится информация о 636 авторах.\n",
    "* Автором с самой высокой средней оценкой книг, учитывая только книги с 50 и более оценками, является J.K. Rowling. Учтено 4 книги. Средний рейтинг - 4.284. На 2ом месте Markus Zusak с 1 книгой и рейтингом 4.264. Замыкает тройку лидеров J.R.R. Tolkien с 2 книгами и рейтингом 4.258.\n",
    "\n",
    "\n",
    "* В таблице publishers хранится информация о 340 издательствах.\n",
    "* Издательство ***Penguin Books*** выпустило ***42*** книги толще 50 страниц и это наибольший показатель\n",
    "\n",
    "\n",
    "* В таблице ratings хранится информация о 6456 оценках пользователей.\n",
    "\n",
    "\n",
    "* В таблице reviews хранится информация о 2793 обзорах пользователей.\n",
    "* Больше всего обзоров (7) на книгу Stephenie Meyer \"Twilight (Twilight #1)\". Средний рейтинг книги - 3.66. Среди книг с 6-ю обзорами самый высокий рейтинг (4.41) у книги J.K. Rowling \"Harry Potter and the Prisoner of Azkaban\". На втором месте среди книг с 6 обзорами с рейтингом 4.29 ещё одна книга J.K. Rowling \"Harry Potter and the Chamber of Secrets\". Замыкает тройку книга Markus Zusak \"The Book Thief\" с рейтингом 4.26. Из книг с 5-ю обзорами лучший рейтинг у книги Lisa See \"Snow Flower and the Secret Fan\" и составляет 4.64.\n",
    "* Среднее количество обзоров от пользователей, которые поставили больше 48 оценок, составляет 24."
   ]
  }
 ],
 "metadata": {
  "ExecuteTimeLog": [
   {
    "duration": 569,
    "start_time": "2023-07-13T11:55:58.919Z"
   },
   {
    "duration": 10560,
    "start_time": "2023-07-13T11:56:03.400Z"
   },
   {
    "duration": 241,
    "start_time": "2023-07-13T11:56:13.962Z"
   },
   {
    "duration": 56,
    "start_time": "2023-07-13T11:56:16.796Z"
   },
   {
    "duration": 56,
    "start_time": "2023-07-13T11:56:19.712Z"
   },
   {
    "duration": 55,
    "start_time": "2023-07-13T11:56:22.704Z"
   },
   {
    "duration": 55,
    "start_time": "2023-07-13T11:56:25.716Z"
   },
   {
    "duration": 58,
    "start_time": "2023-07-13T11:56:28.156Z"
   },
   {
    "duration": 57,
    "start_time": "2023-07-13T11:56:30.534Z"
   },
   {
    "duration": 55,
    "start_time": "2023-07-13T11:56:34.608Z"
   },
   {
    "duration": 54,
    "start_time": "2023-07-13T11:56:37.041Z"
   },
   {
    "duration": 56,
    "start_time": "2023-07-13T11:56:39.311Z"
   },
   {
    "duration": 55,
    "start_time": "2023-07-13T11:56:41.839Z"
   },
   {
    "duration": 55,
    "start_time": "2023-07-13T11:56:44.308Z"
   },
   {
    "duration": 55,
    "start_time": "2023-07-13T11:56:47.017Z"
   },
   {
    "duration": 54,
    "start_time": "2023-07-13T11:56:47.721Z"
   },
   {
    "duration": 55,
    "start_time": "2023-07-13T11:56:48.318Z"
   },
   {
    "duration": 55,
    "start_time": "2023-07-13T11:56:48.696Z"
   },
   {
    "duration": 55,
    "start_time": "2023-07-13T11:56:49.105Z"
   },
   {
    "duration": 56,
    "start_time": "2023-07-13T11:56:49.817Z"
   },
   {
    "duration": 55,
    "start_time": "2023-07-13T11:56:52.651Z"
   },
   {
    "duration": 55,
    "start_time": "2023-07-13T11:56:55.043Z"
   },
   {
    "duration": 55,
    "start_time": "2023-07-13T11:56:57.304Z"
   },
   {
    "duration": 54,
    "start_time": "2023-07-13T11:56:59.904Z"
   },
   {
    "duration": 53,
    "start_time": "2023-07-13T11:57:07.056Z"
   },
   {
    "duration": 73,
    "start_time": "2023-07-13T11:57:27.504Z"
   },
   {
    "duration": 58,
    "start_time": "2023-07-13T11:58:06.591Z"
   },
   {
    "duration": 81,
    "start_time": "2023-07-13T11:59:03.701Z"
   },
   {
    "duration": 64,
    "start_time": "2023-07-13T11:59:29.805Z"
   },
   {
    "duration": 62,
    "start_time": "2023-07-13T11:59:54.716Z"
   },
   {
    "duration": 102,
    "start_time": "2023-07-13T12:04:27.302Z"
   },
   {
    "duration": 95,
    "start_time": "2023-07-13T12:04:55.415Z"
   },
   {
    "duration": 70,
    "start_time": "2023-07-13T12:06:33.336Z"
   },
   {
    "duration": 542,
    "start_time": "2023-07-13T12:14:38.901Z"
   },
   {
    "duration": 14633,
    "start_time": "2023-07-13T12:14:39.445Z"
   },
   {
    "duration": 243,
    "start_time": "2023-07-13T12:14:54.079Z"
   },
   {
    "duration": 56,
    "start_time": "2023-07-13T12:14:54.324Z"
   },
   {
    "duration": 55,
    "start_time": "2023-07-13T12:14:54.381Z"
   },
   {
    "duration": 78,
    "start_time": "2023-07-13T12:14:54.438Z"
   },
   {
    "duration": 62,
    "start_time": "2023-07-13T12:14:54.520Z"
   },
   {
    "duration": 63,
    "start_time": "2023-07-13T12:14:54.586Z"
   },
   {
    "duration": 63,
    "start_time": "2023-07-13T12:14:54.652Z"
   },
   {
    "duration": 55,
    "start_time": "2023-07-13T12:14:54.718Z"
   },
   {
    "duration": 54,
    "start_time": "2023-07-13T12:14:54.774Z"
   },
   {
    "duration": 55,
    "start_time": "2023-07-13T12:14:54.830Z"
   },
   {
    "duration": 56,
    "start_time": "2023-07-13T12:14:54.886Z"
   },
   {
    "duration": 55,
    "start_time": "2023-07-13T12:14:54.944Z"
   },
   {
    "duration": 54,
    "start_time": "2023-07-13T12:14:55.001Z"
   },
   {
    "duration": 55,
    "start_time": "2023-07-13T12:14:55.057Z"
   },
   {
    "duration": 57,
    "start_time": "2023-07-13T12:14:55.114Z"
   },
   {
    "duration": 61,
    "start_time": "2023-07-13T12:14:55.173Z"
   },
   {
    "duration": 63,
    "start_time": "2023-07-13T12:14:55.236Z"
   },
   {
    "duration": 59,
    "start_time": "2023-07-13T12:14:55.302Z"
   },
   {
    "duration": 70,
    "start_time": "2023-07-13T12:14:55.363Z"
   },
   {
    "duration": 56,
    "start_time": "2023-07-13T12:14:55.435Z"
   },
   {
    "duration": 77,
    "start_time": "2023-07-13T12:14:55.493Z"
   },
   {
    "duration": 61,
    "start_time": "2023-07-13T12:14:55.571Z"
   }
  ],
  "kernelspec": {
   "display_name": "Python 3 (ipykernel)",
   "language": "python",
   "name": "python3"
  },
  "language_info": {
   "codemirror_mode": {
    "name": "ipython",
    "version": 3
   },
   "file_extension": ".py",
   "mimetype": "text/x-python",
   "name": "python",
   "nbconvert_exporter": "python",
   "pygments_lexer": "ipython3",
   "version": "3.9.13"
  },
  "toc": {
   "base_numbering": 1,
   "nav_menu": {},
   "number_sections": true,
   "sideBar": true,
   "skip_h1_title": true,
   "title_cell": "Table of Contents",
   "title_sidebar": "Contents",
   "toc_cell": false,
   "toc_position": {
    "height": "calc(100% - 180px)",
    "left": "10px",
    "top": "150px",
    "width": "320px"
   },
   "toc_section_display": true,
   "toc_window_display": true
  }
 },
 "nbformat": 4,
 "nbformat_minor": 5
}
