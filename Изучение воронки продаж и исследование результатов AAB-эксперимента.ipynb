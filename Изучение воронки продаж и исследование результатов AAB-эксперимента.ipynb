{
 "cells": [
  {
   "cell_type": "markdown",
   "metadata": {},
   "source": [
    "# Сборный проект №2"
   ]
  },
  {
   "cell_type": "markdown",
   "metadata": {},
   "source": [
    "**Описание проекта**\n",
    "\n",
    "Изучение воронки продаж и исследование результатов A/A/B-эксперимента."
   ]
  },
  {
   "cell_type": "markdown",
   "metadata": {},
   "source": [
    "**План работы**\n",
    "\n",
    "1. Открытие файла с данными и изучиние общей информации\n",
    "2. Подготовка данных\n",
    "3. Изучение и проверка данных\n",
    "- Количество событий\n",
    "- Количество пользователей\n",
    "- Среднее количествово событий на пользователя\n",
    "- Распределение данных во времени\n",
    "- Количество отброшенных данных\n",
    "- Проверка пользователей в группах\n",
    "4. Изучение воронки событий\n",
    "- События по частоте\n",
    "- События по числу пользователей\n",
    "- Предположение о порядке событий\n",
    "- Анализ воронки\n",
    "5. Изучение результатов эксперимента\n",
    "- Количество пользователей в каждой экспериментальной группе\n",
    "- A/A-тест\n",
    "- A/B-тесты\n",
    "6. Выводы"
   ]
  },
  {
   "cell_type": "markdown",
   "metadata": {},
   "source": [
    "## Открытие файла с данными и изучиние общей информации"
   ]
  },
  {
   "cell_type": "code",
   "execution_count": 1,
   "metadata": {},
   "outputs": [],
   "source": [
    "import pandas as pd\n",
    "import datetime as dt\n",
    "import numpy as np\n",
    "import math\n",
    "from datetime import datetime, timedelta\n",
    "from matplotlib import pyplot as plt\n",
    "from scipy import stats as st\n",
    "from plotly import graph_objects as go\n",
    "import plotly.express as px"
   ]
  },
  {
   "cell_type": "code",
   "execution_count": 2,
   "metadata": {},
   "outputs": [
    {
     "ename": "FileNotFoundError",
     "evalue": "[Errno 2] No such file or directory: '/datasets/logs_exp.csv'",
     "output_type": "error",
     "traceback": [
      "\u001b[1;31m---------------------------------------------------------------------------\u001b[0m",
      "\u001b[1;31mFileNotFoundError\u001b[0m                         Traceback (most recent call last)",
      "\u001b[1;32m~\\AppData\\Local\\Temp\\ipykernel_5040\\2119628537.py\u001b[0m in \u001b[0;36m<module>\u001b[1;34m\u001b[0m\n\u001b[1;32m----> 1\u001b[1;33m \u001b[0mlogs\u001b[0m \u001b[1;33m=\u001b[0m \u001b[0mpd\u001b[0m\u001b[1;33m.\u001b[0m\u001b[0mread_csv\u001b[0m\u001b[1;33m(\u001b[0m\u001b[1;34m'/datasets/logs_exp.csv'\u001b[0m\u001b[1;33m,\u001b[0m \u001b[0msep\u001b[0m\u001b[1;33m=\u001b[0m\u001b[1;34m'\\t'\u001b[0m\u001b[1;33m)\u001b[0m\u001b[1;33m\u001b[0m\u001b[1;33m\u001b[0m\u001b[0m\n\u001b[0m",
      "\u001b[1;32m~\\anaconda3\\lib\\site-packages\\pandas\\util\\_decorators.py\u001b[0m in \u001b[0;36mwrapper\u001b[1;34m(*args, **kwargs)\u001b[0m\n\u001b[0;32m    309\u001b[0m                     \u001b[0mstacklevel\u001b[0m\u001b[1;33m=\u001b[0m\u001b[0mstacklevel\u001b[0m\u001b[1;33m,\u001b[0m\u001b[1;33m\u001b[0m\u001b[1;33m\u001b[0m\u001b[0m\n\u001b[0;32m    310\u001b[0m                 )\n\u001b[1;32m--> 311\u001b[1;33m             \u001b[1;32mreturn\u001b[0m \u001b[0mfunc\u001b[0m\u001b[1;33m(\u001b[0m\u001b[1;33m*\u001b[0m\u001b[0margs\u001b[0m\u001b[1;33m,\u001b[0m \u001b[1;33m**\u001b[0m\u001b[0mkwargs\u001b[0m\u001b[1;33m)\u001b[0m\u001b[1;33m\u001b[0m\u001b[1;33m\u001b[0m\u001b[0m\n\u001b[0m\u001b[0;32m    312\u001b[0m \u001b[1;33m\u001b[0m\u001b[0m\n\u001b[0;32m    313\u001b[0m         \u001b[1;32mreturn\u001b[0m \u001b[0mwrapper\u001b[0m\u001b[1;33m\u001b[0m\u001b[1;33m\u001b[0m\u001b[0m\n",
      "\u001b[1;32m~\\anaconda3\\lib\\site-packages\\pandas\\io\\parsers\\readers.py\u001b[0m in \u001b[0;36mread_csv\u001b[1;34m(filepath_or_buffer, sep, delimiter, header, names, index_col, usecols, squeeze, prefix, mangle_dupe_cols, dtype, engine, converters, true_values, false_values, skipinitialspace, skiprows, skipfooter, nrows, na_values, keep_default_na, na_filter, verbose, skip_blank_lines, parse_dates, infer_datetime_format, keep_date_col, date_parser, dayfirst, cache_dates, iterator, chunksize, compression, thousands, decimal, lineterminator, quotechar, quoting, doublequote, escapechar, comment, encoding, encoding_errors, dialect, error_bad_lines, warn_bad_lines, on_bad_lines, delim_whitespace, low_memory, memory_map, float_precision, storage_options)\u001b[0m\n\u001b[0;32m    676\u001b[0m     \u001b[0mkwds\u001b[0m\u001b[1;33m.\u001b[0m\u001b[0mupdate\u001b[0m\u001b[1;33m(\u001b[0m\u001b[0mkwds_defaults\u001b[0m\u001b[1;33m)\u001b[0m\u001b[1;33m\u001b[0m\u001b[1;33m\u001b[0m\u001b[0m\n\u001b[0;32m    677\u001b[0m \u001b[1;33m\u001b[0m\u001b[0m\n\u001b[1;32m--> 678\u001b[1;33m     \u001b[1;32mreturn\u001b[0m \u001b[0m_read\u001b[0m\u001b[1;33m(\u001b[0m\u001b[0mfilepath_or_buffer\u001b[0m\u001b[1;33m,\u001b[0m \u001b[0mkwds\u001b[0m\u001b[1;33m)\u001b[0m\u001b[1;33m\u001b[0m\u001b[1;33m\u001b[0m\u001b[0m\n\u001b[0m\u001b[0;32m    679\u001b[0m \u001b[1;33m\u001b[0m\u001b[0m\n\u001b[0;32m    680\u001b[0m \u001b[1;33m\u001b[0m\u001b[0m\n",
      "\u001b[1;32m~\\anaconda3\\lib\\site-packages\\pandas\\io\\parsers\\readers.py\u001b[0m in \u001b[0;36m_read\u001b[1;34m(filepath_or_buffer, kwds)\u001b[0m\n\u001b[0;32m    573\u001b[0m \u001b[1;33m\u001b[0m\u001b[0m\n\u001b[0;32m    574\u001b[0m     \u001b[1;31m# Create the parser.\u001b[0m\u001b[1;33m\u001b[0m\u001b[1;33m\u001b[0m\u001b[0m\n\u001b[1;32m--> 575\u001b[1;33m     \u001b[0mparser\u001b[0m \u001b[1;33m=\u001b[0m \u001b[0mTextFileReader\u001b[0m\u001b[1;33m(\u001b[0m\u001b[0mfilepath_or_buffer\u001b[0m\u001b[1;33m,\u001b[0m \u001b[1;33m**\u001b[0m\u001b[0mkwds\u001b[0m\u001b[1;33m)\u001b[0m\u001b[1;33m\u001b[0m\u001b[1;33m\u001b[0m\u001b[0m\n\u001b[0m\u001b[0;32m    576\u001b[0m \u001b[1;33m\u001b[0m\u001b[0m\n\u001b[0;32m    577\u001b[0m     \u001b[1;32mif\u001b[0m \u001b[0mchunksize\u001b[0m \u001b[1;32mor\u001b[0m \u001b[0miterator\u001b[0m\u001b[1;33m:\u001b[0m\u001b[1;33m\u001b[0m\u001b[1;33m\u001b[0m\u001b[0m\n",
      "\u001b[1;32m~\\anaconda3\\lib\\site-packages\\pandas\\io\\parsers\\readers.py\u001b[0m in \u001b[0;36m__init__\u001b[1;34m(self, f, engine, **kwds)\u001b[0m\n\u001b[0;32m    930\u001b[0m \u001b[1;33m\u001b[0m\u001b[0m\n\u001b[0;32m    931\u001b[0m         \u001b[0mself\u001b[0m\u001b[1;33m.\u001b[0m\u001b[0mhandles\u001b[0m\u001b[1;33m:\u001b[0m \u001b[0mIOHandles\u001b[0m \u001b[1;33m|\u001b[0m \u001b[1;32mNone\u001b[0m \u001b[1;33m=\u001b[0m \u001b[1;32mNone\u001b[0m\u001b[1;33m\u001b[0m\u001b[1;33m\u001b[0m\u001b[0m\n\u001b[1;32m--> 932\u001b[1;33m         \u001b[0mself\u001b[0m\u001b[1;33m.\u001b[0m\u001b[0m_engine\u001b[0m \u001b[1;33m=\u001b[0m \u001b[0mself\u001b[0m\u001b[1;33m.\u001b[0m\u001b[0m_make_engine\u001b[0m\u001b[1;33m(\u001b[0m\u001b[0mf\u001b[0m\u001b[1;33m,\u001b[0m \u001b[0mself\u001b[0m\u001b[1;33m.\u001b[0m\u001b[0mengine\u001b[0m\u001b[1;33m)\u001b[0m\u001b[1;33m\u001b[0m\u001b[1;33m\u001b[0m\u001b[0m\n\u001b[0m\u001b[0;32m    933\u001b[0m \u001b[1;33m\u001b[0m\u001b[0m\n\u001b[0;32m    934\u001b[0m     \u001b[1;32mdef\u001b[0m \u001b[0mclose\u001b[0m\u001b[1;33m(\u001b[0m\u001b[0mself\u001b[0m\u001b[1;33m)\u001b[0m\u001b[1;33m:\u001b[0m\u001b[1;33m\u001b[0m\u001b[1;33m\u001b[0m\u001b[0m\n",
      "\u001b[1;32m~\\anaconda3\\lib\\site-packages\\pandas\\io\\parsers\\readers.py\u001b[0m in \u001b[0;36m_make_engine\u001b[1;34m(self, f, engine)\u001b[0m\n\u001b[0;32m   1214\u001b[0m             \u001b[1;31m# \"Union[str, PathLike[str], ReadCsvBuffer[bytes], ReadCsvBuffer[str]]\"\u001b[0m\u001b[1;33m\u001b[0m\u001b[1;33m\u001b[0m\u001b[0m\n\u001b[0;32m   1215\u001b[0m             \u001b[1;31m# , \"str\", \"bool\", \"Any\", \"Any\", \"Any\", \"Any\", \"Any\"\u001b[0m\u001b[1;33m\u001b[0m\u001b[1;33m\u001b[0m\u001b[0m\n\u001b[1;32m-> 1216\u001b[1;33m             self.handles = get_handle(  # type: ignore[call-overload]\n\u001b[0m\u001b[0;32m   1217\u001b[0m                 \u001b[0mf\u001b[0m\u001b[1;33m,\u001b[0m\u001b[1;33m\u001b[0m\u001b[1;33m\u001b[0m\u001b[0m\n\u001b[0;32m   1218\u001b[0m                 \u001b[0mmode\u001b[0m\u001b[1;33m,\u001b[0m\u001b[1;33m\u001b[0m\u001b[1;33m\u001b[0m\u001b[0m\n",
      "\u001b[1;32m~\\anaconda3\\lib\\site-packages\\pandas\\io\\common.py\u001b[0m in \u001b[0;36mget_handle\u001b[1;34m(path_or_buf, mode, encoding, compression, memory_map, is_text, errors, storage_options)\u001b[0m\n\u001b[0;32m    784\u001b[0m         \u001b[1;32mif\u001b[0m \u001b[0mioargs\u001b[0m\u001b[1;33m.\u001b[0m\u001b[0mencoding\u001b[0m \u001b[1;32mand\u001b[0m \u001b[1;34m\"b\"\u001b[0m \u001b[1;32mnot\u001b[0m \u001b[1;32min\u001b[0m \u001b[0mioargs\u001b[0m\u001b[1;33m.\u001b[0m\u001b[0mmode\u001b[0m\u001b[1;33m:\u001b[0m\u001b[1;33m\u001b[0m\u001b[1;33m\u001b[0m\u001b[0m\n\u001b[0;32m    785\u001b[0m             \u001b[1;31m# Encoding\u001b[0m\u001b[1;33m\u001b[0m\u001b[1;33m\u001b[0m\u001b[0m\n\u001b[1;32m--> 786\u001b[1;33m             handle = open(\n\u001b[0m\u001b[0;32m    787\u001b[0m                 \u001b[0mhandle\u001b[0m\u001b[1;33m,\u001b[0m\u001b[1;33m\u001b[0m\u001b[1;33m\u001b[0m\u001b[0m\n\u001b[0;32m    788\u001b[0m                 \u001b[0mioargs\u001b[0m\u001b[1;33m.\u001b[0m\u001b[0mmode\u001b[0m\u001b[1;33m,\u001b[0m\u001b[1;33m\u001b[0m\u001b[1;33m\u001b[0m\u001b[0m\n",
      "\u001b[1;31mFileNotFoundError\u001b[0m: [Errno 2] No such file or directory: '/datasets/logs_exp.csv'"
     ]
    }
   ],
   "source": [
    "logs = pd.read_csv('https://code.s3.yandex.net/datasets/logs_exp.csv', sep='\\t')"
   ]
  },
  {
   "cell_type": "code",
   "execution_count": null,
   "metadata": {},
   "outputs": [],
   "source": [
    "pd.options.display.max_colwidth = 80\n",
    "logs.head(10)"
   ]
  },
  {
   "cell_type": "code",
   "execution_count": null,
   "metadata": {},
   "outputs": [],
   "source": [
    "logs.info()"
   ]
  },
  {
   "cell_type": "markdown",
   "metadata": {},
   "source": [
    "## Подготовка данных"
   ]
  },
  {
   "cell_type": "markdown",
   "metadata": {},
   "source": [
    "### Предобработка данных"
   ]
  },
  {
   "cell_type": "markdown",
   "metadata": {},
   "source": [
    "**Переименуем столбцы.**"
   ]
  },
  {
   "cell_type": "code",
   "execution_count": null,
   "metadata": {},
   "outputs": [],
   "source": [
    "logs.rename(columns={'EventName' : 'event', \n",
    "                     'DeviceIDHash' : 'user', \n",
    "                     'EventTimestamp' : 'timestamp', \n",
    "                     'ExpId' : 'group'}, \n",
    "            inplace=True)"
   ]
  },
  {
   "cell_type": "code",
   "execution_count": null,
   "metadata": {},
   "outputs": [],
   "source": [
    "logs.info()"
   ]
  },
  {
   "cell_type": "markdown",
   "metadata": {},
   "source": [
    "**Добавляем столбец с датой и временем и столбец с датой.**"
   ]
  },
  {
   "cell_type": "code",
   "execution_count": null,
   "metadata": {},
   "outputs": [],
   "source": [
    "logs['datetime'] = pd.to_datetime(logs['timestamp'], unit='s')"
   ]
  },
  {
   "cell_type": "code",
   "execution_count": null,
   "metadata": {},
   "outputs": [],
   "source": [
    "logs['date'] = logs['datetime'].dt.date"
   ]
  },
  {
   "cell_type": "code",
   "execution_count": null,
   "metadata": {},
   "outputs": [],
   "source": [
    "logs['date'] = logs['date'].astype('datetime64')"
   ]
  },
  {
   "cell_type": "markdown",
   "metadata": {},
   "source": [
    "**Переименуем названия групп для удобства.**"
   ]
  },
  {
   "cell_type": "code",
   "execution_count": null,
   "metadata": {},
   "outputs": [],
   "source": [
    "def new_group(g):\n",
    "    if g == 246:\n",
    "        return 'A246'\n",
    "    elif g == 247:\n",
    "        return 'A247'\n",
    "    elif g == 248:\n",
    "        return 'B'\n",
    "    else:\n",
    "        return 'Unknown'\n",
    "\n",
    "logs['group'] = logs['group'].apply(new_group)"
   ]
  },
  {
   "cell_type": "code",
   "execution_count": null,
   "metadata": {},
   "outputs": [],
   "source": [
    "logs['group'] = logs['group'].astype('str')"
   ]
  },
  {
   "cell_type": "code",
   "execution_count": null,
   "metadata": {},
   "outputs": [],
   "source": [
    "logs['group'].value_counts()"
   ]
  },
  {
   "cell_type": "code",
   "execution_count": null,
   "metadata": {},
   "outputs": [],
   "source": [
    "logs.head(10)"
   ]
  },
  {
   "cell_type": "code",
   "execution_count": null,
   "metadata": {},
   "outputs": [],
   "source": [
    "logs.info()"
   ]
  },
  {
   "cell_type": "markdown",
   "metadata": {},
   "source": [
    "**Вывод**\n",
    "\n",
    "Пропусков в данных нет. Переименовали названия столбцов. Добавили столбцы с датой и временем. Переименовали названия групп."
   ]
  },
  {
   "cell_type": "markdown",
   "metadata": {},
   "source": [
    "### Работа с дубликатами"
   ]
  },
  {
   "cell_type": "code",
   "execution_count": null,
   "metadata": {},
   "outputs": [],
   "source": [
    "logs['event'].unique()"
   ]
  },
  {
   "cell_type": "code",
   "execution_count": null,
   "metadata": {},
   "outputs": [],
   "source": [
    "d = logs.duplicated(['event', 'user', 'datetime', 'group']).sum()\n",
    "p = d / logs.shape[0]\n",
    "print(f'Количество дубликатов: {d} ({p:.3%} от общего количества строк)')"
   ]
  },
  {
   "cell_type": "markdown",
   "metadata": {},
   "source": [
    "**Дубликаты можно удалить.**"
   ]
  },
  {
   "cell_type": "code",
   "execution_count": null,
   "metadata": {},
   "outputs": [],
   "source": [
    "logs = logs.drop_duplicates()\n",
    "logs = logs.reset_index(drop=True)"
   ]
  },
  {
   "cell_type": "code",
   "execution_count": null,
   "metadata": {},
   "outputs": [],
   "source": [
    "logs.head(10)"
   ]
  },
  {
   "cell_type": "code",
   "execution_count": null,
   "metadata": {},
   "outputs": [],
   "source": [
    "logs.groupby('user').agg({'group' : 'nunique'}).query('group > 1')"
   ]
  },
  {
   "cell_type": "markdown",
   "metadata": {},
   "source": [
    "**Вывод**\n",
    "\n",
    "Удалили 413 дубликатов. Пересечений пользователей по группам нет."
   ]
  },
  {
   "cell_type": "markdown",
   "metadata": {},
   "source": [
    "## Изучение и проверка данных"
   ]
  },
  {
   "cell_type": "markdown",
   "metadata": {},
   "source": [
    "### Количество событий"
   ]
  },
  {
   "cell_type": "code",
   "execution_count": null,
   "metadata": {},
   "outputs": [],
   "source": [
    "events = logs['event'].count()\n",
    "print('Количество событий в логе:', events)"
   ]
  },
  {
   "cell_type": "code",
   "execution_count": null,
   "metadata": {},
   "outputs": [],
   "source": [
    "logs['event'].value_counts()"
   ]
  },
  {
   "cell_type": "markdown",
   "metadata": {},
   "source": [
    "**Вывод**\n",
    "\n",
    "В логе всего 243713 события."
   ]
  },
  {
   "cell_type": "markdown",
   "metadata": {},
   "source": [
    "### Количество пользователей"
   ]
  },
  {
   "cell_type": "code",
   "execution_count": null,
   "metadata": {},
   "outputs": [],
   "source": [
    "users = logs['user'].nunique()\n",
    "print('Количество событий в логе:', users)"
   ]
  },
  {
   "cell_type": "markdown",
   "metadata": {},
   "source": [
    "**Вывод**\n",
    "\n",
    "В логе 7551 уникальный пользователь."
   ]
  },
  {
   "cell_type": "markdown",
   "metadata": {},
   "source": [
    "### Среднее количествово событий на пользователя"
   ]
  },
  {
   "cell_type": "code",
   "execution_count": null,
   "metadata": {},
   "outputs": [],
   "source": [
    "print(\"Среднее количество событий на пользователя: \", (events / users).round(1))"
   ]
  },
  {
   "cell_type": "markdown",
   "metadata": {},
   "source": [
    "**Проверим выбросы.**"
   ]
  },
  {
   "cell_type": "code",
   "execution_count": null,
   "metadata": {},
   "outputs": [],
   "source": [
    "event_per_user = logs.groupby('user')['event'].count()\n",
    "event_per_user.describe()"
   ]
  },
  {
   "cell_type": "code",
   "execution_count": null,
   "metadata": {},
   "outputs": [],
   "source": [
    "plt.figure(figsize=(16,8))\n",
    "plt.hist(event_per_user, bins=100, range=(200,2400)) \n",
    "plt.xlabel('Количество пользователей')\n",
    "plt.grid()\n",
    "plt.ylabel('Количество событий')\n",
    "plt.title('Количество событий на пользователя');"
   ]
  },
  {
   "cell_type": "markdown",
   "metadata": {},
   "source": [
    "**Вывод**\n",
    "\n",
    "\"Длинный хвост\" указывает на наличие \"выбросов\" в исходных данных."
   ]
  },
  {
   "cell_type": "markdown",
   "metadata": {},
   "source": [
    "### Распределение данных во времени"
   ]
  },
  {
   "cell_type": "code",
   "execution_count": null,
   "metadata": {},
   "outputs": [],
   "source": [
    "print(f\"Период данных которым мы располагаем: с {logs['datetime'].min()} по {logs['datetime'].max()}\")\n",
    "print(f\"Размер периода: {logs['datetime'].max() - logs['datetime'].min()}\")"
   ]
  },
  {
   "cell_type": "code",
   "execution_count": null,
   "metadata": {},
   "outputs": [],
   "source": [
    "event_per_day = logs.groupby('date')['event'].count()"
   ]
  },
  {
   "cell_type": "code",
   "execution_count": null,
   "metadata": {},
   "outputs": [],
   "source": [
    "event_per_day"
   ]
  },
  {
   "cell_type": "code",
   "execution_count": null,
   "metadata": {},
   "outputs": [],
   "source": [
    "plt.figure(figsize=(16,8))\n",
    "plt.hist(logs['datetime'], bins=14*24) \n",
    "plt.xlabel('Время')\n",
    "plt.grid()\n",
    "plt.ylabel('Количество событий')\n",
    "plt.title('Распределение событий по времени');"
   ]
  },
  {
   "cell_type": "code",
   "execution_count": null,
   "metadata": {},
   "outputs": [],
   "source": [
    "plt.figure(figsize=(16,8))\n",
    "plt.hist(logs[logs['date'] > '2019-07-31']['datetime'], bins=7*24) \n",
    "plt.xlabel('Время')\n",
    "plt.grid()\n",
    "plt.ylabel('Количество событий')\n",
    "plt.title('Распределение событий по времени');"
   ]
  },
  {
   "cell_type": "code",
   "execution_count": null,
   "metadata": {},
   "outputs": [],
   "source": [
    "plt.figure(figsize=(16,8))\n",
    "plt.hist(logs.loc[(logs['datetime'] >= '2019-07-31 18:00') & (logs['datetime'] <= '2019-07-31 23:00')]['datetime'], bins=5*10) \n",
    "plt.xlabel('Время')\n",
    "plt.grid()\n",
    "plt.ylabel('Количество событий')\n",
    "plt.title('Распределение событий по времени');"
   ]
  },
  {
   "cell_type": "code",
   "execution_count": null,
   "metadata": {},
   "outputs": [],
   "source": [
    "logs['dt10m'] = logs['datetime'].dt.round('10T')\n",
    "dt10m_event = logs.groupby('dt10m')['event'].count().reset_index()\n",
    "dt10m_event = dt10m_event[(dt10m_event['dt10m'] >= '2019-07-31 00:00') & (dt10m_event['dt10m'] <= '2019-08-01 00:00')]"
   ]
  },
  {
   "cell_type": "code",
   "execution_count": null,
   "metadata": {},
   "outputs": [],
   "source": [
    "plt.figure(figsize=(16,8))\n",
    "plt.plot(dt10m_event['dt10m'], dt10m_event['event'])\n",
    "plt.xlabel('Время')\n",
    "plt.grid()\n",
    "plt.ylabel('Количество событий')\n",
    "plt.title('Распределение событий по времени');"
   ]
  },
  {
   "cell_type": "markdown",
   "metadata": {},
   "source": [
    "**Вывод**\n",
    "\n",
    "Судя по гистограммам можно сказать, что реально мы располагаем данными только за первые 7 дней августа. Данные в июле характеризуются малой событийностью. Скорее всего это было какое-то тестирование, а сбор данных начался уже со второй недели. <br>\n",
    "Также отлично видно, что распределение событий в августе идет циклично - с утра количествово событий нарастает, днем держится на максимумах, а вечером падает на минимум. <br>\n",
    "Из последних двух графиков можно выделить границу, где появляется существенное различие в распределении - это около 21:00 31 июля. Всё что раньше этого времени отбросим и будем проводить тестирование с данными примерно за 7 дней."
   ]
  },
  {
   "cell_type": "markdown",
   "metadata": {},
   "source": [
    "### Количество отброшенных данных"
   ]
  },
  {
   "cell_type": "code",
   "execution_count": null,
   "metadata": {},
   "outputs": [],
   "source": [
    "logs = logs.loc[logs['datetime'] > '2019-07-31 21:00:00'].reset_index(drop=True)\n",
    "logs.sort_values(by='datetime')"
   ]
  },
  {
   "cell_type": "code",
   "execution_count": null,
   "metadata": {},
   "outputs": [],
   "source": [
    "new_users = logs['user'].nunique()\n",
    "print('Было пользователей:',users)\n",
    "print('Стало пользователей:',new_users)\n",
    "print('Количество пользователей уменьшилось на', users - new_users)\n",
    "print('Потеря:', round((users-new_users)/users*100,2),'%')"
   ]
  },
  {
   "cell_type": "code",
   "execution_count": null,
   "metadata": {},
   "outputs": [],
   "source": [
    "new_events = logs['event'].count()\n",
    "print('Было пользователей:',events)\n",
    "print('Стало пользователей:',new_events)\n",
    "print('Количество пользователей уменьшилось на', events - new_events)\n",
    "print('Потеря:', round((events-new_events)/events*100,2),'%')"
   ]
  },
  {
   "cell_type": "markdown",
   "metadata": {},
   "source": [
    "**Вывод**\n",
    "\n",
    "Отбросив неделю июля, мы потеряли менее процента исходных данных, что тоже вполне допустимо."
   ]
  },
  {
   "cell_type": "markdown",
   "metadata": {},
   "source": [
    "### Проверка пользователей в группах"
   ]
  },
  {
   "cell_type": "code",
   "execution_count": null,
   "metadata": {},
   "outputs": [],
   "source": [
    "logs['group'].value_counts()"
   ]
  },
  {
   "cell_type": "code",
   "execution_count": null,
   "metadata": {},
   "outputs": [],
   "source": [
    "logs.groupby('group')['user'].nunique()"
   ]
  },
  {
   "cell_type": "markdown",
   "metadata": {},
   "source": [
    "**Вывод**\n",
    "\n",
    "В каждой группе примерно по 2500 пользователей."
   ]
  },
  {
   "cell_type": "markdown",
   "metadata": {},
   "source": [
    "## Изучение воронки событий"
   ]
  },
  {
   "cell_type": "markdown",
   "metadata": {},
   "source": [
    "### События по частоте"
   ]
  },
  {
   "cell_type": "code",
   "execution_count": null,
   "metadata": {},
   "outputs": [],
   "source": [
    "print('События в порядке убывания частоты:')\n",
    "logs['event'].value_counts()"
   ]
  },
  {
   "cell_type": "markdown",
   "metadata": {},
   "source": [
    "**Возможная расшифровка событий:**\n",
    "* MainScreenAppear - Появление \"Главного экрана\"\n",
    "* OffersScreenAppear - Появление экрана \"Предложения\"\n",
    "* CartScreenAppear - Появление экрана \"Корзина\"\n",
    "* PaymentScreenSuccessful - Появление экрана \"Платеж успешен\"\n",
    "* Tutorial - Руководство пользователя"
   ]
  },
  {
   "cell_type": "code",
   "execution_count": null,
   "metadata": {},
   "outputs": [],
   "source": [
    "plt.figure(figsize=(16,10))\n",
    "plt.title('Частота событий');\n",
    "logs['event'].value_counts().plot(kind='pie', autopct='%0.1f%%');"
   ]
  },
  {
   "cell_type": "markdown",
   "metadata": {},
   "source": [
    "**Вывод**\n",
    "\n",
    "Почти половина событий это - появление \"Главного экрана\", вторая половина это другие 3 события с примерно равными частотами. <br> \"Руководство пользователя\" очень редкое событие."
   ]
  },
  {
   "cell_type": "markdown",
   "metadata": {},
   "source": [
    "### События по числу пользователей"
   ]
  },
  {
   "cell_type": "code",
   "execution_count": null,
   "metadata": {},
   "outputs": [],
   "source": [
    "events_users = logs.groupby('event').agg({'event':'count', 'user':'nunique'}).sort_values(by='user', ascending=False)\n",
    "events_users.columns = ['count_events', 'users']\n",
    "events_users = events_users.reset_index()\n",
    "events_users['users_part_1event'] = (events_users['users'] / new_users * 100).round(1) # доля хотя бы раз совершивших событие"
   ]
  },
  {
   "cell_type": "code",
   "execution_count": null,
   "metadata": {},
   "outputs": [],
   "source": [
    "events_users"
   ]
  },
  {
   "cell_type": "code",
   "execution_count": null,
   "metadata": {},
   "outputs": [],
   "source": [
    "plt.figure(figsize=(16,8))\n",
    "plt.bar(events_users['event'], events_users['users'])\n",
    "plt.title('Частота событий')\n",
    "plt.xlabel('Событие')\n",
    "plt.grid()\n",
    "plt.ylabel('Количество пользователей');"
   ]
  },
  {
   "cell_type": "code",
   "execution_count": null,
   "metadata": {},
   "outputs": [],
   "source": [
    "plt.figure(figsize=(16,8))\n",
    "plt.bar(events_users['event'], events_users['users_part_1event'])\n",
    "plt.title('Доля пользователей, которые хоть раз совершали событие')\n",
    "plt.xlabel('Событие')\n",
    "plt.grid()\n",
    "plt.ylabel('Доля пользователей');"
   ]
  },
  {
   "cell_type": "markdown",
   "metadata": {},
   "source": [
    "### Предположение о порядке событий"
   ]
  },
  {
   "cell_type": "markdown",
   "metadata": {},
   "source": [
    "Проверим во всех ли группах одинаковая зависимость событие по количеству событий."
   ]
  },
  {
   "cell_type": "code",
   "execution_count": null,
   "metadata": {},
   "outputs": [],
   "source": [
    "new_users_A246 = logs[logs['group']=='A246']['user'].nunique()\n",
    "events_users_A246 = logs[logs['group']=='A246'].groupby('event').agg({'event':'count', 'user':'nunique'}).sort_values(by='user', ascending=False)\n",
    "events_users_A246.columns = ['count_events', 'users']\n",
    "events_users_A246 = events_users_A246.reset_index()\n",
    "events_users_A246['users_part_1event'] = (events_users_A246['users'] / new_users_A246 * 100).round(1)\n",
    "events_users_A246"
   ]
  },
  {
   "cell_type": "code",
   "execution_count": null,
   "metadata": {},
   "outputs": [],
   "source": [
    "plt.figure(figsize=(16,8))\n",
    "plt.bar(events_users_A246['event'], events_users_A246['users_part_1event'])\n",
    "plt.title('Доля пользователей, которые хоть раз совершали событие (группа A246)')\n",
    "plt.xlabel('Событие')\n",
    "plt.grid()\n",
    "plt.ylabel('Доля пользователей в группе');"
   ]
  },
  {
   "cell_type": "code",
   "execution_count": null,
   "metadata": {},
   "outputs": [],
   "source": [
    "new_users_A247 = logs[logs['group']=='A247']['user'].nunique()\n",
    "events_users_A247 = logs[logs['group']=='A247'].groupby('event').agg({'event':'count', 'user':'nunique'}).sort_values(by='user', ascending=False)\n",
    "events_users_A247.columns = ['count_events', 'users']\n",
    "events_users_A247 = events_users_A247.reset_index()\n",
    "events_users_A247['users_part_1event'] = (events_users_A247['users'] / new_users_A247 * 100).round(1)\n",
    "events_users_A247"
   ]
  },
  {
   "cell_type": "code",
   "execution_count": null,
   "metadata": {},
   "outputs": [],
   "source": [
    "plt.figure(figsize=(16,8))\n",
    "plt.bar(events_users_A247['event'], events_users_A247['users_part_1event'])\n",
    "plt.title('Доля пользователей, которые хоть раз совершали событие (группа A247)')\n",
    "plt.xlabel('Событие')\n",
    "plt.grid()\n",
    "plt.ylabel('Доля пользователей в группе');"
   ]
  },
  {
   "cell_type": "code",
   "execution_count": null,
   "metadata": {},
   "outputs": [],
   "source": [
    "new_users_B = logs[logs['group']=='B']['user'].nunique()\n",
    "events_users_B = logs[logs['group']=='B'].groupby('event').agg({'event':'count', 'user':'nunique'}).sort_values(by='user', ascending=False)\n",
    "events_users_B.columns = ['count_events', 'users']\n",
    "events_users_B = events_users_B.reset_index()\n",
    "events_users_B['users_part_1event'] = (events_users_B['users'] / new_users_B * 100).round(1)\n",
    "events_users_B"
   ]
  },
  {
   "cell_type": "code",
   "execution_count": null,
   "metadata": {},
   "outputs": [],
   "source": [
    "plt.figure(figsize=(16,8))\n",
    "plt.bar(events_users_A247['event'], events_users_A247['users_part_1event'])\n",
    "plt.title('Доля пользователей, которые хоть раз совершали событие (группа B)')\n",
    "plt.xlabel('Событие')\n",
    "plt.grid()\n",
    "plt.ylabel('Доля пользователей в группе');"
   ]
  },
  {
   "cell_type": "markdown",
   "metadata": {},
   "source": [
    "**Вывод**\n",
    "\n",
    "Воронка событий:\n",
    "\n",
    "1. MainScreenAppear - Появление \"Главного экрана\"\n",
    "2. OffersScreenAppear - Появление экрана \"Предложения\"\n",
    "3. CartScreenAppear - Появление экрана \"Корзина\"\n",
    "4. PaymentScreenSuccessful - Появление экрана \"Платеж успешен\"\n",
    "5. Tutorial - Руководство пользователя"
   ]
  },
  {
   "cell_type": "markdown",
   "metadata": {},
   "source": [
    "### Анализ воронки"
   ]
  },
  {
   "cell_type": "code",
   "execution_count": null,
   "metadata": {},
   "outputs": [],
   "source": [
    "events_users"
   ]
  },
  {
   "cell_type": "code",
   "execution_count": null,
   "metadata": {},
   "outputs": [],
   "source": [
    "fig = go.Figure(go.Funnel(x = events_users['users'], y = events_users['event'], textinfo = \"value+percent initial+percent previous\"))\n",
    "fig.show();"
   ]
  },
  {
   "cell_type": "markdown",
   "metadata": {},
   "source": [
    "Cобытие \"Tutorial\" непотнятно как может помочь нам с практическими результатами и какая от него польза. Будем проводить анализ, не принимая его во внимание."
   ]
  },
  {
   "cell_type": "code",
   "execution_count": null,
   "metadata": {},
   "outputs": [],
   "source": [
    "events_users['welcome_from_last'] = (events_users['users'] / events_users['users'].shift(1,fill_value=0) * 100).round(1)\n",
    "events_users.loc[0,'welcome_from_last'] = 100\n",
    "events_users['welcome_from_start'] = (events_users['users'] / events_users.loc[0,'users'] * 100).round(1)\n",
    "events_users"
   ]
  },
  {
   "cell_type": "markdown",
   "metadata": {},
   "source": [
    "**Промежуточный вывод**\n",
    "\n",
    "Из первой воронки видно, многие что много пользователей (около 38%) не попадают даже на второй экран (OffersScreenAppear) с выбором товара. Возможно есть какая-то проблема на первом экране (MainScreenAppear) - надо об этом сообщить тестировщикам и обязательно выснить причину. <br>\n",
    "Из этой воронки видно, что почти половина пользователей доходит до страницы с успешной оплатой (PaymentScreenSuccessful) и это очень хороший результат."
   ]
  },
  {
   "cell_type": "markdown",
   "metadata": {},
   "source": [
    "**Вывод**\n",
    "\n",
    "Порядок событий в воронке: <br>\n",
    "- MainScreenAppear - появление \"Главного экрана\"\n",
    "- OffersScreenAppear - появление экрана \"Предложения\"\n",
    "- CartScreenAppear - появление экрана \"Корзина\"\n",
    "- PaymentScreenSuccessful - появление экрана \"Платеж успешен\"\n",
    "- Tutorial - экран \"Руководство пользователя\" <br>\n",
    "\n",
    "На второй этап воронки попадает 62% пользователей, 38% соответственно не доходят до второго этапа. Веб-аналитикам стоит выяснить почему так происходит, наверняка есть возможность исправить ситуацию. <br>\n",
    "Событие \"Tutorial\" не несет полезной нагрузки, поэтому его можно не принимать во внимание. <br>\n",
    "Пройдя по воронке, до экрана \"PaymentScreenSuccessful\" доходят 48% пользователей, то есть те кто становиться покупателями. Это очень хороший результат."
   ]
  },
  {
   "cell_type": "markdown",
   "metadata": {},
   "source": [
    "## Изучение результатов эксперимента"
   ]
  },
  {
   "cell_type": "markdown",
   "metadata": {},
   "source": [
    "### Количество пользователей в каждой экспериментальной группе"
   ]
  },
  {
   "cell_type": "code",
   "execution_count": null,
   "metadata": {},
   "outputs": [],
   "source": [
    "users_by_group = logs.groupby('group')['user'].nunique()\n",
    "#users_by_group['sumA'] = users_by_group['A246'] + users_by_group['A247']\n",
    "users_by_group"
   ]
  },
  {
   "cell_type": "markdown",
   "metadata": {},
   "source": [
    "### A/A-тест"
   ]
  },
  {
   "cell_type": "markdown",
   "metadata": {},
   "source": [
    "Для проведения тестов составим таблицу \"event_group_test\", где указано число пользователей в воронке, идущей по событиям и по всем группам, исключим событие \"Tutorial\"."
   ]
  },
  {
   "cell_type": "code",
   "execution_count": null,
   "metadata": {},
   "outputs": [],
   "source": [
    "event_group_test = pd.DataFrame(columns = ['event', 'A246', 'A247', 'B'])\n",
    "event_group_test['event'] = events_users_A246['event']\n",
    "event_group_test['A246'] = events_users_A246['users']\n",
    "event_group_test['A247'] = events_users_A247['users']\n",
    "event_group_test['B'] = events_users_B['users']\n",
    "event_group_test.drop(labels = [4],axis = 0, inplace = True)\n",
    "event_group_test.loc[4] = ['AnyScreen', users_by_group['A246'], users_by_group['A247'], users_by_group['B']]\n",
    "event_group_test"
   ]
  },
  {
   "cell_type": "markdown",
   "metadata": {},
   "source": [
    "Напишем функцию \"my_z_test\" для проведения тестов, на вход подаются 3 параметра: группа1, группа2 и уровень статистической значимости."
   ]
  },
  {
   "cell_type": "code",
   "execution_count": null,
   "metadata": {},
   "outputs": [],
   "source": [
    "def my_z_test(s1, c1, s2, c2):\n",
    "    alpha = .05 / 16 #критический уровень статистической значимости с поправкой Бонферрони\n",
    "    # пропорция для первой группы\n",
    "    p1 = s1 / c1\n",
    "    # пропорция для второй группы\n",
    "    p2 = s2 / c2\n",
    "    # пропорция для комбинированной группы\n",
    "    p_comb = (s1 + s2) / (c1 + c2)\n",
    "    # разница пропорций\n",
    "    diff = p1 - p2\n",
    "    # вычисляем z-статистику\n",
    "    z_value = diff / math.sqrt(p_comb * (1 - p_comb) * (1 / c1 + 1 / c2))\n",
    "    # задаем стандартное нормальное распределение (среднее 0, ст.отклонение 1)\n",
    "    distr = st.norm(0, 1) \n",
    "    p_value = (1 - distr.cdf(abs(z_value))) * 2\n",
    "    print('p-значение:',p_value)\n",
    "    if (p_value < alpha):\n",
    "        print(\"Отвергаем нулевую гипотезу: между долями есть значимая разница\\n\")\n",
    "    else:\n",
    "        print(\"Не получилось отвергнуть нулевую гипотезу, нет оснований считать доли разными\\n\")"
   ]
  },
  {
   "cell_type": "code",
   "execution_count": null,
   "metadata": {},
   "outputs": [],
   "source": [
    "for i in range(4):\n",
    "    event_group_test.loc[i, \"A246\"]\n",
    "    print('Событие:',event_group_test.loc[i, 'event'])\n",
    "    my_z_test(event_group_test.loc[i, \"A246\"], \n",
    "              event_group_test.loc[4, \"A246\"], \n",
    "              event_group_test.loc[i, \"A247\"], \n",
    "              event_group_test.loc[4, \"A247\"])"
   ]
  },
  {
   "cell_type": "markdown",
   "metadata": {},
   "source": [
    "**Вывод**\n",
    "\n",
    "По результатам тестирования для всех событий разница не оказалось значимой, поэтому эти группы считаем контрольными."
   ]
  },
  {
   "cell_type": "markdown",
   "metadata": {},
   "source": [
    "### A/B-тесты"
   ]
  },
  {
   "cell_type": "code",
   "execution_count": null,
   "metadata": {},
   "outputs": [],
   "source": [
    "for i in range(4):\n",
    "    event_group_test.loc[i, \"A246\"]\n",
    "    print('Событие:',event_group_test.loc[i, 'event'])\n",
    "    my_z_test(event_group_test.loc[i, \"A246\"], \n",
    "              event_group_test.loc[4, \"A246\"], \n",
    "              event_group_test.loc[i, \"B\"], \n",
    "              event_group_test.loc[4, \"B\"])"
   ]
  },
  {
   "cell_type": "code",
   "execution_count": null,
   "metadata": {},
   "outputs": [],
   "source": [
    "for i in range(4):\n",
    "    event_group_test.loc[i, \"A247\"]\n",
    "    print('Событие:',event_group_test.loc[i, 'event'])\n",
    "    my_z_test(event_group_test.loc[i, \"A247\"], \n",
    "              event_group_test.loc[4, \"A247\"], \n",
    "              event_group_test.loc[i, \"B\"], \n",
    "              event_group_test.loc[4, \"B\"])"
   ]
  },
  {
   "cell_type": "code",
   "execution_count": null,
   "metadata": {},
   "outputs": [],
   "source": [
    "for i in range(4):\n",
    "    event_group_test.loc[i, \"A246\"]\n",
    "    print('Событие:',event_group_test.loc[i, 'event'])\n",
    "    my_z_test(event_group_test.loc[i, \"A246\"] + event_group_test.loc[i, \"A247\"], \n",
    "              event_group_test.loc[4, \"A246\"] + event_group_test.loc[4, \"A247\"], \n",
    "              event_group_test.loc[i, \"B\"], \n",
    "              event_group_test.loc[4, \"B\"])"
   ]
  },
  {
   "cell_type": "markdown",
   "metadata": {},
   "source": [
    "**Вывод**\n",
    "\n",
    "Значимой разницы между группами во всех тестах не выявлено."
   ]
  },
  {
   "cell_type": "markdown",
   "metadata": {},
   "source": [
    "## Выводы\n",
    "\n",
    "В ходе проверки данных выяснилось, что данные предоставлены с 25 июля по 7 августа. Данные в июле характеризуются малой событийностью. Скорее всего это было какое-то тестирование, а сбор данных начался уже со второй недели. Данные за июль были исключены. Оставили период с 2019-07-31 21:00:00. Потеряли 0.82% событий, что существенно не должно повлиять на дальнейший анализ. <br>\n",
    "\n",
    "Среднее количествово событий пользователя равно 32, но \"длинный хвост\" указывает на наличие \"выбросов\" в исходных данных, поэтому рациональней использовать медиану равную 20. <br>\n",
    "Количество пользователей в каждой группе осталось примерно 2500, а событий около 80000 на каждую группу. Достаточно ровные данные.\n",
    "\n",
    "Определен порядок событий в воронке:\n",
    "- MainScreenAppear - появление \"Главного экрана\" (117889 событий)\n",
    "- OffersScreenAppear - появление экрана \"Предложения\" (46531 событий)\n",
    "- CartScreenAppear - появление экрана \"Корзина\" (42343 событий)\n",
    "- PaymentScreenSuccessful - появление экрана \"Платеж успешен\" (33951 событий)\n",
    "- Tutorial - экран \"Руководство пользователя\" (1010 событий)<br>\n",
    "Число пользователей совершивших самое популярное событие \"MainScreenAppear\" - 7423, примерно по 2500 на группу. <br>\n",
    "\n",
    "На второй этап воронки событий попадает 62% пользователей, 38% соответственно не доходят до второго этапа. Веб-аналитикам стоит выяснить почему так происходит, наверняка есть возможность исправить ситуацию. <br>\n",
    "От события \"OffersScreenAppear\" до события \"CartScreenAppear\" не доходит 19%. Возможно удержать пользователя помогли бы маркетинговые уловки в виде внезапных скидок или подарков. <br>\n",
    "От появления экрана \"Корзины\" до покупки не доходит 5%. Могут быть проблемы с оплатой. Стоит максимально упростить эту процедуру и (или) добавить иные способы оплаты. <br>\n",
    "Событие \"Tutorial\" не несет полезной нагрузки, поэтому его можно не принимать во внимание. <br>\n",
    "До экрана \"PaymentScreenSuccessful\" доходят 48% от первоначального количества пользователей, то есть те кто становиться покупателями. Это очень хороший результат. <br>\n",
    "\n",
    "В ходе тестирования были проведены 16 экспериментов (уровень статистической значимости - 5/16%):\n",
    "- A246/A247 - 4 эксперемента (для каждого события)\n",
    "- A246/B - 4 эксперемента (для каждого события)\n",
    "- A247/B - 4 эксперемента (для каждого события)\n",
    "- A246+A247/B - 4 эксперемента (для каждого события) <br>\n",
    "\n",
    "По результатам тестирования групп A246 и A247 для всех событий разница не оказалось значимой, поэтому эти группы считаем контрольными. <br>\n",
    "\n",
    "В результате каждого A/A/B-теста значимой разницы между группами не выявлено. Поэтому можно утверждать, что на поведение пользователей изменение шрифта значимого эффекта не оказало. Тестирование можно назвать успешным - изменение шрифта не повлияло на поведение пользователей."
   ]
  }
 ],
 "metadata": {
  "ExecuteTimeLog": [
   {
    "duration": 1187,
    "start_time": "2023-04-29T07:59:55.314Z"
   },
   {
    "duration": 806,
    "start_time": "2023-04-29T08:00:30.784Z"
   },
   {
    "duration": 13,
    "start_time": "2023-04-29T08:00:45.134Z"
   },
   {
    "duration": 8,
    "start_time": "2023-04-29T08:00:54.473Z"
   },
   {
    "duration": 6,
    "start_time": "2023-04-29T08:01:10.809Z"
   },
   {
    "duration": 7,
    "start_time": "2023-04-29T08:01:13.327Z"
   },
   {
    "duration": 53,
    "start_time": "2023-04-29T08:01:31.225Z"
   },
   {
    "duration": 50,
    "start_time": "2023-04-29T08:02:50.074Z"
   },
   {
    "duration": 286,
    "start_time": "2023-04-29T08:02:57.706Z"
   },
   {
    "duration": 7,
    "start_time": "2023-04-29T08:03:00.810Z"
   },
   {
    "duration": 152,
    "start_time": "2023-04-29T08:08:52.212Z"
   },
   {
    "duration": 9,
    "start_time": "2023-04-29T08:08:55.559Z"
   },
   {
    "duration": 20,
    "start_time": "2023-04-29T08:18:48.482Z"
   },
   {
    "duration": 3,
    "start_time": "2023-04-29T08:21:59.747Z"
   },
   {
    "duration": 18,
    "start_time": "2023-04-29T08:22:06.067Z"
   },
   {
    "duration": 89,
    "start_time": "2023-04-29T08:23:45.358Z"
   },
   {
    "duration": 4,
    "start_time": "2023-04-29T08:23:53.000Z"
   },
   {
    "duration": 21,
    "start_time": "2023-04-29T08:23:54.745Z"
   },
   {
    "duration": 3,
    "start_time": "2023-04-29T08:24:02.095Z"
   },
   {
    "duration": 18,
    "start_time": "2023-04-29T08:24:02.974Z"
   },
   {
    "duration": 42,
    "start_time": "2023-04-29T08:24:31.250Z"
   },
   {
    "duration": 8,
    "start_time": "2023-04-29T08:26:27.251Z"
   },
   {
    "duration": 67,
    "start_time": "2023-04-29T08:26:52.078Z"
   },
   {
    "duration": 10,
    "start_time": "2023-04-29T08:27:07.652Z"
   },
   {
    "duration": 25,
    "start_time": "2023-04-29T08:27:25.123Z"
   },
   {
    "duration": 12,
    "start_time": "2023-04-29T08:32:35.297Z"
   },
   {
    "duration": 25,
    "start_time": "2023-04-29T08:32:41.777Z"
   },
   {
    "duration": 51,
    "start_time": "2023-04-29T08:43:21.409Z"
   },
   {
    "duration": 13,
    "start_time": "2023-04-29T08:43:24.051Z"
   },
   {
    "duration": 27,
    "start_time": "2023-04-29T08:43:27.685Z"
   },
   {
    "duration": 53,
    "start_time": "2023-04-29T08:45:14.005Z"
   },
   {
    "duration": 90,
    "start_time": "2023-04-29T08:50:10.205Z"
   },
   {
    "duration": 10,
    "start_time": "2023-04-29T08:50:21.619Z"
   },
   {
    "duration": 44,
    "start_time": "2023-04-29T08:53:50.248Z"
   },
   {
    "duration": 10,
    "start_time": "2023-04-29T08:53:53.572Z"
   },
   {
    "duration": 23,
    "start_time": "2023-04-29T08:53:57.948Z"
   },
   {
    "duration": 10,
    "start_time": "2023-04-29T08:54:06.766Z"
   },
   {
    "duration": 66,
    "start_time": "2023-04-29T08:54:09.924Z"
   },
   {
    "duration": 20,
    "start_time": "2023-04-29T08:54:45.609Z"
   },
   {
    "duration": 9,
    "start_time": "2023-04-29T08:56:13.860Z"
   },
   {
    "duration": 20,
    "start_time": "2023-04-29T08:56:16.301Z"
   },
   {
    "duration": 9,
    "start_time": "2023-04-29T08:56:20.970Z"
   },
   {
    "duration": 27,
    "start_time": "2023-04-29T08:56:24.071Z"
   },
   {
    "duration": 53,
    "start_time": "2023-04-29T08:58:53.359Z"
   },
   {
    "duration": 41,
    "start_time": "2023-04-29T08:59:05.208Z"
   },
   {
    "duration": 40,
    "start_time": "2023-04-29T08:59:15.118Z"
   },
   {
    "duration": 3,
    "start_time": "2023-04-29T09:10:46.149Z"
   },
   {
    "duration": 152,
    "start_time": "2023-04-29T09:10:49.513Z"
   },
   {
    "duration": 7,
    "start_time": "2023-04-29T09:10:51.987Z"
   },
   {
    "duration": 9,
    "start_time": "2023-04-29T09:10:57.517Z"
   },
   {
    "duration": 9,
    "start_time": "2023-04-29T09:10:59.038Z"
   },
   {
    "duration": 18,
    "start_time": "2023-04-29T09:11:08.185Z"
   },
   {
    "duration": 3,
    "start_time": "2023-04-29T09:11:12.287Z"
   },
   {
    "duration": 19,
    "start_time": "2023-04-29T09:11:13.629Z"
   },
   {
    "duration": 6,
    "start_time": "2023-04-29T09:11:16.617Z"
   },
   {
    "duration": 64,
    "start_time": "2023-04-29T09:11:17.900Z"
   },
   {
    "duration": 57,
    "start_time": "2023-04-29T09:11:18.946Z"
   },
   {
    "duration": 36,
    "start_time": "2023-04-29T09:11:21.287Z"
   },
   {
    "duration": 8,
    "start_time": "2023-04-29T09:11:22.315Z"
   },
   {
    "duration": 20,
    "start_time": "2023-04-29T09:11:23.325Z"
   },
   {
    "duration": 10,
    "start_time": "2023-04-29T09:11:25.946Z"
   },
   {
    "duration": 27,
    "start_time": "2023-04-29T09:11:28.014Z"
   },
   {
    "duration": 18,
    "start_time": "2023-04-29T09:11:32.179Z"
   },
   {
    "duration": 63,
    "start_time": "2023-04-29T09:11:33.910Z"
   },
   {
    "duration": 66,
    "start_time": "2023-04-29T09:13:10.894Z"
   },
   {
    "duration": 4,
    "start_time": "2023-04-29T09:13:26.108Z"
   },
   {
    "duration": 5,
    "start_time": "2023-04-29T09:13:36.371Z"
   },
   {
    "duration": 85,
    "start_time": "2023-04-29T09:13:47.295Z"
   },
   {
    "duration": 74,
    "start_time": "2023-04-29T09:15:21.074Z"
   },
   {
    "duration": 65,
    "start_time": "2023-04-29T09:18:39.464Z"
   },
   {
    "duration": 74,
    "start_time": "2023-04-29T09:18:43.832Z"
   },
   {
    "duration": 71,
    "start_time": "2023-04-29T09:19:02.051Z"
   },
   {
    "duration": 110,
    "start_time": "2023-04-29T09:19:09.407Z"
   },
   {
    "duration": 11,
    "start_time": "2023-04-29T09:19:11.443Z"
   },
   {
    "duration": 45,
    "start_time": "2023-04-29T09:19:15.003Z"
   },
   {
    "duration": 50,
    "start_time": "2023-04-29T09:19:17.637Z"
   },
   {
    "duration": 43,
    "start_time": "2023-04-29T09:19:18.977Z"
   },
   {
    "duration": 63,
    "start_time": "2023-05-03T07:17:20.517Z"
   },
   {
    "duration": 1496,
    "start_time": "2023-05-03T07:17:26.358Z"
   },
   {
    "duration": 1020,
    "start_time": "2023-05-03T07:17:29.193Z"
   },
   {
    "duration": 18,
    "start_time": "2023-05-03T07:17:30.516Z"
   },
   {
    "duration": 34,
    "start_time": "2023-05-03T07:17:32.440Z"
   },
   {
    "duration": 4,
    "start_time": "2023-05-03T07:17:34.817Z"
   },
   {
    "duration": 20,
    "start_time": "2023-05-03T07:17:36.565Z"
   },
   {
    "duration": 11,
    "start_time": "2023-05-03T07:17:38.410Z"
   },
   {
    "duration": 83,
    "start_time": "2023-05-03T07:17:39.288Z"
   },
   {
    "duration": 81,
    "start_time": "2023-05-03T07:17:40.161Z"
   },
   {
    "duration": 44,
    "start_time": "2023-05-03T07:17:42.243Z"
   },
   {
    "duration": 10,
    "start_time": "2023-05-03T07:17:43.337Z"
   },
   {
    "duration": 32,
    "start_time": "2023-05-03T07:17:45.075Z"
   },
   {
    "duration": 11,
    "start_time": "2023-05-03T07:17:47.121Z"
   },
   {
    "duration": 38,
    "start_time": "2023-05-03T07:17:48.487Z"
   },
   {
    "duration": 24,
    "start_time": "2023-05-03T07:17:51.362Z"
   },
   {
    "duration": 92,
    "start_time": "2023-05-03T07:17:52.574Z"
   },
   {
    "duration": 132,
    "start_time": "2023-05-03T07:17:53.918Z"
   },
   {
    "duration": 11,
    "start_time": "2023-05-03T07:17:55.021Z"
   },
   {
    "duration": 47,
    "start_time": "2023-05-03T07:17:57.625Z"
   },
   {
    "duration": 49,
    "start_time": "2023-05-03T07:17:58.857Z"
   },
   {
    "duration": 60,
    "start_time": "2023-05-03T07:18:00.559Z"
   },
   {
    "duration": 12,
    "start_time": "2023-05-03T07:18:02.543Z"
   },
   {
    "duration": 36,
    "start_time": "2023-05-03T07:18:23.895Z"
   },
   {
    "duration": 10,
    "start_time": "2023-05-03T07:19:28.088Z"
   },
   {
    "duration": 18,
    "start_time": "2023-05-03T07:22:22.430Z"
   },
   {
    "duration": 69,
    "start_time": "2023-05-03T07:22:51.087Z"
   },
   {
    "duration": 9,
    "start_time": "2023-05-03T07:22:57.274Z"
   },
   {
    "duration": 23,
    "start_time": "2023-05-03T07:23:02.556Z"
   },
   {
    "duration": 327,
    "start_time": "2023-05-03T07:24:16.015Z"
   },
   {
    "duration": 347,
    "start_time": "2023-05-03T07:24:45.432Z"
   },
   {
    "duration": 356,
    "start_time": "2023-05-03T07:25:03.159Z"
   },
   {
    "duration": 329,
    "start_time": "2023-05-03T07:26:02.723Z"
   },
   {
    "duration": 326,
    "start_time": "2023-05-03T07:26:12.437Z"
   },
   {
    "duration": 436,
    "start_time": "2023-05-03T07:26:21.917Z"
   },
   {
    "duration": 356,
    "start_time": "2023-05-03T07:26:29.873Z"
   },
   {
    "duration": 347,
    "start_time": "2023-05-03T07:26:37.061Z"
   },
   {
    "duration": 13,
    "start_time": "2023-05-03T07:38:16.988Z"
   },
   {
    "duration": 16,
    "start_time": "2023-05-03T07:47:43.420Z"
   },
   {
    "duration": 25,
    "start_time": "2023-05-03T07:47:45.688Z"
   },
   {
    "duration": 376,
    "start_time": "2023-05-03T07:47:47.526Z"
   },
   {
    "duration": 227,
    "start_time": "2023-05-03T07:48:01.230Z"
   },
   {
    "duration": 7,
    "start_time": "2023-05-03T07:49:03.745Z"
   },
   {
    "duration": 13,
    "start_time": "2023-05-03T07:55:01.955Z"
   },
   {
    "duration": 14,
    "start_time": "2023-05-03T07:56:52.508Z"
   },
   {
    "duration": 11,
    "start_time": "2023-05-03T07:57:00.159Z"
   },
   {
    "duration": 6,
    "start_time": "2023-05-03T07:57:03.673Z"
   },
   {
    "duration": 478,
    "start_time": "2023-05-03T07:57:20.325Z"
   },
   {
    "duration": 252,
    "start_time": "2023-05-03T07:57:47.626Z"
   },
   {
    "duration": 266,
    "start_time": "2023-05-03T07:57:53.310Z"
   },
   {
    "duration": 259,
    "start_time": "2023-05-03T07:58:00.010Z"
   },
   {
    "duration": 262,
    "start_time": "2023-05-03T07:58:17.910Z"
   },
   {
    "duration": 242,
    "start_time": "2023-05-03T07:58:24.468Z"
   },
   {
    "duration": 229,
    "start_time": "2023-05-03T07:58:33.157Z"
   },
   {
    "duration": 284,
    "start_time": "2023-05-03T07:58:40.238Z"
   },
   {
    "duration": 18,
    "start_time": "2023-05-03T08:06:33.867Z"
   },
   {
    "duration": 457,
    "start_time": "2023-05-03T08:06:42.519Z"
   },
   {
    "duration": 389,
    "start_time": "2023-05-03T08:07:34.739Z"
   },
   {
    "duration": 887,
    "start_time": "2023-05-03T08:09:01.029Z"
   },
   {
    "duration": 13,
    "start_time": "2023-05-03T08:09:13.678Z"
   },
   {
    "duration": 464,
    "start_time": "2023-05-03T08:09:50.182Z"
   },
   {
    "duration": 428,
    "start_time": "2023-05-03T08:09:59.603Z"
   },
   {
    "duration": 612,
    "start_time": "2023-05-03T08:10:07.994Z"
   },
   {
    "duration": 369,
    "start_time": "2023-05-03T08:10:14.113Z"
   },
   {
    "duration": 541,
    "start_time": "2023-05-03T08:10:21.593Z"
   },
   {
    "duration": 502,
    "start_time": "2023-05-03T08:18:06.806Z"
   },
   {
    "duration": 15,
    "start_time": "2023-05-03T08:19:26.491Z"
   },
   {
    "duration": 4,
    "start_time": "2023-05-03T08:19:59.848Z"
   },
   {
    "duration": 4,
    "start_time": "2023-05-03T08:20:06.555Z"
   },
   {
    "duration": 585,
    "start_time": "2023-05-03T08:20:32.836Z"
   },
   {
    "duration": 471,
    "start_time": "2023-05-03T08:20:49.529Z"
   },
   {
    "duration": 28,
    "start_time": "2023-05-03T08:24:06.104Z"
   },
   {
    "duration": 11,
    "start_time": "2023-05-03T08:24:13.956Z"
   },
   {
    "duration": 13,
    "start_time": "2023-05-03T08:25:12.725Z"
   },
   {
    "duration": 14,
    "start_time": "2023-05-03T08:25:38.369Z"
   },
   {
    "duration": 12,
    "start_time": "2023-05-03T08:25:53.451Z"
   },
   {
    "duration": 254,
    "start_time": "2023-05-03T08:26:42.701Z"
   },
   {
    "duration": 259,
    "start_time": "2023-05-03T08:26:52.676Z"
   },
   {
    "duration": 60,
    "start_time": "2023-05-03T08:28:13.694Z"
   },
   {
    "duration": 567,
    "start_time": "2023-05-03T08:28:27.173Z"
   },
   {
    "duration": 28,
    "start_time": "2023-05-03T08:28:47.618Z"
   },
   {
    "duration": 214,
    "start_time": "2023-05-03T08:28:49.841Z"
   },
   {
    "duration": 29,
    "start_time": "2023-05-03T08:29:11.145Z"
   },
   {
    "duration": 27,
    "start_time": "2023-05-03T08:29:23.119Z"
   },
   {
    "duration": 215,
    "start_time": "2023-05-03T08:29:24.416Z"
   },
   {
    "duration": 11,
    "start_time": "2023-05-03T08:40:21.174Z"
   },
   {
    "duration": 11,
    "start_time": "2023-05-03T08:40:40.120Z"
   },
   {
    "duration": 4,
    "start_time": "2023-05-03T08:41:04.278Z"
   },
   {
    "duration": 4,
    "start_time": "2023-05-03T08:42:35.752Z"
   },
   {
    "duration": 8,
    "start_time": "2023-05-03T08:43:40.483Z"
   },
   {
    "duration": 4,
    "start_time": "2023-05-03T08:43:44.015Z"
   },
   {
    "duration": 23,
    "start_time": "2023-05-03T08:43:53.742Z"
   },
   {
    "duration": 305,
    "start_time": "2023-05-03T08:43:57.726Z"
   },
   {
    "duration": 55,
    "start_time": "2023-05-03T08:44:59.226Z"
   },
   {
    "duration": 11,
    "start_time": "2023-05-03T08:49:04.190Z"
   },
   {
    "duration": 10,
    "start_time": "2023-05-03T08:49:27.719Z"
   },
   {
    "duration": 33,
    "start_time": "2023-05-03T08:50:42.074Z"
   },
   {
    "duration": 14,
    "start_time": "2023-05-03T08:50:55.854Z"
   },
   {
    "duration": 23,
    "start_time": "2023-05-03T08:54:11.890Z"
   },
   {
    "duration": 47,
    "start_time": "2023-05-03T08:54:39.206Z"
   },
   {
    "duration": 26,
    "start_time": "2023-05-03T09:06:59.727Z"
   },
   {
    "duration": 11,
    "start_time": "2023-05-03T09:09:53.644Z"
   },
   {
    "duration": 5,
    "start_time": "2023-05-03T09:10:18.580Z"
   },
   {
    "duration": 3,
    "start_time": "2023-05-03T09:11:07.644Z"
   },
   {
    "duration": 20,
    "start_time": "2023-05-03T09:11:14.520Z"
   },
   {
    "duration": 148,
    "start_time": "2023-05-03T09:11:55.688Z"
   },
   {
    "duration": 147,
    "start_time": "2023-05-03T09:12:10.004Z"
   },
   {
    "duration": 156,
    "start_time": "2023-05-03T09:12:17.036Z"
   },
   {
    "duration": 152,
    "start_time": "2023-05-03T09:12:27.603Z"
   },
   {
    "duration": 158,
    "start_time": "2023-05-03T09:12:32.606Z"
   },
   {
    "duration": 188,
    "start_time": "2023-05-03T09:12:38.382Z"
   },
   {
    "duration": 321,
    "start_time": "2023-05-03T09:12:43.788Z"
   },
   {
    "duration": 232,
    "start_time": "2023-05-03T09:13:20.750Z"
   },
   {
    "duration": 156,
    "start_time": "2023-05-03T09:13:46.551Z"
   },
   {
    "duration": 160,
    "start_time": "2023-05-03T09:14:07.580Z"
   },
   {
    "duration": 192,
    "start_time": "2023-05-03T09:14:15.985Z"
   },
   {
    "duration": 170,
    "start_time": "2023-05-03T09:14:22.014Z"
   },
   {
    "duration": 73,
    "start_time": "2023-05-03T09:19:39.202Z"
   },
   {
    "duration": 366,
    "start_time": "2023-05-03T09:21:46.550Z"
   },
   {
    "duration": 292,
    "start_time": "2023-05-03T09:22:56.247Z"
   },
   {
    "duration": 198,
    "start_time": "2023-05-03T09:24:39.416Z"
   },
   {
    "duration": 203,
    "start_time": "2023-05-03T09:25:06.480Z"
   },
   {
    "duration": 8,
    "start_time": "2023-05-03T09:38:22.418Z"
   },
   {
    "duration": 207,
    "start_time": "2023-05-03T09:38:40.915Z"
   },
   {
    "duration": 137,
    "start_time": "2023-05-03T09:39:03.562Z"
   },
   {
    "duration": 204,
    "start_time": "2023-05-03T09:39:12.332Z"
   },
   {
    "duration": 333,
    "start_time": "2023-05-03T09:39:20.243Z"
   },
   {
    "duration": 188,
    "start_time": "2023-05-03T09:39:33.307Z"
   },
   {
    "duration": 22,
    "start_time": "2023-05-03T09:40:10.199Z"
   },
   {
    "duration": 187,
    "start_time": "2023-05-03T09:41:15.525Z"
   },
   {
    "duration": 192,
    "start_time": "2023-05-03T09:42:26.327Z"
   },
   {
    "duration": 179,
    "start_time": "2023-05-03T09:43:11.720Z"
   },
   {
    "duration": 219,
    "start_time": "2023-05-03T09:44:02.463Z"
   },
   {
    "duration": 201,
    "start_time": "2023-05-03T09:46:37.725Z"
   },
   {
    "duration": 197,
    "start_time": "2023-05-03T09:47:38.114Z"
   },
   {
    "duration": 178,
    "start_time": "2023-05-03T09:48:11.079Z"
   },
   {
    "duration": 195,
    "start_time": "2023-05-03T09:48:15.210Z"
   },
   {
    "duration": 175,
    "start_time": "2023-05-03T09:48:20.908Z"
   },
   {
    "duration": 46,
    "start_time": "2023-05-03T10:06:50.645Z"
   },
   {
    "duration": 54,
    "start_time": "2023-05-03T10:07:35.469Z"
   },
   {
    "duration": 76,
    "start_time": "2023-05-03T10:07:45.819Z"
   },
   {
    "duration": 16,
    "start_time": "2023-05-03T10:11:20.806Z"
   },
   {
    "duration": 98,
    "start_time": "2023-05-03T10:11:51.109Z"
   },
   {
    "duration": 103,
    "start_time": "2023-05-03T10:13:16.464Z"
   },
   {
    "duration": 108,
    "start_time": "2023-05-03T10:13:34.506Z"
   },
   {
    "duration": 105,
    "start_time": "2023-05-03T10:14:25.121Z"
   },
   {
    "duration": 99,
    "start_time": "2023-05-03T10:14:37.248Z"
   },
   {
    "duration": 104,
    "start_time": "2023-05-03T10:14:43.058Z"
   },
   {
    "duration": 104,
    "start_time": "2023-05-03T10:15:18.219Z"
   },
   {
    "duration": 104,
    "start_time": "2023-05-03T10:15:27.061Z"
   },
   {
    "duration": 105,
    "start_time": "2023-05-03T10:15:43.673Z"
   },
   {
    "duration": 103,
    "start_time": "2023-05-03T10:16:15.025Z"
   },
   {
    "duration": 104,
    "start_time": "2023-05-03T10:16:20.219Z"
   },
   {
    "duration": 106,
    "start_time": "2023-05-03T10:16:31.211Z"
   },
   {
    "duration": 200,
    "start_time": "2023-05-03T10:17:09.304Z"
   },
   {
    "duration": 60,
    "start_time": "2023-05-03T10:18:12.053Z"
   },
   {
    "duration": 834,
    "start_time": "2023-05-03T10:19:11.129Z"
   },
   {
    "duration": 98,
    "start_time": "2023-05-03T10:27:47.813Z"
   },
   {
    "duration": 129,
    "start_time": "2023-05-03T10:29:45.267Z"
   },
   {
    "duration": 51,
    "start_time": "2023-05-03T10:31:44.824Z"
   },
   {
    "duration": 86,
    "start_time": "2023-05-03T10:31:49.889Z"
   },
   {
    "duration": 82,
    "start_time": "2023-05-03T10:34:09.823Z"
   },
   {
    "duration": 70,
    "start_time": "2023-05-03T10:36:21.125Z"
   },
   {
    "duration": 1171,
    "start_time": "2023-05-03T10:36:29.523Z"
   },
   {
    "duration": 1048,
    "start_time": "2023-05-03T10:36:40.535Z"
   },
   {
    "duration": 388,
    "start_time": "2023-05-03T10:37:10.239Z"
   },
   {
    "duration": 199,
    "start_time": "2023-05-03T10:37:26.255Z"
   },
   {
    "duration": 213,
    "start_time": "2023-05-03T10:37:46.018Z"
   },
   {
    "duration": 153,
    "start_time": "2023-05-03T10:38:47.124Z"
   },
   {
    "duration": 159,
    "start_time": "2023-05-03T10:39:19.436Z"
   },
   {
    "duration": 194,
    "start_time": "2023-05-03T10:41:15.375Z"
   },
   {
    "duration": 234,
    "start_time": "2023-05-03T10:41:23.823Z"
   },
   {
    "duration": 201,
    "start_time": "2023-05-03T11:01:41.125Z"
   },
   {
    "duration": 211,
    "start_time": "2023-05-03T11:06:36.221Z"
   },
   {
    "duration": 19,
    "start_time": "2023-05-03T11:14:14.222Z"
   },
   {
    "duration": 12,
    "start_time": "2023-05-03T11:14:28.334Z"
   },
   {
    "duration": 17,
    "start_time": "2023-05-03T11:14:37.709Z"
   },
   {
    "duration": 206,
    "start_time": "2023-05-03T11:15:40.919Z"
   },
   {
    "duration": 217,
    "start_time": "2023-05-03T11:16:02.343Z"
   },
   {
    "duration": 234,
    "start_time": "2023-05-03T11:16:11.634Z"
   },
   {
    "duration": 368,
    "start_time": "2023-05-03T11:16:20.211Z"
   },
   {
    "duration": 241,
    "start_time": "2023-05-03T11:16:59.759Z"
   },
   {
    "duration": 211,
    "start_time": "2023-05-03T11:18:35.616Z"
   },
   {
    "duration": 213,
    "start_time": "2023-05-03T11:18:44.048Z"
   },
   {
    "duration": 306,
    "start_time": "2023-05-03T11:21:13.916Z"
   },
   {
    "duration": 238,
    "start_time": "2023-05-03T11:22:13.527Z"
   },
   {
    "duration": 235,
    "start_time": "2023-05-03T11:22:35.289Z"
   },
   {
    "duration": 210,
    "start_time": "2023-05-03T11:25:29.017Z"
   },
   {
    "duration": 198,
    "start_time": "2023-05-03T11:27:12.327Z"
   },
   {
    "duration": 208,
    "start_time": "2023-05-03T11:27:35.327Z"
   },
   {
    "duration": 55,
    "start_time": "2023-05-03T11:30:26.923Z"
   },
   {
    "duration": 198,
    "start_time": "2023-05-03T11:30:42.021Z"
   },
   {
    "duration": 918,
    "start_time": "2023-05-03T11:34:07.738Z"
   },
   {
    "duration": 906,
    "start_time": "2023-05-03T11:34:18.614Z"
   },
   {
    "duration": 297,
    "start_time": "2023-05-03T11:34:24.627Z"
   },
   {
    "duration": 196,
    "start_time": "2023-05-03T11:34:32.647Z"
   },
   {
    "duration": 202,
    "start_time": "2023-05-03T11:34:46.048Z"
   },
   {
    "duration": 201,
    "start_time": "2023-05-03T11:34:53.030Z"
   },
   {
    "duration": 216,
    "start_time": "2023-05-03T11:35:38.420Z"
   },
   {
    "duration": 214,
    "start_time": "2023-05-03T11:36:27.630Z"
   },
   {
    "duration": 207,
    "start_time": "2023-05-03T11:37:34.622Z"
   },
   {
    "duration": 178,
    "start_time": "2023-05-03T11:43:37.516Z"
   },
   {
    "duration": 216,
    "start_time": "2023-05-03T11:43:44.234Z"
   },
   {
    "duration": 230,
    "start_time": "2023-05-03T11:45:27.330Z"
   },
   {
    "duration": 217,
    "start_time": "2023-05-03T11:45:35.815Z"
   },
   {
    "duration": 298,
    "start_time": "2023-05-03T11:45:44.930Z"
   },
   {
    "duration": 195,
    "start_time": "2023-05-03T11:45:48.544Z"
   },
   {
    "duration": 13,
    "start_time": "2023-05-03T11:46:11.214Z"
   },
   {
    "duration": 73,
    "start_time": "2023-05-03T11:46:22.013Z"
   },
   {
    "duration": 165,
    "start_time": "2023-05-03T11:46:29.346Z"
   },
   {
    "duration": 12,
    "start_time": "2023-05-03T11:46:39.523Z"
   },
   {
    "duration": 272,
    "start_time": "2023-05-03T11:46:47.839Z"
   },
   {
    "duration": 232,
    "start_time": "2023-05-03T11:46:52.716Z"
   },
   {
    "duration": 195,
    "start_time": "2023-05-03T11:48:19.614Z"
   },
   {
    "duration": 198,
    "start_time": "2023-05-03T11:48:45.357Z"
   },
   {
    "duration": 212,
    "start_time": "2023-05-03T11:49:03.560Z"
   },
   {
    "duration": 202,
    "start_time": "2023-05-03T11:49:47.014Z"
   },
   {
    "duration": 195,
    "start_time": "2023-05-03T11:50:03.438Z"
   },
   {
    "duration": 199,
    "start_time": "2023-05-03T11:50:08.931Z"
   },
   {
    "duration": 203,
    "start_time": "2023-05-03T11:50:23.515Z"
   },
   {
    "duration": 12,
    "start_time": "2023-05-03T11:53:02.225Z"
   },
   {
    "duration": 9,
    "start_time": "2023-05-03T11:53:19.418Z"
   },
   {
    "duration": 5,
    "start_time": "2023-05-03T11:53:38.462Z"
   },
   {
    "duration": 6,
    "start_time": "2023-05-03T11:53:40.841Z"
   },
   {
    "duration": 9,
    "start_time": "2023-05-03T11:53:46.846Z"
   },
   {
    "duration": 10,
    "start_time": "2023-05-03T11:55:41.217Z"
   },
   {
    "duration": 354,
    "start_time": "2023-05-03T11:56:13.012Z"
   },
   {
    "duration": 48,
    "start_time": "2023-05-03T11:56:40.926Z"
   },
   {
    "duration": 67,
    "start_time": "2023-05-03T11:57:11.544Z"
   },
   {
    "duration": 12,
    "start_time": "2023-05-03T12:14:24.809Z"
   },
   {
    "duration": 4,
    "start_time": "2023-05-03T12:14:34.570Z"
   },
   {
    "duration": 169,
    "start_time": "2023-05-03T12:14:37.932Z"
   },
   {
    "duration": 3,
    "start_time": "2023-05-03T12:14:56.930Z"
   },
   {
    "duration": 145,
    "start_time": "2023-05-03T12:14:59.514Z"
   },
   {
    "duration": 4,
    "start_time": "2023-05-03T12:16:58.406Z"
   },
   {
    "duration": 151,
    "start_time": "2023-05-03T12:17:24.833Z"
   },
   {
    "duration": 9,
    "start_time": "2023-05-03T12:17:29.319Z"
   },
   {
    "duration": 20,
    "start_time": "2023-05-03T12:17:32.279Z"
   },
   {
    "duration": 4,
    "start_time": "2023-05-03T12:17:35.207Z"
   },
   {
    "duration": 20,
    "start_time": "2023-05-03T12:17:37.523Z"
   },
   {
    "duration": 8,
    "start_time": "2023-05-03T12:17:40.357Z"
   },
   {
    "duration": 71,
    "start_time": "2023-05-03T12:17:42.526Z"
   },
   {
    "duration": 61,
    "start_time": "2023-05-03T12:17:44.833Z"
   },
   {
    "duration": 4,
    "start_time": "2023-05-03T12:32:27.219Z"
   },
   {
    "duration": 4,
    "start_time": "2023-05-03T12:32:47.051Z"
   },
   {
    "duration": 4,
    "start_time": "2023-05-03T14:07:13.013Z"
   },
   {
    "duration": 3,
    "start_time": "2023-05-03T14:08:15.061Z"
   },
   {
    "duration": 147,
    "start_time": "2023-05-03T14:08:24.634Z"
   },
   {
    "duration": 9,
    "start_time": "2023-05-03T14:08:27.115Z"
   },
   {
    "duration": 20,
    "start_time": "2023-05-03T14:08:29.463Z"
   },
   {
    "duration": 300,
    "start_time": "2023-05-03T14:08:36.844Z"
   },
   {
    "duration": 3,
    "start_time": "2023-05-03T14:10:13.510Z"
   },
   {
    "duration": 4,
    "start_time": "2023-05-03T14:10:16.721Z"
   },
   {
    "duration": 53,
    "start_time": "2023-05-03T14:10:33.594Z"
   },
   {
    "duration": 1225,
    "start_time": "2023-05-03T14:10:47.568Z"
   },
   {
    "duration": 157,
    "start_time": "2023-05-03T14:10:54.067Z"
   },
   {
    "duration": 13,
    "start_time": "2023-05-03T14:10:55.410Z"
   },
   {
    "duration": 21,
    "start_time": "2023-05-03T14:10:58.613Z"
   },
   {
    "duration": 3,
    "start_time": "2023-05-03T14:11:00.971Z"
   },
   {
    "duration": 19,
    "start_time": "2023-05-03T14:11:03.128Z"
   },
   {
    "duration": 11,
    "start_time": "2023-05-03T14:11:05.644Z"
   },
   {
    "duration": 74,
    "start_time": "2023-05-03T14:11:08.269Z"
   },
   {
    "duration": 56,
    "start_time": "2023-05-03T14:11:09.358Z"
   },
   {
    "duration": 43,
    "start_time": "2023-05-03T14:11:19.808Z"
   },
   {
    "duration": 11,
    "start_time": "2023-05-03T14:11:22.610Z"
   },
   {
    "duration": 20,
    "start_time": "2023-05-03T14:11:23.739Z"
   },
   {
    "duration": 10,
    "start_time": "2023-05-03T14:11:25.530Z"
   },
   {
    "duration": 29,
    "start_time": "2023-05-03T14:11:28.208Z"
   },
   {
    "duration": 21,
    "start_time": "2023-05-03T14:11:33.828Z"
   },
   {
    "duration": 82,
    "start_time": "2023-05-03T14:11:37.024Z"
   },
   {
    "duration": 124,
    "start_time": "2023-05-03T14:11:39.360Z"
   },
   {
    "duration": 11,
    "start_time": "2023-05-03T14:11:43.460Z"
   },
   {
    "duration": 46,
    "start_time": "2023-05-03T14:11:46.285Z"
   },
   {
    "duration": 46,
    "start_time": "2023-05-03T14:11:47.692Z"
   },
   {
    "duration": 52,
    "start_time": "2023-05-03T14:11:50.245Z"
   },
   {
    "duration": 13,
    "start_time": "2023-05-03T14:11:52.546Z"
   },
   {
    "duration": 24,
    "start_time": "2023-05-03T14:11:54.748Z"
   },
   {
    "duration": 8,
    "start_time": "2023-05-03T14:11:56.710Z"
   },
   {
    "duration": 4,
    "start_time": "2023-05-03T14:11:59.555Z"
   },
   {
    "duration": 23,
    "start_time": "2023-05-03T14:12:01.774Z"
   },
   {
    "duration": 312,
    "start_time": "2023-05-03T14:12:06.177Z"
   },
   {
    "duration": 8,
    "start_time": "2023-05-03T14:12:10.910Z"
   },
   {
    "duration": 14,
    "start_time": "2023-05-03T14:12:12.463Z"
   },
   {
    "duration": 5,
    "start_time": "2023-05-03T14:12:14.346Z"
   },
   {
    "duration": 415,
    "start_time": "2023-05-03T14:12:16.346Z"
   },
   {
    "duration": 487,
    "start_time": "2023-05-03T14:12:19.463Z"
   },
   {
    "duration": 541,
    "start_time": "2023-05-03T14:12:24.821Z"
   },
   {
    "duration": 28,
    "start_time": "2023-05-03T14:12:31.017Z"
   },
   {
    "duration": 218,
    "start_time": "2023-05-03T14:12:36.326Z"
   },
   {
    "duration": 62,
    "start_time": "2023-05-03T14:12:43.112Z"
   },
   {
    "duration": 10,
    "start_time": "2023-05-03T14:12:47.866Z"
   },
   {
    "duration": 15,
    "start_time": "2023-05-03T14:12:50.360Z"
   },
   {
    "duration": 21,
    "start_time": "2023-05-03T14:12:52.895Z"
   },
   {
    "duration": 48,
    "start_time": "2023-05-03T14:12:54.572Z"
   },
   {
    "duration": 23,
    "start_time": "2023-05-03T14:12:56.959Z"
   },
   {
    "duration": 176,
    "start_time": "2023-05-03T14:13:02.927Z"
   },
   {
    "duration": 76,
    "start_time": "2023-05-03T14:13:06.148Z"
   },
   {
    "duration": 8,
    "start_time": "2023-05-03T14:13:08.721Z"
   },
   {
    "duration": 195,
    "start_time": "2023-05-03T14:13:10.913Z"
   },
   {
    "duration": 184,
    "start_time": "2023-05-03T14:13:15.844Z"
   },
   {
    "duration": 69,
    "start_time": "2023-05-03T14:13:19.210Z"
   },
   {
    "duration": 66,
    "start_time": "2023-05-03T14:13:31.053Z"
   },
   {
    "duration": 179,
    "start_time": "2023-05-03T14:13:35.612Z"
   },
   {
    "duration": 71,
    "start_time": "2023-05-03T14:13:49.911Z"
   },
   {
    "duration": 67,
    "start_time": "2023-05-03T14:17:21.931Z"
   },
   {
    "duration": 67,
    "start_time": "2023-05-03T14:18:50.155Z"
   },
   {
    "duration": 74,
    "start_time": "2023-05-03T14:19:00.776Z"
   },
   {
    "duration": 66,
    "start_time": "2023-05-03T14:19:57.164Z"
   },
   {
    "duration": 175,
    "start_time": "2023-05-03T14:20:02.311Z"
   },
   {
    "duration": 68,
    "start_time": "2023-05-03T14:20:13.406Z"
   },
   {
    "duration": 175,
    "start_time": "2023-05-03T14:20:34.823Z"
   },
   {
    "duration": 551,
    "start_time": "2023-05-03T14:20:49.693Z"
   },
   {
    "duration": 5,
    "start_time": "2023-05-03T14:21:11.641Z"
   },
   {
    "duration": 48,
    "start_time": "2023-05-03T14:22:55.773Z"
   },
   {
    "duration": 9,
    "start_time": "2023-05-03T14:23:37.002Z"
   },
   {
    "duration": 9,
    "start_time": "2023-05-03T14:54:57.857Z"
   },
   {
    "duration": 1413,
    "start_time": "2023-05-04T06:05:03.311Z"
   },
   {
    "duration": 684,
    "start_time": "2023-05-04T06:05:07.531Z"
   },
   {
    "duration": 14,
    "start_time": "2023-05-04T06:05:10.202Z"
   },
   {
    "duration": 31,
    "start_time": "2023-05-04T06:05:13.075Z"
   },
   {
    "duration": 4,
    "start_time": "2023-05-04T06:05:15.423Z"
   },
   {
    "duration": 33,
    "start_time": "2023-05-04T06:05:16.937Z"
   },
   {
    "duration": 16,
    "start_time": "2023-05-04T06:05:19.999Z"
   },
   {
    "duration": 124,
    "start_time": "2023-05-04T06:05:21.510Z"
   },
   {
    "duration": 79,
    "start_time": "2023-05-04T06:05:22.800Z"
   },
   {
    "duration": 47,
    "start_time": "2023-05-04T06:05:25.225Z"
   },
   {
    "duration": 11,
    "start_time": "2023-05-04T06:05:26.530Z"
   },
   {
    "duration": 21,
    "start_time": "2023-05-04T06:05:27.642Z"
   },
   {
    "duration": 11,
    "start_time": "2023-05-04T06:05:29.652Z"
   },
   {
    "duration": 28,
    "start_time": "2023-05-04T06:05:31.759Z"
   },
   {
    "duration": 22,
    "start_time": "2023-05-04T06:05:33.514Z"
   },
   {
    "duration": 108,
    "start_time": "2023-05-04T06:05:35.328Z"
   },
   {
    "duration": 155,
    "start_time": "2023-05-04T06:05:37.746Z"
   },
   {
    "duration": 11,
    "start_time": "2023-05-04T06:05:39.308Z"
   },
   {
    "duration": 54,
    "start_time": "2023-05-04T06:05:42.695Z"
   },
   {
    "duration": 53,
    "start_time": "2023-05-04T06:05:44.131Z"
   },
   {
    "duration": 42,
    "start_time": "2023-05-04T06:05:46.233Z"
   },
   {
    "duration": 17,
    "start_time": "2023-05-04T06:05:49.975Z"
   },
   {
    "duration": 26,
    "start_time": "2023-05-04T06:05:52.264Z"
   },
   {
    "duration": 8,
    "start_time": "2023-05-04T06:05:54.513Z"
   },
   {
    "duration": 4,
    "start_time": "2023-05-04T06:05:56.193Z"
   },
   {
    "duration": 36,
    "start_time": "2023-05-04T06:05:58.296Z"
   },
   {
    "duration": 404,
    "start_time": "2023-05-04T06:06:00.431Z"
   },
   {
    "duration": 10,
    "start_time": "2023-05-04T06:06:03.703Z"
   },
   {
    "duration": 30,
    "start_time": "2023-05-04T06:06:05.337Z"
   },
   {
    "duration": 7,
    "start_time": "2023-05-04T06:06:06.360Z"
   },
   {
    "duration": 598,
    "start_time": "2023-05-04T06:06:08.750Z"
   },
   {
    "duration": 606,
    "start_time": "2023-05-04T06:06:12.138Z"
   },
   {
    "duration": 692,
    "start_time": "2023-05-04T06:06:17.061Z"
   },
   {
    "duration": 42,
    "start_time": "2023-05-04T06:06:22.746Z"
   },
   {
    "duration": 303,
    "start_time": "2023-05-04T06:06:25.666Z"
   },
   {
    "duration": 80,
    "start_time": "2023-05-04T06:06:33.476Z"
   },
   {
    "duration": 14,
    "start_time": "2023-05-04T06:06:35.600Z"
   },
   {
    "duration": 12,
    "start_time": "2023-05-04T06:06:39.394Z"
   },
   {
    "duration": 19,
    "start_time": "2023-05-04T06:06:41.215Z"
   },
   {
    "duration": 69,
    "start_time": "2023-05-04T06:06:43.111Z"
   },
   {
    "duration": 22,
    "start_time": "2023-05-04T06:06:45.029Z"
   },
   {
    "duration": 199,
    "start_time": "2023-05-04T06:06:48.977Z"
   },
   {
    "duration": 102,
    "start_time": "2023-05-04T06:06:59.543Z"
   },
   {
    "duration": 11,
    "start_time": "2023-05-04T06:07:02.590Z"
   },
   {
    "duration": 163,
    "start_time": "2023-05-04T06:07:11.294Z"
   },
   {
    "duration": 181,
    "start_time": "2023-05-04T06:07:15.310Z"
   },
   {
    "duration": 71,
    "start_time": "2023-05-04T06:07:19.528Z"
   },
   {
    "duration": 261,
    "start_time": "2023-05-04T06:07:23.895Z"
   },
   {
    "duration": 69,
    "start_time": "2023-05-04T06:07:27.682Z"
   },
   {
    "duration": 174,
    "start_time": "2023-05-04T06:07:31.200Z"
   },
   {
    "duration": 62,
    "start_time": "2023-05-04T06:07:36.710Z"
   },
   {
    "duration": 170,
    "start_time": "2023-05-04T06:07:41.034Z"
   },
   {
    "duration": 8,
    "start_time": "2023-05-04T06:07:45.012Z"
   },
   {
    "duration": 182,
    "start_time": "2023-05-04T06:07:48.130Z"
   },
   {
    "duration": 21,
    "start_time": "2023-05-04T06:20:27.183Z"
   },
   {
    "duration": 15,
    "start_time": "2023-05-04T06:22:23.746Z"
   },
   {
    "duration": 16,
    "start_time": "2023-05-04T06:22:58.316Z"
   },
   {
    "duration": 8,
    "start_time": "2023-05-04T06:23:29.859Z"
   },
   {
    "duration": 131,
    "start_time": "2023-05-04T06:45:14.491Z"
   },
   {
    "duration": 164,
    "start_time": "2023-05-04T06:45:26.323Z"
   },
   {
    "duration": 8,
    "start_time": "2023-05-04T06:45:27.829Z"
   },
   {
    "duration": 155,
    "start_time": "2023-05-04T06:45:33.915Z"
   },
   {
    "duration": 5,
    "start_time": "2023-05-04T06:45:36.775Z"
   },
   {
    "duration": 120,
    "start_time": "2023-05-04T06:45:49.495Z"
   },
   {
    "duration": 6,
    "start_time": "2023-05-04T06:45:51.906Z"
   },
   {
    "duration": 15,
    "start_time": "2023-05-04T06:46:59.247Z"
   },
   {
    "duration": 6,
    "start_time": "2023-05-04T06:47:39.485Z"
   },
   {
    "duration": 122,
    "start_time": "2023-05-04T06:51:30.844Z"
   },
   {
    "duration": 110,
    "start_time": "2023-05-04T06:51:35.746Z"
   },
   {
    "duration": 7,
    "start_time": "2023-05-04T06:51:50.645Z"
   },
   {
    "duration": 12,
    "start_time": "2023-05-04T06:52:24.769Z"
   },
   {
    "duration": 3,
    "start_time": "2023-05-04T07:06:39.904Z"
   },
   {
    "duration": 10,
    "start_time": "2023-05-04T07:07:31.891Z"
   },
   {
    "duration": 62,
    "start_time": "2023-05-04T07:08:06.835Z"
   },
   {
    "duration": 16,
    "start_time": "2023-05-04T07:12:23.198Z"
   },
   {
    "duration": 192,
    "start_time": "2023-05-04T07:12:32.529Z"
   },
   {
    "duration": 4,
    "start_time": "2023-05-04T07:33:34.250Z"
   },
   {
    "duration": 9,
    "start_time": "2023-05-04T07:34:07.026Z"
   },
   {
    "duration": 8,
    "start_time": "2023-05-04T07:34:22.170Z"
   },
   {
    "duration": 5,
    "start_time": "2023-05-04T07:35:58.869Z"
   },
   {
    "duration": 7,
    "start_time": "2023-05-04T07:36:05.330Z"
   },
   {
    "duration": 64,
    "start_time": "2023-05-04T07:38:59.986Z"
   },
   {
    "duration": 80,
    "start_time": "2023-05-04T07:39:14.040Z"
   },
   {
    "duration": 10,
    "start_time": "2023-05-04T07:42:32.766Z"
   },
   {
    "duration": 4,
    "start_time": "2023-05-04T07:44:08.005Z"
   },
   {
    "duration": 29,
    "start_time": "2023-05-04T07:44:15.718Z"
   },
   {
    "duration": 29,
    "start_time": "2023-05-04T07:44:45.399Z"
   },
   {
    "duration": 16,
    "start_time": "2023-05-04T07:46:09.578Z"
   },
   {
    "duration": 15,
    "start_time": "2023-05-04T07:46:52.943Z"
   },
   {
    "duration": 16,
    "start_time": "2023-05-04T07:49:05.210Z"
   },
   {
    "duration": 22,
    "start_time": "2023-05-04T07:50:09.678Z"
   },
   {
    "duration": 18,
    "start_time": "2023-05-04T07:51:51.075Z"
   },
   {
    "duration": 21,
    "start_time": "2023-05-04T07:54:16.705Z"
   },
   {
    "duration": 49,
    "start_time": "2023-05-04T07:54:26.796Z"
   },
   {
    "duration": 114,
    "start_time": "2023-05-04T07:54:32.409Z"
   },
   {
    "duration": 22,
    "start_time": "2023-05-04T07:54:52.473Z"
   },
   {
    "duration": 5,
    "start_time": "2023-05-04T07:59:20.621Z"
   },
   {
    "duration": 58,
    "start_time": "2023-05-04T08:12:47.355Z"
   },
   {
    "duration": 69,
    "start_time": "2023-05-04T08:14:38.845Z"
   },
   {
    "duration": 30,
    "start_time": "2023-05-04T08:14:44.264Z"
   },
   {
    "duration": 6,
    "start_time": "2023-05-04T08:14:47.057Z"
   },
   {
    "duration": 1579,
    "start_time": "2023-05-04T08:15:01.493Z"
   },
   {
    "duration": 22,
    "start_time": "2023-05-04T08:15:12.123Z"
   },
   {
    "duration": 7,
    "start_time": "2023-05-04T08:15:22.871Z"
   },
   {
    "duration": 8,
    "start_time": "2023-05-04T08:15:27.852Z"
   },
   {
    "duration": 15,
    "start_time": "2023-05-04T08:15:38.562Z"
   },
   {
    "duration": 6,
    "start_time": "2023-05-04T08:15:39.543Z"
   },
   {
    "duration": 18,
    "start_time": "2023-05-04T08:15:40.811Z"
   },
   {
    "duration": 7,
    "start_time": "2023-05-04T08:15:51.754Z"
   },
   {
    "duration": 18,
    "start_time": "2023-05-04T08:15:53.313Z"
   },
   {
    "duration": 6,
    "start_time": "2023-05-04T08:16:11.569Z"
   },
   {
    "duration": 22,
    "start_time": "2023-05-04T08:16:14.962Z"
   },
   {
    "duration": 4,
    "start_time": "2023-05-04T08:16:32.645Z"
   },
   {
    "duration": 5,
    "start_time": "2023-05-04T08:16:42.672Z"
   },
   {
    "duration": 15,
    "start_time": "2023-05-04T08:16:44.222Z"
   },
   {
    "duration": 15,
    "start_time": "2023-05-04T08:17:19.257Z"
   },
   {
    "duration": 10,
    "start_time": "2023-05-04T08:17:21.841Z"
   },
   {
    "duration": 9,
    "start_time": "2023-05-04T08:17:29.199Z"
   },
   {
    "duration": 12,
    "start_time": "2023-05-04T08:17:31.173Z"
   },
   {
    "duration": 63,
    "start_time": "2023-05-04T08:22:00.976Z"
   },
   {
    "duration": 5,
    "start_time": "2023-05-04T08:24:46.086Z"
   },
   {
    "duration": 8,
    "start_time": "2023-05-04T08:24:51.332Z"
   },
   {
    "duration": 10,
    "start_time": "2023-05-04T08:25:02.249Z"
   },
   {
    "duration": 8,
    "start_time": "2023-05-04T08:25:11.067Z"
   },
   {
    "duration": 9,
    "start_time": "2023-05-04T08:25:37.422Z"
   },
   {
    "duration": 65,
    "start_time": "2023-05-04T08:42:28.247Z"
   },
   {
    "duration": 9,
    "start_time": "2023-05-04T08:42:30.698Z"
   },
   {
    "duration": 3,
    "start_time": "2023-05-04T08:53:11.361Z"
   },
   {
    "duration": 1149,
    "start_time": "2023-05-04T08:53:25.480Z"
   },
   {
    "duration": 386,
    "start_time": "2023-05-04T08:53:28.914Z"
   },
   {
    "duration": 14,
    "start_time": "2023-05-04T08:53:31.580Z"
   },
   {
    "duration": 22,
    "start_time": "2023-05-04T08:53:34.346Z"
   },
   {
    "duration": 3,
    "start_time": "2023-05-04T08:53:36.716Z"
   },
   {
    "duration": 17,
    "start_time": "2023-05-04T08:53:38.389Z"
   },
   {
    "duration": 11,
    "start_time": "2023-05-04T08:53:40.026Z"
   },
   {
    "duration": 70,
    "start_time": "2023-05-04T08:53:41.770Z"
   },
   {
    "duration": 46,
    "start_time": "2023-05-04T08:53:43.525Z"
   },
   {
    "duration": 39,
    "start_time": "2023-05-04T08:53:46.458Z"
   },
   {
    "duration": 10,
    "start_time": "2023-05-04T08:53:47.532Z"
   },
   {
    "duration": 22,
    "start_time": "2023-05-04T08:53:48.748Z"
   },
   {
    "duration": 9,
    "start_time": "2023-05-04T08:53:50.206Z"
   },
   {
    "duration": 27,
    "start_time": "2023-05-04T08:53:52.236Z"
   },
   {
    "duration": 21,
    "start_time": "2023-05-04T08:53:55.373Z"
   },
   {
    "duration": 79,
    "start_time": "2023-05-04T08:53:57.872Z"
   },
   {
    "duration": 113,
    "start_time": "2023-05-04T08:53:59.668Z"
   },
   {
    "duration": 10,
    "start_time": "2023-05-04T08:54:01.140Z"
   },
   {
    "duration": 50,
    "start_time": "2023-05-04T08:54:03.674Z"
   },
   {
    "duration": 44,
    "start_time": "2023-05-04T08:54:05.418Z"
   },
   {
    "duration": 41,
    "start_time": "2023-05-04T08:54:06.618Z"
   },
   {
    "duration": 11,
    "start_time": "2023-05-04T08:54:08.598Z"
   },
   {
    "duration": 20,
    "start_time": "2023-05-04T08:54:10.234Z"
   },
   {
    "duration": 8,
    "start_time": "2023-05-04T08:54:12.542Z"
   },
   {
    "duration": 4,
    "start_time": "2023-05-04T08:54:15.719Z"
   },
   {
    "duration": 20,
    "start_time": "2023-05-04T08:54:17.566Z"
   },
   {
    "duration": 309,
    "start_time": "2023-05-04T08:54:19.408Z"
   },
   {
    "duration": 8,
    "start_time": "2023-05-04T08:54:22.481Z"
   },
   {
    "duration": 16,
    "start_time": "2023-05-04T08:54:25.356Z"
   },
   {
    "duration": 5,
    "start_time": "2023-05-04T08:54:26.600Z"
   },
   {
    "duration": 409,
    "start_time": "2023-05-04T08:54:30.395Z"
   },
   {
    "duration": 444,
    "start_time": "2023-05-04T08:54:33.166Z"
   },
   {
    "duration": 524,
    "start_time": "2023-05-04T08:54:36.963Z"
   },
   {
    "duration": 25,
    "start_time": "2023-05-04T08:54:40.839Z"
   },
   {
    "duration": 189,
    "start_time": "2023-05-04T08:54:42.931Z"
   },
   {
    "duration": 59,
    "start_time": "2023-05-04T08:54:47.105Z"
   },
   {
    "duration": 8,
    "start_time": "2023-05-04T08:54:50.210Z"
   },
   {
    "duration": 12,
    "start_time": "2023-05-04T08:54:52.086Z"
   },
   {
    "duration": 19,
    "start_time": "2023-05-04T08:54:54.204Z"
   },
   {
    "duration": 41,
    "start_time": "2023-05-04T08:54:56.256Z"
   },
   {
    "duration": 20,
    "start_time": "2023-05-04T08:54:58.645Z"
   },
   {
    "duration": 158,
    "start_time": "2023-05-04T08:55:01.134Z"
   },
   {
    "duration": 81,
    "start_time": "2023-05-04T08:55:04.001Z"
   },
   {
    "duration": 1635,
    "start_time": "2023-05-04T12:15:36.902Z"
   },
   {
    "duration": 1144,
    "start_time": "2023-05-04T12:15:38.540Z"
   },
   {
    "duration": 29,
    "start_time": "2023-05-04T12:15:39.692Z"
   },
   {
    "duration": 39,
    "start_time": "2023-05-04T12:15:39.726Z"
   },
   {
    "duration": 5,
    "start_time": "2023-05-04T12:15:39.773Z"
   },
   {
    "duration": 41,
    "start_time": "2023-05-04T12:15:39.783Z"
   },
   {
    "duration": 16,
    "start_time": "2023-05-04T12:15:39.827Z"
   },
   {
    "duration": 125,
    "start_time": "2023-05-04T12:15:39.856Z"
   },
   {
    "duration": 79,
    "start_time": "2023-05-04T12:15:39.988Z"
   },
   {
    "duration": 71,
    "start_time": "2023-05-04T12:15:40.070Z"
   },
   {
    "duration": 32,
    "start_time": "2023-05-04T12:15:40.144Z"
   },
   {
    "duration": 40,
    "start_time": "2023-05-04T12:15:40.189Z"
   },
   {
    "duration": 14,
    "start_time": "2023-05-04T12:15:40.233Z"
   },
   {
    "duration": 59,
    "start_time": "2023-05-04T12:15:40.252Z"
   },
   {
    "duration": 29,
    "start_time": "2023-05-04T12:15:40.313Z"
   },
   {
    "duration": 133,
    "start_time": "2023-05-04T12:15:40.344Z"
   },
   {
    "duration": 188,
    "start_time": "2023-05-04T12:15:40.480Z"
   },
   {
    "duration": 17,
    "start_time": "2023-05-04T12:15:40.672Z"
   },
   {
    "duration": 111,
    "start_time": "2023-05-04T12:15:40.705Z"
   },
   {
    "duration": 99,
    "start_time": "2023-05-04T12:15:40.818Z"
   },
   {
    "duration": 67,
    "start_time": "2023-05-04T12:15:40.924Z"
   },
   {
    "duration": 19,
    "start_time": "2023-05-04T12:15:40.993Z"
   },
   {
    "duration": 49,
    "start_time": "2023-05-04T12:15:41.014Z"
   },
   {
    "duration": 28,
    "start_time": "2023-05-04T12:15:41.066Z"
   },
   {
    "duration": 22,
    "start_time": "2023-05-04T12:15:41.099Z"
   },
   {
    "duration": 41,
    "start_time": "2023-05-04T12:15:41.123Z"
   },
   {
    "duration": 474,
    "start_time": "2023-05-04T12:15:41.166Z"
   },
   {
    "duration": 17,
    "start_time": "2023-05-04T12:15:41.643Z"
   },
   {
    "duration": 59,
    "start_time": "2023-05-04T12:15:41.662Z"
   },
   {
    "duration": 7,
    "start_time": "2023-05-04T12:15:41.724Z"
   },
   {
    "duration": 751,
    "start_time": "2023-05-04T12:15:41.734Z"
   },
   {
    "duration": 758,
    "start_time": "2023-05-04T12:15:42.491Z"
   },
   {
    "duration": 875,
    "start_time": "2023-05-04T12:15:43.252Z"
   },
   {
    "duration": 42,
    "start_time": "2023-05-04T12:15:44.132Z"
   },
   {
    "duration": 267,
    "start_time": "2023-05-04T12:15:44.176Z"
   },
   {
    "duration": 102,
    "start_time": "2023-05-04T12:15:44.449Z"
   },
   {
    "duration": 33,
    "start_time": "2023-05-04T12:15:44.559Z"
   },
   {
    "duration": 33,
    "start_time": "2023-05-04T12:15:44.605Z"
   },
   {
    "duration": 33,
    "start_time": "2023-05-04T12:15:44.640Z"
   },
   {
    "duration": 69,
    "start_time": "2023-05-04T12:15:44.674Z"
   },
   {
    "duration": 40,
    "start_time": "2023-05-04T12:15:44.752Z"
   },
   {
    "duration": 260,
    "start_time": "2023-05-04T12:15:44.794Z"
   },
   {
    "duration": 116,
    "start_time": "2023-05-04T12:15:45.062Z"
   },
   {
    "duration": 14,
    "start_time": "2023-05-04T12:15:45.185Z"
   },
   {
    "duration": 242,
    "start_time": "2023-05-04T12:15:45.204Z"
   },
   {
    "duration": 270,
    "start_time": "2023-05-04T12:15:45.448Z"
   },
   {
    "duration": 99,
    "start_time": "2023-05-04T12:15:45.725Z"
   },
   {
    "duration": 255,
    "start_time": "2023-05-04T12:15:45.827Z"
   },
   {
    "duration": 121,
    "start_time": "2023-05-04T12:15:46.084Z"
   },
   {
    "duration": 235,
    "start_time": "2023-05-04T12:15:46.211Z"
   },
   {
    "duration": 97,
    "start_time": "2023-05-04T12:15:46.448Z"
   },
   {
    "duration": 203,
    "start_time": "2023-05-04T12:15:46.547Z"
   },
   {
    "duration": 31,
    "start_time": "2023-05-04T12:15:46.752Z"
   },
   {
    "duration": 644,
    "start_time": "2023-05-04T12:15:46.795Z"
   },
   {
    "duration": 34,
    "start_time": "2023-05-04T12:15:47.441Z"
   },
   {
    "duration": 21,
    "start_time": "2023-05-04T12:15:47.477Z"
   },
   {
    "duration": 41,
    "start_time": "2023-05-04T12:15:47.500Z"
   },
   {
    "duration": 231,
    "start_time": "2023-05-04T12:15:47.544Z"
   },
   {
    "duration": 17,
    "start_time": "2023-05-04T12:15:47.784Z"
   },
   {
    "duration": 38,
    "start_time": "2023-05-04T12:15:47.804Z"
   },
   {
    "duration": 77,
    "start_time": "2023-05-04T12:15:47.845Z"
   },
   {
    "duration": 35,
    "start_time": "2023-05-04T12:15:47.929Z"
   },
   {
    "duration": 19,
    "start_time": "2023-05-04T12:15:47.970Z"
   },
   {
    "duration": 34,
    "start_time": "2023-05-04T12:15:47.996Z"
   },
   {
    "duration": 17,
    "start_time": "2023-05-04T12:15:48.033Z"
   },
   {
    "duration": 21,
    "start_time": "2023-05-04T12:15:48.053Z"
   },
   {
    "duration": 23,
    "start_time": "2023-05-04T12:15:48.076Z"
   },
   {
    "duration": 1336,
    "start_time": "2023-05-04T18:39:34.318Z"
   },
   {
    "duration": 679,
    "start_time": "2023-05-04T18:39:37.176Z"
   },
   {
    "duration": 4,
    "start_time": "2023-05-04T18:39:42.305Z"
   },
   {
    "duration": 163,
    "start_time": "2023-05-04T18:39:44.903Z"
   },
   {
    "duration": 14,
    "start_time": "2023-05-04T18:39:47.053Z"
   },
   {
    "duration": 20,
    "start_time": "2023-05-04T18:39:50.060Z"
   },
   {
    "duration": 3,
    "start_time": "2023-05-04T18:39:55.939Z"
   },
   {
    "duration": 55,
    "start_time": "2023-05-04T18:40:19.987Z"
   },
   {
    "duration": 8,
    "start_time": "2023-05-04T18:42:18.657Z"
   },
   {
    "duration": 3,
    "start_time": "2023-05-04T18:42:25.144Z"
   },
   {
    "duration": 156,
    "start_time": "2023-05-04T18:42:26.977Z"
   },
   {
    "duration": 8,
    "start_time": "2023-05-04T18:42:28.391Z"
   },
   {
    "duration": 18,
    "start_time": "2023-05-04T18:42:31.556Z"
   },
   {
    "duration": 5,
    "start_time": "2023-05-04T18:42:35.877Z"
   },
   {
    "duration": 19,
    "start_time": "2023-05-04T18:42:41.655Z"
   },
   {
    "duration": 56,
    "start_time": "2023-05-04T18:43:51.838Z"
   },
   {
    "duration": 3,
    "start_time": "2023-05-04T18:44:29.436Z"
   },
   {
    "duration": 3,
    "start_time": "2023-05-04T18:44:56.078Z"
   },
   {
    "duration": 4,
    "start_time": "2023-05-04T18:45:00.288Z"
   },
   {
    "duration": 159,
    "start_time": "2023-05-04T18:45:02.501Z"
   },
   {
    "duration": 8,
    "start_time": "2023-05-04T18:45:04.795Z"
   },
   {
    "duration": 19,
    "start_time": "2023-05-04T18:45:07.875Z"
   },
   {
    "duration": 4,
    "start_time": "2023-05-04T18:45:11.257Z"
   },
   {
    "duration": 20,
    "start_time": "2023-05-04T18:45:14.088Z"
   },
   {
    "duration": 8,
    "start_time": "2023-05-04T18:45:18.349Z"
   },
   {
    "duration": 70,
    "start_time": "2023-05-04T18:45:19.935Z"
   },
   {
    "duration": 53,
    "start_time": "2023-05-04T18:45:21.188Z"
   },
   {
    "duration": 40,
    "start_time": "2023-05-04T18:45:24.439Z"
   },
   {
    "duration": 8,
    "start_time": "2023-05-04T18:45:25.647Z"
   },
   {
    "duration": 20,
    "start_time": "2023-05-04T18:45:27.896Z"
   },
   {
    "duration": 10,
    "start_time": "2023-05-04T18:45:31.255Z"
   },
   {
    "duration": 31,
    "start_time": "2023-05-04T18:45:34.098Z"
   },
   {
    "duration": 19,
    "start_time": "2023-05-04T18:45:40.150Z"
   },
   {
    "duration": 73,
    "start_time": "2023-05-04T18:45:44.639Z"
   },
   {
    "duration": 106,
    "start_time": "2023-05-04T18:45:47.064Z"
   },
   {
    "duration": 10,
    "start_time": "2023-05-04T18:45:48.396Z"
   },
   {
    "duration": 53,
    "start_time": "2023-05-04T18:46:32.181Z"
   },
   {
    "duration": 53,
    "start_time": "2023-05-04T18:47:02.227Z"
   },
   {
    "duration": 304,
    "start_time": "2023-05-04T18:47:09.774Z"
   },
   {
    "duration": 50,
    "start_time": "2023-05-04T18:47:22.571Z"
   },
   {
    "duration": 12,
    "start_time": "2023-05-04T18:49:23.142Z"
   },
   {
    "duration": 21,
    "start_time": "2023-05-04T18:49:25.939Z"
   },
   {
    "duration": 7,
    "start_time": "2023-05-04T18:49:28.859Z"
   },
   {
    "duration": 3,
    "start_time": "2023-05-04T18:49:33.605Z"
   },
   {
    "duration": 22,
    "start_time": "2023-05-04T18:49:39.342Z"
   },
   {
    "duration": 300,
    "start_time": "2023-05-04T18:49:42.683Z"
   },
   {
    "duration": 8,
    "start_time": "2023-05-04T18:49:55.014Z"
   },
   {
    "duration": 16,
    "start_time": "2023-05-04T18:49:59.482Z"
   },
   {
    "duration": 5,
    "start_time": "2023-05-04T18:50:02.692Z"
   },
   {
    "duration": 400,
    "start_time": "2023-05-04T18:50:05.677Z"
   },
   {
    "duration": 732,
    "start_time": "2023-05-04T18:51:01.316Z"
   },
   {
    "duration": 338,
    "start_time": "2023-05-04T18:51:50.184Z"
   },
   {
    "duration": 422,
    "start_time": "2023-05-04T18:52:16.474Z"
   },
   {
    "duration": 254,
    "start_time": "2023-05-04T18:52:50.203Z"
   },
   {
    "duration": 25,
    "start_time": "2023-05-04T18:53:06.978Z"
   },
   {
    "duration": 211,
    "start_time": "2023-05-04T18:53:20.519Z"
   },
   {
    "duration": 57,
    "start_time": "2023-05-04T18:53:36.299Z"
   },
   {
    "duration": 8,
    "start_time": "2023-05-04T18:53:40.901Z"
   },
   {
    "duration": 14,
    "start_time": "2023-05-04T18:53:48.649Z"
   },
   {
    "duration": 21,
    "start_time": "2023-05-04T18:54:01.743Z"
   },
   {
    "duration": 48,
    "start_time": "2023-05-04T18:54:05.250Z"
   },
   {
    "duration": 23,
    "start_time": "2023-05-04T18:54:09.428Z"
   },
   {
    "duration": 168,
    "start_time": "2023-05-04T18:54:15.768Z"
   },
   {
    "duration": 62,
    "start_time": "2023-05-04T18:54:23.314Z"
   },
   {
    "duration": 8,
    "start_time": "2023-05-04T18:54:26.559Z"
   },
   {
    "duration": 182,
    "start_time": "2023-05-04T18:54:30.534Z"
   },
   {
    "duration": 167,
    "start_time": "2023-05-04T18:54:34.807Z"
   },
   {
    "duration": 65,
    "start_time": "2023-05-04T18:54:41.407Z"
   },
   {
    "duration": 307,
    "start_time": "2023-05-04T18:54:45.710Z"
   },
   {
    "duration": 65,
    "start_time": "2023-05-04T18:54:49.592Z"
   },
   {
    "duration": 169,
    "start_time": "2023-05-04T18:54:52.621Z"
   },
   {
    "duration": 65,
    "start_time": "2023-05-04T18:54:56.607Z"
   },
   {
    "duration": 175,
    "start_time": "2023-05-04T18:55:03.249Z"
   },
   {
    "duration": 8,
    "start_time": "2023-05-04T19:04:18.200Z"
   },
   {
    "duration": 166,
    "start_time": "2023-05-04T19:04:30.281Z"
   },
   {
    "duration": 107,
    "start_time": "2023-05-04T19:13:53.487Z"
   },
   {
    "duration": 11,
    "start_time": "2023-05-04T19:14:04.511Z"
   },
   {
    "duration": 11,
    "start_time": "2023-05-04T19:17:37.608Z"
   },
   {
    "duration": 14,
    "start_time": "2023-05-04T19:19:06.680Z"
   },
   {
    "duration": 3,
    "start_time": "2023-05-04T19:20:07.169Z"
   },
   {
    "duration": 14,
    "start_time": "2023-05-04T19:20:10.211Z"
   },
   {
    "duration": 2,
    "start_time": "2023-05-04T19:22:34.479Z"
   },
   {
    "duration": 3,
    "start_time": "2023-05-04T19:22:38.965Z"
   },
   {
    "duration": 48,
    "start_time": "2023-05-04T19:22:59.604Z"
   },
   {
    "duration": 107,
    "start_time": "2023-05-04T19:23:34.928Z"
   },
   {
    "duration": 7,
    "start_time": "2023-05-04T19:23:39.114Z"
   },
   {
    "duration": 9,
    "start_time": "2023-05-04T19:23:41.596Z"
   },
   {
    "duration": 3,
    "start_time": "2023-05-04T19:30:24.199Z"
   },
   {
    "duration": 2,
    "start_time": "2023-05-04T19:30:27.791Z"
   },
   {
    "duration": 2,
    "start_time": "2023-05-04T19:30:32.506Z"
   },
   {
    "duration": 5,
    "start_time": "2023-05-04T20:16:11.138Z"
   },
   {
    "duration": 5,
    "start_time": "2023-05-04T20:18:32.686Z"
   },
   {
    "duration": 18,
    "start_time": "2023-05-04T20:23:00.452Z"
   },
   {
    "duration": 13,
    "start_time": "2023-05-04T20:23:14.742Z"
   },
   {
    "duration": 41,
    "start_time": "2023-05-04T20:24:48.502Z"
   },
   {
    "duration": 17,
    "start_time": "2023-05-04T20:35:01.095Z"
   },
   {
    "duration": 17,
    "start_time": "2023-05-04T20:35:18.408Z"
   },
   {
    "duration": 14,
    "start_time": "2023-05-04T20:36:58.590Z"
   },
   {
    "duration": 4,
    "start_time": "2023-05-04T20:38:07.409Z"
   },
   {
    "duration": 4,
    "start_time": "2023-05-04T20:38:48.138Z"
   },
   {
    "duration": 4,
    "start_time": "2023-05-04T20:38:53.564Z"
   },
   {
    "duration": 5,
    "start_time": "2023-05-04T20:39:19.568Z"
   },
   {
    "duration": 15,
    "start_time": "2023-05-04T20:39:29.092Z"
   },
   {
    "duration": 5,
    "start_time": "2023-05-04T20:39:42.796Z"
   },
   {
    "duration": 15,
    "start_time": "2023-05-04T20:39:44.089Z"
   },
   {
    "duration": 4,
    "start_time": "2023-05-04T20:40:13.486Z"
   },
   {
    "duration": 9,
    "start_time": "2023-05-04T20:40:16.341Z"
   },
   {
    "duration": 4,
    "start_time": "2023-05-04T20:40:39.808Z"
   },
   {
    "duration": 8,
    "start_time": "2023-05-04T20:40:42.741Z"
   },
   {
    "duration": 695,
    "start_time": "2023-05-04T20:41:19.873Z"
   },
   {
    "duration": 10,
    "start_time": "2023-05-04T20:41:28.898Z"
   },
   {
    "duration": 68,
    "start_time": "2023-05-04T20:42:00.805Z"
   },
   {
    "duration": 9,
    "start_time": "2023-05-04T20:42:05.982Z"
   },
   {
    "duration": 45,
    "start_time": "2023-05-04T20:43:05.622Z"
   },
   {
    "duration": 2,
    "start_time": "2023-05-04T20:43:14.159Z"
   },
   {
    "duration": 2,
    "start_time": "2023-05-04T20:43:18.139Z"
   },
   {
    "duration": 5,
    "start_time": "2023-05-04T21:01:05.044Z"
   },
   {
    "duration": 11,
    "start_time": "2023-05-04T21:01:10.455Z"
   },
   {
    "duration": 4,
    "start_time": "2023-05-04T21:01:36.784Z"
   },
   {
    "duration": 5,
    "start_time": "2023-05-04T21:03:38.039Z"
   },
   {
    "duration": 17,
    "start_time": "2023-05-04T21:04:44.269Z"
   },
   {
    "duration": 4,
    "start_time": "2023-05-04T21:05:01.664Z"
   },
   {
    "duration": 15,
    "start_time": "2023-05-04T21:05:08.176Z"
   },
   {
    "duration": 11,
    "start_time": "2023-05-04T21:07:13.574Z"
   },
   {
    "duration": 9,
    "start_time": "2023-05-04T21:07:36.625Z"
   },
   {
    "duration": 10,
    "start_time": "2023-05-04T21:08:37.157Z"
   },
   {
    "duration": 3,
    "start_time": "2023-05-04T21:27:00.725Z"
   },
   {
    "duration": 1128,
    "start_time": "2023-05-04T21:27:11.825Z"
   },
   {
    "duration": 154,
    "start_time": "2023-05-04T21:27:16.512Z"
   },
   {
    "duration": 13,
    "start_time": "2023-05-04T21:27:17.789Z"
   },
   {
    "duration": 20,
    "start_time": "2023-05-04T21:27:20.053Z"
   },
   {
    "duration": 4,
    "start_time": "2023-05-04T21:27:23.420Z"
   },
   {
    "duration": 18,
    "start_time": "2023-05-04T21:27:29.311Z"
   },
   {
    "duration": 11,
    "start_time": "2023-05-04T21:27:31.204Z"
   },
   {
    "duration": 74,
    "start_time": "2023-05-04T21:27:32.452Z"
   },
   {
    "duration": 50,
    "start_time": "2023-05-04T21:27:34.542Z"
   },
   {
    "duration": 42,
    "start_time": "2023-05-04T21:27:37.836Z"
   },
   {
    "duration": 9,
    "start_time": "2023-05-04T21:27:39.628Z"
   },
   {
    "duration": 19,
    "start_time": "2023-05-04T21:27:40.663Z"
   },
   {
    "duration": 10,
    "start_time": "2023-05-04T21:27:48.104Z"
   },
   {
    "duration": 27,
    "start_time": "2023-05-04T21:27:50.148Z"
   },
   {
    "duration": 20,
    "start_time": "2023-05-04T21:27:53.965Z"
   },
   {
    "duration": 81,
    "start_time": "2023-05-04T21:27:56.393Z"
   },
   {
    "duration": 115,
    "start_time": "2023-05-04T21:27:58.574Z"
   },
   {
    "duration": 11,
    "start_time": "2023-05-04T21:27:59.936Z"
   },
   {
    "duration": 60,
    "start_time": "2023-05-04T21:28:03.468Z"
   },
   {
    "duration": 11,
    "start_time": "2023-05-04T21:28:12.761Z"
   },
   {
    "duration": 21,
    "start_time": "2023-05-04T21:28:15.033Z"
   },
   {
    "duration": 10,
    "start_time": "2023-05-04T21:28:18.743Z"
   },
   {
    "duration": 3,
    "start_time": "2023-05-04T21:28:21.074Z"
   },
   {
    "duration": 22,
    "start_time": "2023-05-04T21:28:23.258Z"
   },
   {
    "duration": 300,
    "start_time": "2023-05-04T21:28:25.118Z"
   },
   {
    "duration": 7,
    "start_time": "2023-05-04T21:28:29.026Z"
   },
   {
    "duration": 15,
    "start_time": "2023-05-04T21:28:30.929Z"
   },
   {
    "duration": 4,
    "start_time": "2023-05-04T21:28:32.163Z"
   },
   {
    "duration": 658,
    "start_time": "2023-05-04T21:28:34.452Z"
   },
   {
    "duration": 496,
    "start_time": "2023-05-04T21:28:39.842Z"
   },
   {
    "duration": 241,
    "start_time": "2023-05-04T21:28:44.676Z"
   },
   {
    "duration": 27,
    "start_time": "2023-05-04T21:28:49.107Z"
   },
   {
    "duration": 213,
    "start_time": "2023-05-04T21:28:51.639Z"
   },
   {
    "duration": 66,
    "start_time": "2023-05-04T21:29:02.285Z"
   },
   {
    "duration": 9,
    "start_time": "2023-05-04T21:29:04.973Z"
   },
   {
    "duration": 14,
    "start_time": "2023-05-04T21:29:06.852Z"
   },
   {
    "duration": 20,
    "start_time": "2023-05-04T21:29:11.137Z"
   },
   {
    "duration": 43,
    "start_time": "2023-05-04T21:29:14.741Z"
   },
   {
    "duration": 21,
    "start_time": "2023-05-04T21:29:17.037Z"
   },
   {
    "duration": 157,
    "start_time": "2023-05-04T21:29:20.276Z"
   },
   {
    "duration": 65,
    "start_time": "2023-05-04T21:29:23.625Z"
   },
   {
    "duration": 8,
    "start_time": "2023-05-04T21:29:25.745Z"
   },
   {
    "duration": 169,
    "start_time": "2023-05-04T21:29:28.161Z"
   },
   {
    "duration": 171,
    "start_time": "2023-05-04T21:29:31.140Z"
   },
   {
    "duration": 64,
    "start_time": "2023-05-04T21:29:34.009Z"
   },
   {
    "duration": 163,
    "start_time": "2023-05-04T21:29:36.426Z"
   },
   {
    "duration": 61,
    "start_time": "2023-05-04T21:29:38.989Z"
   },
   {
    "duration": 160,
    "start_time": "2023-05-04T21:29:41.204Z"
   },
   {
    "duration": 63,
    "start_time": "2023-05-04T21:29:43.390Z"
   },
   {
    "duration": 162,
    "start_time": "2023-05-04T21:29:45.616Z"
   },
   {
    "duration": 8,
    "start_time": "2023-05-04T21:29:51.468Z"
   },
   {
    "duration": 229,
    "start_time": "2023-05-04T21:29:53.672Z"
   },
   {
    "duration": 2,
    "start_time": "2023-05-04T21:29:57.067Z"
   },
   {
    "duration": 15,
    "start_time": "2023-05-04T21:30:06.266Z"
   },
   {
    "duration": 1493,
    "start_time": "2023-05-05T16:56:41.160Z"
   },
   {
    "duration": 685,
    "start_time": "2023-05-05T16:56:42.654Z"
   },
   {
    "duration": 13,
    "start_time": "2023-05-05T16:56:43.340Z"
   },
   {
    "duration": 20,
    "start_time": "2023-05-05T16:56:43.355Z"
   },
   {
    "duration": 4,
    "start_time": "2023-05-05T16:56:43.376Z"
   },
   {
    "duration": 23,
    "start_time": "2023-05-05T16:56:43.382Z"
   },
   {
    "duration": 33,
    "start_time": "2023-05-05T16:56:43.407Z"
   },
   {
    "duration": 85,
    "start_time": "2023-05-05T16:56:43.454Z"
   },
   {
    "duration": 61,
    "start_time": "2023-05-05T16:56:43.542Z"
   },
   {
    "duration": 52,
    "start_time": "2023-05-05T16:56:43.606Z"
   },
   {
    "duration": 11,
    "start_time": "2023-05-05T16:56:43.659Z"
   },
   {
    "duration": 31,
    "start_time": "2023-05-05T16:56:43.671Z"
   },
   {
    "duration": 41,
    "start_time": "2023-05-05T16:56:43.704Z"
   },
   {
    "duration": 35,
    "start_time": "2023-05-05T16:56:43.747Z"
   },
   {
    "duration": 19,
    "start_time": "2023-05-05T16:56:43.784Z"
   },
   {
    "duration": 93,
    "start_time": "2023-05-05T16:56:43.805Z"
   },
   {
    "duration": 142,
    "start_time": "2023-05-05T16:56:43.900Z"
   },
   {
    "duration": 13,
    "start_time": "2023-05-05T16:56:44.044Z"
   },
   {
    "duration": 84,
    "start_time": "2023-05-05T16:56:44.059Z"
   },
   {
    "duration": 18,
    "start_time": "2023-05-05T16:56:44.146Z"
   },
   {
    "duration": 26,
    "start_time": "2023-05-05T16:56:44.166Z"
   },
   {
    "duration": 15,
    "start_time": "2023-05-05T16:56:44.194Z"
   },
   {
    "duration": 5,
    "start_time": "2023-05-05T16:56:44.211Z"
   },
   {
    "duration": 53,
    "start_time": "2023-05-05T16:56:44.218Z"
   },
   {
    "duration": 315,
    "start_time": "2023-05-05T16:56:44.273Z"
   },
   {
    "duration": 8,
    "start_time": "2023-05-05T16:56:44.590Z"
   },
   {
    "duration": 16,
    "start_time": "2023-05-05T16:56:44.600Z"
   },
   {
    "duration": 6,
    "start_time": "2023-05-05T16:56:44.620Z"
   },
   {
    "duration": 739,
    "start_time": "2023-05-05T16:56:44.628Z"
   },
   {
    "duration": 541,
    "start_time": "2023-05-05T16:56:45.369Z"
   },
   {
    "duration": 301,
    "start_time": "2023-05-05T16:56:45.912Z"
   },
   {
    "duration": 24,
    "start_time": "2023-05-05T16:56:46.215Z"
   },
   {
    "duration": 217,
    "start_time": "2023-05-05T16:56:46.241Z"
   },
   {
    "duration": 76,
    "start_time": "2023-05-05T16:56:46.460Z"
   },
   {
    "duration": 27,
    "start_time": "2023-05-05T16:56:46.539Z"
   },
   {
    "duration": 21,
    "start_time": "2023-05-05T16:56:46.569Z"
   },
   {
    "duration": 25,
    "start_time": "2023-05-05T16:56:46.592Z"
   },
   {
    "duration": 68,
    "start_time": "2023-05-05T16:56:46.619Z"
   },
   {
    "duration": 21,
    "start_time": "2023-05-05T16:56:46.688Z"
   },
   {
    "duration": 200,
    "start_time": "2023-05-05T16:56:46.711Z"
   },
   {
    "duration": 72,
    "start_time": "2023-05-05T16:56:46.913Z"
   },
   {
    "duration": 10,
    "start_time": "2023-05-05T16:56:46.987Z"
   },
   {
    "duration": 189,
    "start_time": "2023-05-05T16:56:46.999Z"
   },
   {
    "duration": 182,
    "start_time": "2023-05-05T16:56:47.189Z"
   },
   {
    "duration": 67,
    "start_time": "2023-05-05T16:56:47.374Z"
   },
   {
    "duration": 190,
    "start_time": "2023-05-05T16:56:47.456Z"
   },
   {
    "duration": 64,
    "start_time": "2023-05-05T16:56:47.648Z"
   },
   {
    "duration": 200,
    "start_time": "2023-05-05T16:56:47.714Z"
   },
   {
    "duration": 74,
    "start_time": "2023-05-05T16:56:47.917Z"
   },
   {
    "duration": 181,
    "start_time": "2023-05-05T16:56:47.993Z"
   },
   {
    "duration": 8,
    "start_time": "2023-05-05T16:56:48.176Z"
   },
   {
    "duration": 524,
    "start_time": "2023-05-05T16:56:48.186Z"
   },
   {
    "duration": 2,
    "start_time": "2023-05-05T16:56:48.712Z"
   },
   {
    "duration": 40,
    "start_time": "2023-05-05T16:56:48.716Z"
   },
   {
    "duration": 10,
    "start_time": "2023-05-05T16:56:48.758Z"
   },
   {
    "duration": 20,
    "start_time": "2023-05-05T16:56:48.770Z"
   },
   {
    "duration": 13,
    "start_time": "2023-05-05T16:56:48.792Z"
   },
   {
    "duration": 25,
    "start_time": "2023-05-05T16:56:48.808Z"
   },
   {
    "duration": 23,
    "start_time": "2023-05-05T16:56:48.835Z"
   },
   {
    "duration": 69,
    "start_time": "2023-05-05T16:56:48.860Z"
   },
   {
    "duration": 36,
    "start_time": "2023-05-05T16:56:48.931Z"
   },
   {
    "duration": 37,
    "start_time": "2023-05-05T16:56:48.969Z"
   },
   {
    "duration": 35,
    "start_time": "2023-05-05T16:56:49.007Z"
   },
   {
    "duration": 32,
    "start_time": "2023-05-05T16:56:49.044Z"
   },
   {
    "duration": 24,
    "start_time": "2023-05-05T16:56:49.078Z"
   },
   {
    "duration": 29,
    "start_time": "2023-05-05T16:56:49.104Z"
   },
   {
    "duration": 18,
    "start_time": "2023-05-05T16:56:49.135Z"
   },
   {
    "duration": 41,
    "start_time": "2023-05-05T16:56:49.155Z"
   }
  ],
  "kernelspec": {
   "display_name": "Python 3 (ipykernel)",
   "language": "python",
   "name": "python3"
  },
  "language_info": {
   "codemirror_mode": {
    "name": "ipython",
    "version": 3
   },
   "file_extension": ".py",
   "mimetype": "text/x-python",
   "name": "python",
   "nbconvert_exporter": "python",
   "pygments_lexer": "ipython3",
   "version": "3.9.13"
  },
  "toc": {
   "base_numbering": 1,
   "nav_menu": {},
   "number_sections": false,
   "sideBar": true,
   "skip_h1_title": false,
   "title_cell": "Table of Contents",
   "title_sidebar": "Contents",
   "toc_cell": false,
   "toc_position": {
    "height": "calc(100% - 180px)",
    "left": "10px",
    "top": "150px",
    "width": "212.415px"
   },
   "toc_section_display": true,
   "toc_window_display": true
  }
 },
 "nbformat": 4,
 "nbformat_minor": 2
}
